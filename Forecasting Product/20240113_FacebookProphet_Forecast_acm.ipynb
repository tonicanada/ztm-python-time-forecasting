{
 "cells": [
  {
   "cell_type": "markdown",
   "metadata": {
    "id": "S1VWfPNMkyg8"
   },
   "source": [
    "# Libraries and data"
   ]
  },
  {
   "cell_type": "code",
   "execution_count": 40,
   "metadata": {
    "id": "qBqmAVrWlGaE"
   },
   "outputs": [],
   "source": [
    "#libraries\n",
    "import numpy as np\n",
    "import pandas as pd\n",
    "from prophet import Prophet\n",
    "from prophet.diagnostics import cross_validation, performance_metrics\n",
    "from prophet.plot import plot_cross_validation_metric\n",
    "from sklearn.model_selection import ParameterGrid"
   ]
  },
  {
   "cell_type": "code",
   "execution_count": 3,
   "metadata": {
    "colab": {
     "base_uri": "https://localhost:8080/",
     "height": 206
    },
    "executionInfo": {
     "elapsed": 332,
     "status": "ok",
     "timestamp": 1656222426606,
     "user": {
      "displayName": "Diogo Resende",
      "userId": "05706604408624562002"
     },
     "user_tz": -120
    },
    "id": "KERBIPIRlIaj",
    "outputId": "f25d3d21-4438-4274-8891-af8c74601c98"
   },
   "outputs": [
    {
     "data": {
      "text/html": [
       "<div>\n",
       "<style scoped>\n",
       "    .dataframe tbody tr th:only-of-type {\n",
       "        vertical-align: middle;\n",
       "    }\n",
       "\n",
       "    .dataframe tbody tr th {\n",
       "        vertical-align: top;\n",
       "    }\n",
       "\n",
       "    .dataframe thead th {\n",
       "        text-align: right;\n",
       "    }\n",
       "</style>\n",
       "<table border=\"1\" class=\"dataframe\">\n",
       "  <thead>\n",
       "    <tr style=\"text-align: right;\">\n",
       "      <th></th>\n",
       "      <th>Date</th>\n",
       "      <th>Demand</th>\n",
       "      <th>Easter</th>\n",
       "      <th>Thanksgiving</th>\n",
       "      <th>Christmas</th>\n",
       "      <th>Temperature</th>\n",
       "      <th>Marketing</th>\n",
       "    </tr>\n",
       "  </thead>\n",
       "  <tbody>\n",
       "    <tr>\n",
       "      <th>0</th>\n",
       "      <td>1/1/2021</td>\n",
       "      <td>NaN</td>\n",
       "      <td>0</td>\n",
       "      <td>0</td>\n",
       "      <td>0</td>\n",
       "      <td>5.00</td>\n",
       "      <td>154.221</td>\n",
       "    </tr>\n",
       "    <tr>\n",
       "      <th>1</th>\n",
       "      <td>1/2/2021</td>\n",
       "      <td>NaN</td>\n",
       "      <td>0</td>\n",
       "      <td>0</td>\n",
       "      <td>0</td>\n",
       "      <td>11.11</td>\n",
       "      <td>264.805</td>\n",
       "    </tr>\n",
       "    <tr>\n",
       "      <th>2</th>\n",
       "      <td>1/3/2021</td>\n",
       "      <td>NaN</td>\n",
       "      <td>0</td>\n",
       "      <td>0</td>\n",
       "      <td>0</td>\n",
       "      <td>3.89</td>\n",
       "      <td>115.499</td>\n",
       "    </tr>\n",
       "    <tr>\n",
       "      <th>3</th>\n",
       "      <td>1/4/2021</td>\n",
       "      <td>NaN</td>\n",
       "      <td>0</td>\n",
       "      <td>0</td>\n",
       "      <td>0</td>\n",
       "      <td>6.67</td>\n",
       "      <td>124.650</td>\n",
       "    </tr>\n",
       "    <tr>\n",
       "      <th>4</th>\n",
       "      <td>1/5/2021</td>\n",
       "      <td>NaN</td>\n",
       "      <td>0</td>\n",
       "      <td>0</td>\n",
       "      <td>0</td>\n",
       "      <td>5.56</td>\n",
       "      <td>77.968</td>\n",
       "    </tr>\n",
       "  </tbody>\n",
       "</table>\n",
       "</div>"
      ],
      "text/plain": [
       "       Date  Demand  Easter  Thanksgiving  Christmas  Temperature  Marketing\n",
       "0  1/1/2021     NaN       0             0          0         5.00    154.221\n",
       "1  1/2/2021     NaN       0             0          0        11.11    264.805\n",
       "2  1/3/2021     NaN       0             0          0         3.89    115.499\n",
       "3  1/4/2021     NaN       0             0          0         6.67    124.650\n",
       "4  1/5/2021     NaN       0             0          0         5.56     77.968"
      ]
     },
     "execution_count": 3,
     "metadata": {},
     "output_type": "execute_result"
    }
   ],
   "source": [
    "#load the data\n",
    "#YYYY-MM-DD\n",
    "df = pd.read_csv('../nyc_data.csv')\n",
    "future_df = pd.read_csv('../future.csv')\n",
    "future_df.head()"
   ]
  },
  {
   "cell_type": "code",
   "execution_count": 4,
   "metadata": {
    "colab": {
     "base_uri": "https://localhost:8080/",
     "height": 206
    },
    "executionInfo": {
     "elapsed": 11,
     "status": "ok",
     "timestamp": 1656222427931,
     "user": {
      "displayName": "Diogo Resende",
      "userId": "05706604408624562002"
     },
     "user_tz": -120
    },
    "id": "p9jvsmQjrufw",
    "outputId": "ff822f63-afb4-4245-d3b2-761e8eb162d5"
   },
   "outputs": [
    {
     "data": {
      "text/html": [
       "<div>\n",
       "<style scoped>\n",
       "    .dataframe tbody tr th:only-of-type {\n",
       "        vertical-align: middle;\n",
       "    }\n",
       "\n",
       "    .dataframe tbody tr th {\n",
       "        vertical-align: top;\n",
       "    }\n",
       "\n",
       "    .dataframe thead th {\n",
       "        text-align: right;\n",
       "    }\n",
       "</style>\n",
       "<table border=\"1\" class=\"dataframe\">\n",
       "  <thead>\n",
       "    <tr style=\"text-align: right;\">\n",
       "      <th></th>\n",
       "      <th>Date</th>\n",
       "      <th>Demand</th>\n",
       "      <th>Easter</th>\n",
       "      <th>Thanksgiving</th>\n",
       "      <th>Christmas</th>\n",
       "      <th>Temperature</th>\n",
       "      <th>Marketing</th>\n",
       "    </tr>\n",
       "  </thead>\n",
       "  <tbody>\n",
       "    <tr>\n",
       "      <th>2218</th>\n",
       "      <td>1/27/2021</td>\n",
       "      <td>NaN</td>\n",
       "      <td>0</td>\n",
       "      <td>0</td>\n",
       "      <td>0</td>\n",
       "      <td>3.33</td>\n",
       "      <td>39.664</td>\n",
       "    </tr>\n",
       "    <tr>\n",
       "      <th>2219</th>\n",
       "      <td>1/28/2021</td>\n",
       "      <td>NaN</td>\n",
       "      <td>0</td>\n",
       "      <td>0</td>\n",
       "      <td>0</td>\n",
       "      <td>1.67</td>\n",
       "      <td>195.314</td>\n",
       "    </tr>\n",
       "    <tr>\n",
       "      <th>2220</th>\n",
       "      <td>1/29/2021</td>\n",
       "      <td>NaN</td>\n",
       "      <td>0</td>\n",
       "      <td>0</td>\n",
       "      <td>0</td>\n",
       "      <td>-2.78</td>\n",
       "      <td>235.894</td>\n",
       "    </tr>\n",
       "    <tr>\n",
       "      <th>2221</th>\n",
       "      <td>1/30/2021</td>\n",
       "      <td>NaN</td>\n",
       "      <td>0</td>\n",
       "      <td>0</td>\n",
       "      <td>0</td>\n",
       "      <td>1.11</td>\n",
       "      <td>152.752</td>\n",
       "    </tr>\n",
       "    <tr>\n",
       "      <th>2222</th>\n",
       "      <td>1/31/2021</td>\n",
       "      <td>NaN</td>\n",
       "      <td>0</td>\n",
       "      <td>0</td>\n",
       "      <td>0</td>\n",
       "      <td>4.44</td>\n",
       "      <td>158.620</td>\n",
       "    </tr>\n",
       "  </tbody>\n",
       "</table>\n",
       "</div>"
      ],
      "text/plain": [
       "           Date  Demand  Easter  Thanksgiving  Christmas  Temperature  \\\n",
       "2218  1/27/2021     NaN       0             0          0         3.33   \n",
       "2219  1/28/2021     NaN       0             0          0         1.67   \n",
       "2220  1/29/2021     NaN       0             0          0        -2.78   \n",
       "2221  1/30/2021     NaN       0             0          0         1.11   \n",
       "2222  1/31/2021     NaN       0             0          0         4.44   \n",
       "\n",
       "      Marketing  \n",
       "2218     39.664  \n",
       "2219    195.314  \n",
       "2220    235.894  \n",
       "2221    152.752  \n",
       "2222    158.620  "
      ]
     },
     "execution_count": 4,
     "metadata": {},
     "output_type": "execute_result"
    }
   ],
   "source": [
    "#merge both datasets\n",
    "df = pd.concat([df, future_df])\n",
    "df = df.reset_index(drop = True)\n",
    "df.tail()"
   ]
  },
  {
   "cell_type": "code",
   "execution_count": 5,
   "metadata": {
    "colab": {
     "base_uri": "https://localhost:8080/",
     "height": 49
    },
    "executionInfo": {
     "elapsed": 15,
     "status": "ok",
     "timestamp": 1656222429542,
     "user": {
      "displayName": "Diogo Resende",
      "userId": "05706604408624562002"
     },
     "user_tz": -120
    },
    "id": "s_aHVvxVlRTC",
    "outputId": "62ca17c4-f9a9-4161-9dbf-4e9ac647e860"
   },
   "outputs": [
    {
     "data": {
      "text/html": [
       "<div>\n",
       "<style scoped>\n",
       "    .dataframe tbody tr th:only-of-type {\n",
       "        vertical-align: middle;\n",
       "    }\n",
       "\n",
       "    .dataframe tbody tr th {\n",
       "        vertical-align: top;\n",
       "    }\n",
       "\n",
       "    .dataframe thead th {\n",
       "        text-align: right;\n",
       "    }\n",
       "</style>\n",
       "<table border=\"1\" class=\"dataframe\">\n",
       "  <thead>\n",
       "    <tr style=\"text-align: right;\">\n",
       "      <th></th>\n",
       "      <th>ds</th>\n",
       "      <th>y</th>\n",
       "      <th>Easter</th>\n",
       "      <th>Thanksgiving</th>\n",
       "      <th>Christmas</th>\n",
       "      <th>Temperature</th>\n",
       "      <th>Marketing</th>\n",
       "    </tr>\n",
       "  </thead>\n",
       "  <tbody>\n",
       "  </tbody>\n",
       "</table>\n",
       "</div>"
      ],
      "text/plain": [
       "Empty DataFrame\n",
       "Columns: [ds, y, Easter, Thanksgiving, Christmas, Temperature, Marketing]\n",
       "Index: []"
      ]
     },
     "execution_count": 5,
     "metadata": {},
     "output_type": "execute_result"
    }
   ],
   "source": [
    "#Rename variable\n",
    "df = df.rename(columns = {'Demand': 'y',\n",
    "                          'Date': 'ds'})\n",
    "df.head(0)"
   ]
  },
  {
   "cell_type": "code",
   "execution_count": 6,
   "metadata": {
    "colab": {
     "base_uri": "https://localhost:8080/"
    },
    "executionInfo": {
     "elapsed": 528,
     "status": "ok",
     "timestamp": 1656222430614,
     "user": {
      "displayName": "Diogo Resende",
      "userId": "05706604408624562002"
     },
     "user_tz": -120
    },
    "id": "q5gcNfSfl5no",
    "outputId": "f422f740-684a-4e63-b27a-b0c5339bd170"
   },
   "outputs": [
    {
     "data": {
      "text/plain": [
       "0      2015-01-01\n",
       "1      2015-01-02\n",
       "2      2015-01-03\n",
       "3      2015-01-04\n",
       "4      2015-01-05\n",
       "          ...    \n",
       "2218   2021-01-27\n",
       "2219   2021-01-28\n",
       "2220   2021-01-29\n",
       "2221   2021-01-30\n",
       "2222   2021-01-31\n",
       "Name: ds, Length: 2223, dtype: datetime64[ns]"
      ]
     },
     "execution_count": 6,
     "metadata": {},
     "output_type": "execute_result"
    }
   ],
   "source": [
    "#Date variable\n",
    "df.ds = pd.to_datetime(df.ds,\n",
    "                       format = \"%m/%d/%Y\")\n",
    "df.ds"
   ]
  },
  {
   "cell_type": "markdown",
   "metadata": {
    "id": "_VcvcPrImpSu"
   },
   "source": [
    "# Holidays"
   ]
  },
  {
   "cell_type": "code",
   "execution_count": 7,
   "metadata": {
    "id": "fC7y1_Xnmq53"
   },
   "outputs": [],
   "source": [
    "#Easter\n",
    "dates = pd.to_datetime(df[df.Easter == 1].ds)\n",
    "easter = pd.DataFrame({'holiday': 'easter',\n",
    "                       'ds': dates,\n",
    "                       'lower_window': -5,\n",
    "                       'upper_window': 2})"
   ]
  },
  {
   "cell_type": "code",
   "execution_count": 8,
   "metadata": {
    "colab": {
     "base_uri": "https://localhost:8080/",
     "height": 238
    },
    "executionInfo": {
     "elapsed": 17,
     "status": "ok",
     "timestamp": 1656222431900,
     "user": {
      "displayName": "Diogo Resende",
      "userId": "05706604408624562002"
     },
     "user_tz": -120
    },
    "id": "_-39doyoms6K",
    "outputId": "773bfcb1-3df6-49c5-dc53-027eeaa6b218"
   },
   "outputs": [
    {
     "data": {
      "text/html": [
       "<div>\n",
       "<style scoped>\n",
       "    .dataframe tbody tr th:only-of-type {\n",
       "        vertical-align: middle;\n",
       "    }\n",
       "\n",
       "    .dataframe tbody tr th {\n",
       "        vertical-align: top;\n",
       "    }\n",
       "\n",
       "    .dataframe thead th {\n",
       "        text-align: right;\n",
       "    }\n",
       "</style>\n",
       "<table border=\"1\" class=\"dataframe\">\n",
       "  <thead>\n",
       "    <tr style=\"text-align: right;\">\n",
       "      <th></th>\n",
       "      <th>holiday</th>\n",
       "      <th>ds</th>\n",
       "      <th>lower_window</th>\n",
       "      <th>upper_window</th>\n",
       "    </tr>\n",
       "  </thead>\n",
       "  <tbody>\n",
       "    <tr>\n",
       "      <th>329</th>\n",
       "      <td>thanksgiving</td>\n",
       "      <td>2015-11-26</td>\n",
       "      <td>-3</td>\n",
       "      <td>6</td>\n",
       "    </tr>\n",
       "    <tr>\n",
       "      <th>693</th>\n",
       "      <td>thanksgiving</td>\n",
       "      <td>2016-11-24</td>\n",
       "      <td>-3</td>\n",
       "      <td>6</td>\n",
       "    </tr>\n",
       "    <tr>\n",
       "      <th>1057</th>\n",
       "      <td>thanksgiving</td>\n",
       "      <td>2017-11-23</td>\n",
       "      <td>-3</td>\n",
       "      <td>6</td>\n",
       "    </tr>\n",
       "    <tr>\n",
       "      <th>1421</th>\n",
       "      <td>thanksgiving</td>\n",
       "      <td>2018-11-22</td>\n",
       "      <td>-3</td>\n",
       "      <td>6</td>\n",
       "    </tr>\n",
       "    <tr>\n",
       "      <th>1792</th>\n",
       "      <td>thanksgiving</td>\n",
       "      <td>2019-11-28</td>\n",
       "      <td>-3</td>\n",
       "      <td>6</td>\n",
       "    </tr>\n",
       "    <tr>\n",
       "      <th>2156</th>\n",
       "      <td>thanksgiving</td>\n",
       "      <td>2020-11-26</td>\n",
       "      <td>-3</td>\n",
       "      <td>6</td>\n",
       "    </tr>\n",
       "  </tbody>\n",
       "</table>\n",
       "</div>"
      ],
      "text/plain": [
       "           holiday         ds  lower_window  upper_window\n",
       "329   thanksgiving 2015-11-26            -3             6\n",
       "693   thanksgiving 2016-11-24            -3             6\n",
       "1057  thanksgiving 2017-11-23            -3             6\n",
       "1421  thanksgiving 2018-11-22            -3             6\n",
       "1792  thanksgiving 2019-11-28            -3             6\n",
       "2156  thanksgiving 2020-11-26            -3             6"
      ]
     },
     "execution_count": 8,
     "metadata": {},
     "output_type": "execute_result"
    }
   ],
   "source": [
    "#Thanksgiving\n",
    "dates = pd.to_datetime(df[df.Thanksgiving == 1].ds)\n",
    "thanksgiving = pd.DataFrame({'holiday': 'thanksgiving',\n",
    "                             'ds': dates,\n",
    "                             'lower_window': -3,\n",
    "                             'upper_window': 6})\n",
    "thanksgiving"
   ]
  },
  {
   "cell_type": "code",
   "execution_count": 9,
   "metadata": {
    "colab": {
     "base_uri": "https://localhost:8080/",
     "height": 426
    },
    "executionInfo": {
     "elapsed": 17,
     "status": "ok",
     "timestamp": 1656222432311,
     "user": {
      "displayName": "Diogo Resende",
      "userId": "05706604408624562002"
     },
     "user_tz": -120
    },
    "id": "KZv2RVb8pAuV",
    "outputId": "485ac61e-23db-419e-d61b-e6fc70aaee8c"
   },
   "outputs": [
    {
     "data": {
      "text/html": [
       "<div>\n",
       "<style scoped>\n",
       "    .dataframe tbody tr th:only-of-type {\n",
       "        vertical-align: middle;\n",
       "    }\n",
       "\n",
       "    .dataframe tbody tr th {\n",
       "        vertical-align: top;\n",
       "    }\n",
       "\n",
       "    .dataframe thead th {\n",
       "        text-align: right;\n",
       "    }\n",
       "</style>\n",
       "<table border=\"1\" class=\"dataframe\">\n",
       "  <thead>\n",
       "    <tr style=\"text-align: right;\">\n",
       "      <th></th>\n",
       "      <th>holiday</th>\n",
       "      <th>ds</th>\n",
       "      <th>lower_window</th>\n",
       "      <th>upper_window</th>\n",
       "    </tr>\n",
       "  </thead>\n",
       "  <tbody>\n",
       "    <tr>\n",
       "      <th>94</th>\n",
       "      <td>easter</td>\n",
       "      <td>2015-04-05</td>\n",
       "      <td>-5</td>\n",
       "      <td>2</td>\n",
       "    </tr>\n",
       "    <tr>\n",
       "      <th>451</th>\n",
       "      <td>easter</td>\n",
       "      <td>2016-03-27</td>\n",
       "      <td>-5</td>\n",
       "      <td>2</td>\n",
       "    </tr>\n",
       "    <tr>\n",
       "      <th>836</th>\n",
       "      <td>easter</td>\n",
       "      <td>2017-04-16</td>\n",
       "      <td>-5</td>\n",
       "      <td>2</td>\n",
       "    </tr>\n",
       "    <tr>\n",
       "      <th>1186</th>\n",
       "      <td>easter</td>\n",
       "      <td>2018-04-01</td>\n",
       "      <td>-5</td>\n",
       "      <td>2</td>\n",
       "    </tr>\n",
       "    <tr>\n",
       "      <th>1571</th>\n",
       "      <td>easter</td>\n",
       "      <td>2019-04-21</td>\n",
       "      <td>-5</td>\n",
       "      <td>2</td>\n",
       "    </tr>\n",
       "    <tr>\n",
       "      <th>1928</th>\n",
       "      <td>easter</td>\n",
       "      <td>2020-04-12</td>\n",
       "      <td>-5</td>\n",
       "      <td>2</td>\n",
       "    </tr>\n",
       "    <tr>\n",
       "      <th>329</th>\n",
       "      <td>thanksgiving</td>\n",
       "      <td>2015-11-26</td>\n",
       "      <td>-3</td>\n",
       "      <td>6</td>\n",
       "    </tr>\n",
       "    <tr>\n",
       "      <th>693</th>\n",
       "      <td>thanksgiving</td>\n",
       "      <td>2016-11-24</td>\n",
       "      <td>-3</td>\n",
       "      <td>6</td>\n",
       "    </tr>\n",
       "    <tr>\n",
       "      <th>1057</th>\n",
       "      <td>thanksgiving</td>\n",
       "      <td>2017-11-23</td>\n",
       "      <td>-3</td>\n",
       "      <td>6</td>\n",
       "    </tr>\n",
       "    <tr>\n",
       "      <th>1421</th>\n",
       "      <td>thanksgiving</td>\n",
       "      <td>2018-11-22</td>\n",
       "      <td>-3</td>\n",
       "      <td>6</td>\n",
       "    </tr>\n",
       "    <tr>\n",
       "      <th>1792</th>\n",
       "      <td>thanksgiving</td>\n",
       "      <td>2019-11-28</td>\n",
       "      <td>-3</td>\n",
       "      <td>6</td>\n",
       "    </tr>\n",
       "    <tr>\n",
       "      <th>2156</th>\n",
       "      <td>thanksgiving</td>\n",
       "      <td>2020-11-26</td>\n",
       "      <td>-3</td>\n",
       "      <td>6</td>\n",
       "    </tr>\n",
       "  </tbody>\n",
       "</table>\n",
       "</div>"
      ],
      "text/plain": [
       "           holiday         ds  lower_window  upper_window\n",
       "94          easter 2015-04-05            -5             2\n",
       "451         easter 2016-03-27            -5             2\n",
       "836         easter 2017-04-16            -5             2\n",
       "1186        easter 2018-04-01            -5             2\n",
       "1571        easter 2019-04-21            -5             2\n",
       "1928        easter 2020-04-12            -5             2\n",
       "329   thanksgiving 2015-11-26            -3             6\n",
       "693   thanksgiving 2016-11-24            -3             6\n",
       "1057  thanksgiving 2017-11-23            -3             6\n",
       "1421  thanksgiving 2018-11-22            -3             6\n",
       "1792  thanksgiving 2019-11-28            -3             6\n",
       "2156  thanksgiving 2020-11-26            -3             6"
      ]
     },
     "execution_count": 9,
     "metadata": {},
     "output_type": "execute_result"
    }
   ],
   "source": [
    "#Combining events\n",
    "holidays = pd.concat([easter, thanksgiving])\n",
    "holidays"
   ]
  },
  {
   "cell_type": "code",
   "execution_count": 10,
   "metadata": {
    "colab": {
     "base_uri": "https://localhost:8080/",
     "height": 49
    },
    "executionInfo": {
     "elapsed": 16,
     "status": "ok",
     "timestamp": 1656222433125,
     "user": {
      "displayName": "Diogo Resende",
      "userId": "05706604408624562002"
     },
     "user_tz": -120
    },
    "id": "qMuW_Po82Kro",
    "outputId": "c68da75c-6b4d-4621-a150-ee5c85e2e87d"
   },
   "outputs": [
    {
     "data": {
      "text/html": [
       "<div>\n",
       "<style scoped>\n",
       "    .dataframe tbody tr th:only-of-type {\n",
       "        vertical-align: middle;\n",
       "    }\n",
       "\n",
       "    .dataframe tbody tr th {\n",
       "        vertical-align: top;\n",
       "    }\n",
       "\n",
       "    .dataframe thead th {\n",
       "        text-align: right;\n",
       "    }\n",
       "</style>\n",
       "<table border=\"1\" class=\"dataframe\">\n",
       "  <thead>\n",
       "    <tr style=\"text-align: right;\">\n",
       "      <th></th>\n",
       "      <th>ds</th>\n",
       "      <th>y</th>\n",
       "      <th>Christmas</th>\n",
       "      <th>Temperature</th>\n",
       "      <th>Marketing</th>\n",
       "    </tr>\n",
       "  </thead>\n",
       "  <tbody>\n",
       "  </tbody>\n",
       "</table>\n",
       "</div>"
      ],
      "text/plain": [
       "Empty DataFrame\n",
       "Columns: [ds, y, Christmas, Temperature, Marketing]\n",
       "Index: []"
      ]
     },
     "execution_count": 10,
     "metadata": {},
     "output_type": "execute_result"
    }
   ],
   "source": [
    "#removing the holiday columns\n",
    "df = df.drop(columns = [\"Easter\", \"Thanksgiving\"])\n",
    "df.head(0)"
   ]
  },
  {
   "cell_type": "markdown",
   "metadata": {
    "id": "NnCXCoVu35tm"
   },
   "source": [
    "# Facebook Prophet model"
   ]
  },
  {
   "cell_type": "code",
   "execution_count": 12,
   "metadata": {
    "id": "_YQzH9Y2su0-"
   },
   "outputs": [],
   "source": [
    "#Split the data \n",
    "training = df.iloc[:-31,:]\n",
    "future_df = df.iloc[-31:,:]"
   ]
  },
  {
   "cell_type": "code",
   "execution_count": 58,
   "metadata": {
    "colab": {
     "base_uri": "https://localhost:8080/",
     "height": 206
    },
    "executionInfo": {
     "elapsed": 13,
     "status": "ok",
     "timestamp": 1656222644639,
     "user": {
      "displayName": "Diogo Resende",
      "userId": "05706604408624562002"
     },
     "user_tz": -120
    },
    "id": "FZUgXYF-fkBJ",
    "outputId": "a1cc1b80-2cdd-4334-92fb-380bb801357b"
   },
   "outputs": [
    {
     "data": {
      "text/html": [
       "<div>\n",
       "<style scoped>\n",
       "    .dataframe tbody tr th:only-of-type {\n",
       "        vertical-align: middle;\n",
       "    }\n",
       "\n",
       "    .dataframe tbody tr th {\n",
       "        vertical-align: top;\n",
       "    }\n",
       "\n",
       "    .dataframe thead th {\n",
       "        text-align: right;\n",
       "    }\n",
       "</style>\n",
       "<table border=\"1\" class=\"dataframe\">\n",
       "  <thead>\n",
       "    <tr style=\"text-align: right;\">\n",
       "      <th></th>\n",
       "      <th>34</th>\n",
       "    </tr>\n",
       "  </thead>\n",
       "  <tbody>\n",
       "    <tr>\n",
       "      <th>changepoint_prior_scale</th>\n",
       "      <td>0.01</td>\n",
       "    </tr>\n",
       "    <tr>\n",
       "      <th>holidays_prior_scale</th>\n",
       "      <td>5</td>\n",
       "    </tr>\n",
       "    <tr>\n",
       "      <th>seasonality_mode</th>\n",
       "      <td>additive</td>\n",
       "    </tr>\n",
       "    <tr>\n",
       "      <th>seasonality_prior_scale</th>\n",
       "      <td>10</td>\n",
       "    </tr>\n",
       "    <tr>\n",
       "      <th>rmse</th>\n",
       "      <td>48.06303866123096</td>\n",
       "    </tr>\n",
       "  </tbody>\n",
       "</table>\n",
       "</div>"
      ],
      "text/plain": [
       "                                        34\n",
       "changepoint_prior_scale               0.01\n",
       "holidays_prior_scale                     5\n",
       "seasonality_mode                  additive\n",
       "seasonality_prior_scale                 10\n",
       "rmse                     48.06303866123096"
      ]
     },
     "execution_count": 58,
     "metadata": {},
     "output_type": "execute_result"
    }
   ],
   "source": [
    "#Fetch the parameters\n",
    "#Estos parámetros salen después de haber tuneado (ver \"parameter tuning\")\n",
    "parameters = pd.read_csv(\"../Forecasting Product/best_params_prophet.csv\", \n",
    "                         index_col = 0)\n",
    "parameters"
   ]
  },
  {
   "cell_type": "code",
   "execution_count": 14,
   "metadata": {
    "id": "Jrsn2ZNegFn7"
   },
   "outputs": [],
   "source": [
    "#Extract the values\n",
    "changepoint_prior_scale = float(parameters.loc[\"changepoint_prior_scale\"].iloc[0])\n",
    "holidays_prior_scale = float(parameters.loc[\"holidays_prior_scale\"].iloc[0])\n",
    "seasonality_prior_scale = float(parameters.loc[\"seasonality_prior_scale\"].iloc[0])\n",
    "seasonality_mode = parameters.loc[\"seasonality_mode\"].iloc[0]"
   ]
  },
  {
   "cell_type": "code",
   "execution_count": 15,
   "metadata": {
    "colab": {
     "base_uri": "https://localhost:8080/"
    },
    "executionInfo": {
     "elapsed": 1103,
     "status": "ok",
     "timestamp": 1656222647733,
     "user": {
      "displayName": "Diogo Resende",
      "userId": "05706604408624562002"
     },
     "user_tz": -120
    },
    "id": "4LXLQV9ue9cK",
    "outputId": "b08a4ea7-a5eb-4e4c-d0a0-47db34338fdc"
   },
   "outputs": [
    {
     "name": "stderr",
     "output_type": "stream",
     "text": [
      "20:06:17 - cmdstanpy - INFO - Chain [1] start processing\n",
      "20:06:17 - cmdstanpy - INFO - Chain [1] done processing\n"
     ]
    },
    {
     "data": {
      "text/plain": [
       "<prophet.forecaster.Prophet at 0x7f5ac97de610>"
      ]
     },
     "execution_count": 15,
     "metadata": {},
     "output_type": "execute_result"
    }
   ],
   "source": [
    "#FB model\n",
    "m = Prophet(holidays = holidays,\n",
    "            seasonality_mode = seasonality_mode,\n",
    "            seasonality_prior_scale = seasonality_prior_scale,\n",
    "            holidays_prior_scale = holidays_prior_scale,\n",
    "            changepoint_prior_scale = changepoint_prior_scale)\n",
    "m.add_regressor('Christmas')\n",
    "m.add_regressor('Temperature')\n",
    "m.add_regressor('Marketing')\n",
    "m.fit(training)"
   ]
  },
  {
   "cell_type": "markdown",
   "metadata": {
    "id": "qqHm-qpXj1Jn"
   },
   "source": [
    "# Forecasting"
   ]
  },
  {
   "cell_type": "code",
   "execution_count": 16,
   "metadata": {
    "colab": {
     "base_uri": "https://localhost:8080/",
     "height": 206
    },
    "executionInfo": {
     "elapsed": 324,
     "status": "ok",
     "timestamp": 1656222846638,
     "user": {
      "displayName": "Diogo Resende",
      "userId": "05706604408624562002"
     },
     "user_tz": -120
    },
    "id": "KcOA78mbkAxF",
    "outputId": "14de5e09-6c47-4bf7-db61-0116a6499a34"
   },
   "outputs": [
    {
     "data": {
      "text/html": [
       "<div>\n",
       "<style scoped>\n",
       "    .dataframe tbody tr th:only-of-type {\n",
       "        vertical-align: middle;\n",
       "    }\n",
       "\n",
       "    .dataframe tbody tr th {\n",
       "        vertical-align: top;\n",
       "    }\n",
       "\n",
       "    .dataframe thead th {\n",
       "        text-align: right;\n",
       "    }\n",
       "</style>\n",
       "<table border=\"1\" class=\"dataframe\">\n",
       "  <thead>\n",
       "    <tr style=\"text-align: right;\">\n",
       "      <th></th>\n",
       "      <th>ds</th>\n",
       "      <th>Christmas</th>\n",
       "      <th>Temperature</th>\n",
       "      <th>Marketing</th>\n",
       "    </tr>\n",
       "  </thead>\n",
       "  <tbody>\n",
       "    <tr>\n",
       "      <th>0</th>\n",
       "      <td>2015-01-01</td>\n",
       "      <td>0</td>\n",
       "      <td>3.68</td>\n",
       "      <td>41.305</td>\n",
       "    </tr>\n",
       "    <tr>\n",
       "      <th>1</th>\n",
       "      <td>2015-01-02</td>\n",
       "      <td>0</td>\n",
       "      <td>4.73</td>\n",
       "      <td>131.574</td>\n",
       "    </tr>\n",
       "    <tr>\n",
       "      <th>2</th>\n",
       "      <td>2015-01-03</td>\n",
       "      <td>0</td>\n",
       "      <td>7.23</td>\n",
       "      <td>162.700</td>\n",
       "    </tr>\n",
       "    <tr>\n",
       "      <th>3</th>\n",
       "      <td>2015-01-04</td>\n",
       "      <td>0</td>\n",
       "      <td>10.96</td>\n",
       "      <td>160.281</td>\n",
       "    </tr>\n",
       "    <tr>\n",
       "      <th>4</th>\n",
       "      <td>2015-01-05</td>\n",
       "      <td>0</td>\n",
       "      <td>6.92</td>\n",
       "      <td>51.077</td>\n",
       "    </tr>\n",
       "  </tbody>\n",
       "</table>\n",
       "</div>"
      ],
      "text/plain": [
       "          ds  Christmas  Temperature  Marketing\n",
       "0 2015-01-01          0         3.68     41.305\n",
       "1 2015-01-02          0         4.73    131.574\n",
       "2 2015-01-03          0         7.23    162.700\n",
       "3 2015-01-04          0        10.96    160.281\n",
       "4 2015-01-05          0         6.92     51.077"
      ]
     },
     "execution_count": 16,
     "metadata": {},
     "output_type": "execute_result"
    }
   ],
   "source": [
    "#make a future dataframe\n",
    "future = m.make_future_dataframe(periods = len(future_df),\n",
    "                                 freq = \"D\") #W for weekly or M for monthly\n",
    "\n",
    "future = pd.concat([future, df.iloc[:,2:]], axis = 1)\n",
    "future.head()"
   ]
  },
  {
   "cell_type": "code",
   "execution_count": 17,
   "metadata": {
    "colab": {
     "base_uri": "https://localhost:8080/",
     "height": 386
    },
    "executionInfo": {
     "elapsed": 2830,
     "status": "ok",
     "timestamp": 1656222920615,
     "user": {
      "displayName": "Diogo Resende",
      "userId": "05706604408624562002"
     },
     "user_tz": -120
    },
    "id": "F3weKpxhk3-i",
    "outputId": "ab2be899-edf0-4023-e04f-f31231766327"
   },
   "outputs": [
    {
     "data": {
      "text/html": [
       "<div>\n",
       "<style scoped>\n",
       "    .dataframe tbody tr th:only-of-type {\n",
       "        vertical-align: middle;\n",
       "    }\n",
       "\n",
       "    .dataframe tbody tr th {\n",
       "        vertical-align: top;\n",
       "    }\n",
       "\n",
       "    .dataframe thead th {\n",
       "        text-align: right;\n",
       "    }\n",
       "</style>\n",
       "<table border=\"1\" class=\"dataframe\">\n",
       "  <thead>\n",
       "    <tr style=\"text-align: right;\">\n",
       "      <th></th>\n",
       "      <th>ds</th>\n",
       "      <th>trend</th>\n",
       "      <th>yhat_lower</th>\n",
       "      <th>yhat_upper</th>\n",
       "      <th>trend_lower</th>\n",
       "      <th>trend_upper</th>\n",
       "      <th>Christmas</th>\n",
       "      <th>Christmas_lower</th>\n",
       "      <th>Christmas_upper</th>\n",
       "      <th>Marketing</th>\n",
       "      <th>...</th>\n",
       "      <th>weekly</th>\n",
       "      <th>weekly_lower</th>\n",
       "      <th>weekly_upper</th>\n",
       "      <th>yearly</th>\n",
       "      <th>yearly_lower</th>\n",
       "      <th>yearly_upper</th>\n",
       "      <th>multiplicative_terms</th>\n",
       "      <th>multiplicative_terms_lower</th>\n",
       "      <th>multiplicative_terms_upper</th>\n",
       "      <th>yhat</th>\n",
       "    </tr>\n",
       "  </thead>\n",
       "  <tbody>\n",
       "    <tr>\n",
       "      <th>0</th>\n",
       "      <td>2015-01-01</td>\n",
       "      <td>594.566158</td>\n",
       "      <td>612.738600</td>\n",
       "      <td>761.597704</td>\n",
       "      <td>594.566158</td>\n",
       "      <td>594.566158</td>\n",
       "      <td>0.0</td>\n",
       "      <td>0.0</td>\n",
       "      <td>0.0</td>\n",
       "      <td>-3.364385</td>\n",
       "      <td>...</td>\n",
       "      <td>-4.050387</td>\n",
       "      <td>-4.050387</td>\n",
       "      <td>-4.050387</td>\n",
       "      <td>90.342508</td>\n",
       "      <td>90.342508</td>\n",
       "      <td>90.342508</td>\n",
       "      <td>0.0</td>\n",
       "      <td>0.0</td>\n",
       "      <td>0.0</td>\n",
       "      <td>688.105581</td>\n",
       "    </tr>\n",
       "    <tr>\n",
       "      <th>1</th>\n",
       "      <td>2015-01-02</td>\n",
       "      <td>594.682442</td>\n",
       "      <td>531.462868</td>\n",
       "      <td>671.013328</td>\n",
       "      <td>594.682442</td>\n",
       "      <td>594.682442</td>\n",
       "      <td>0.0</td>\n",
       "      <td>0.0</td>\n",
       "      <td>0.0</td>\n",
       "      <td>0.193030</td>\n",
       "      <td>...</td>\n",
       "      <td>-89.459364</td>\n",
       "      <td>-89.459364</td>\n",
       "      <td>-89.459364</td>\n",
       "      <td>88.983244</td>\n",
       "      <td>88.983244</td>\n",
       "      <td>88.983244</td>\n",
       "      <td>0.0</td>\n",
       "      <td>0.0</td>\n",
       "      <td>0.0</td>\n",
       "      <td>604.027838</td>\n",
       "    </tr>\n",
       "    <tr>\n",
       "      <th>2</th>\n",
       "      <td>2015-01-03</td>\n",
       "      <td>594.798727</td>\n",
       "      <td>649.528692</td>\n",
       "      <td>785.135956</td>\n",
       "      <td>594.798727</td>\n",
       "      <td>594.798727</td>\n",
       "      <td>0.0</td>\n",
       "      <td>0.0</td>\n",
       "      <td>0.0</td>\n",
       "      <td>1.419676</td>\n",
       "      <td>...</td>\n",
       "      <td>25.265281</td>\n",
       "      <td>25.265281</td>\n",
       "      <td>25.265281</td>\n",
       "      <td>87.789117</td>\n",
       "      <td>87.789117</td>\n",
       "      <td>87.789117</td>\n",
       "      <td>0.0</td>\n",
       "      <td>0.0</td>\n",
       "      <td>0.0</td>\n",
       "      <td>716.560334</td>\n",
       "    </tr>\n",
       "    <tr>\n",
       "      <th>3</th>\n",
       "      <td>2015-01-04</td>\n",
       "      <td>594.915011</td>\n",
       "      <td>562.605392</td>\n",
       "      <td>697.575070</td>\n",
       "      <td>594.915011</td>\n",
       "      <td>594.915011</td>\n",
       "      <td>0.0</td>\n",
       "      <td>0.0</td>\n",
       "      <td>0.0</td>\n",
       "      <td>1.324345</td>\n",
       "      <td>...</td>\n",
       "      <td>-55.613893</td>\n",
       "      <td>-55.613893</td>\n",
       "      <td>-55.613893</td>\n",
       "      <td>86.779136</td>\n",
       "      <td>86.779136</td>\n",
       "      <td>86.779136</td>\n",
       "      <td>0.0</td>\n",
       "      <td>0.0</td>\n",
       "      <td>0.0</td>\n",
       "      <td>631.199430</td>\n",
       "    </tr>\n",
       "    <tr>\n",
       "      <th>4</th>\n",
       "      <td>2015-01-05</td>\n",
       "      <td>595.031295</td>\n",
       "      <td>691.587812</td>\n",
       "      <td>829.987849</td>\n",
       "      <td>595.031295</td>\n",
       "      <td>595.031295</td>\n",
       "      <td>0.0</td>\n",
       "      <td>0.0</td>\n",
       "      <td>0.0</td>\n",
       "      <td>-2.979280</td>\n",
       "      <td>...</td>\n",
       "      <td>74.332012</td>\n",
       "      <td>74.332012</td>\n",
       "      <td>74.332012</td>\n",
       "      <td>85.966718</td>\n",
       "      <td>85.966718</td>\n",
       "      <td>85.966718</td>\n",
       "      <td>0.0</td>\n",
       "      <td>0.0</td>\n",
       "      <td>0.0</td>\n",
       "      <td>759.928556</td>\n",
       "    </tr>\n",
       "  </tbody>\n",
       "</table>\n",
       "<p>5 rows × 40 columns</p>\n",
       "</div>"
      ],
      "text/plain": [
       "          ds       trend  yhat_lower  yhat_upper  trend_lower  trend_upper  \\\n",
       "0 2015-01-01  594.566158  612.738600  761.597704   594.566158   594.566158   \n",
       "1 2015-01-02  594.682442  531.462868  671.013328   594.682442   594.682442   \n",
       "2 2015-01-03  594.798727  649.528692  785.135956   594.798727   594.798727   \n",
       "3 2015-01-04  594.915011  562.605392  697.575070   594.915011   594.915011   \n",
       "4 2015-01-05  595.031295  691.587812  829.987849   595.031295   595.031295   \n",
       "\n",
       "   Christmas  Christmas_lower  Christmas_upper  Marketing  ...     weekly  \\\n",
       "0        0.0              0.0              0.0  -3.364385  ...  -4.050387   \n",
       "1        0.0              0.0              0.0   0.193030  ... -89.459364   \n",
       "2        0.0              0.0              0.0   1.419676  ...  25.265281   \n",
       "3        0.0              0.0              0.0   1.324345  ... -55.613893   \n",
       "4        0.0              0.0              0.0  -2.979280  ...  74.332012   \n",
       "\n",
       "   weekly_lower  weekly_upper     yearly  yearly_lower  yearly_upper  \\\n",
       "0     -4.050387     -4.050387  90.342508     90.342508     90.342508   \n",
       "1    -89.459364    -89.459364  88.983244     88.983244     88.983244   \n",
       "2     25.265281     25.265281  87.789117     87.789117     87.789117   \n",
       "3    -55.613893    -55.613893  86.779136     86.779136     86.779136   \n",
       "4     74.332012     74.332012  85.966718     85.966718     85.966718   \n",
       "\n",
       "   multiplicative_terms  multiplicative_terms_lower  \\\n",
       "0                   0.0                         0.0   \n",
       "1                   0.0                         0.0   \n",
       "2                   0.0                         0.0   \n",
       "3                   0.0                         0.0   \n",
       "4                   0.0                         0.0   \n",
       "\n",
       "   multiplicative_terms_upper        yhat  \n",
       "0                         0.0  688.105581  \n",
       "1                         0.0  604.027838  \n",
       "2                         0.0  716.560334  \n",
       "3                         0.0  631.199430  \n",
       "4                         0.0  759.928556  \n",
       "\n",
       "[5 rows x 40 columns]"
      ]
     },
     "execution_count": 17,
     "metadata": {},
     "output_type": "execute_result"
    }
   ],
   "source": [
    "#Forecasting\n",
    "forecast = m.predict(future)\n",
    "forecast.head()"
   ]
  },
  {
   "cell_type": "code",
   "execution_count": null,
   "metadata": {
    "colab": {
     "base_uri": "https://localhost:8080/",
     "height": 1000
    },
    "executionInfo": {
     "elapsed": 2367,
     "status": "ok",
     "timestamp": 1656223011380,
     "user": {
      "displayName": "Diogo Resende",
      "userId": "05706604408624562002"
     },
     "user_tz": -120
    },
    "id": "6R62Tp16lR_8",
    "outputId": "6e6191d7-7184-4530-bc8d-5d65d5779370"
   },
   "outputs": [
    {
     "data": {
      "image/png": "[encoded data removed]",
      "text/plain": [
       "<Figure size 648x1080 with 5 Axes>"
      ]
     },
     "metadata": {},
     "output_type": "display_data"
    }
   ],
   "source": [
    "#Plotting\n",
    "m.plot_components(forecast);"
   ]
  },
  {
   "cell_type": "code",
   "execution_count": 18,
   "metadata": {
    "id": "KsWQXNARmBDO"
   },
   "outputs": [
    {
     "data": {
      "text/plain": [
       "ds\n",
       "2021-01-01    723.554897\n",
       "2021-01-02    835.213356\n",
       "2021-01-03    753.683264\n",
       "2021-01-04    880.050649\n",
       "2021-01-05    750.028237\n",
       "2021-01-06    912.296738\n",
       "2021-01-07    800.095325\n",
       "2021-01-08    720.579255\n",
       "2021-01-09    830.031808\n",
       "2021-01-10    744.728574\n",
       "2021-01-11    879.246937\n",
       "2021-01-12    753.594009\n",
       "2021-01-13    902.233836\n",
       "2021-01-14    801.705357\n",
       "2021-01-15    711.832042\n",
       "2021-01-16    828.003313\n",
       "2021-01-17    748.491259\n",
       "2021-01-18    878.577910\n",
       "2021-01-19    747.631421\n",
       "2021-01-20    904.464137\n",
       "2021-01-21    799.903776\n",
       "2021-01-22    708.510840\n",
       "2021-01-23    829.375943\n",
       "2021-01-24    753.463359\n",
       "2021-01-25    874.533462\n",
       "2021-01-26    751.844119\n",
       "2021-01-27    901.394220\n",
       "2021-01-28    800.255847\n",
       "2021-01-29    718.947760\n",
       "2021-01-30    824.933225\n",
       "2021-01-31    739.211740\n",
       "Name: prophet, dtype: float64"
      ]
     },
     "execution_count": 18,
     "metadata": {},
     "output_type": "execute_result"
    }
   ],
   "source": [
    "#extract the predictions\n",
    "predictions_prophet = forecast.yhat[-len(future_df):].rename(\"prophet\")\n",
    "predictions_prophet.index = future_df[\"ds\"]\n",
    "predictions_prophet"
   ]
  },
  {
   "cell_type": "code",
   "execution_count": 19,
   "metadata": {
    "id": "IV253SkOmhTA"
   },
   "outputs": [],
   "source": [
    "#export\n",
    "predictions_prophet.to_csv(\"../Forecasting Product/Ensemble/predictions_prophet.csv\")"
   ]
  },
  {
   "cell_type": "markdown",
   "metadata": {},
   "source": [
    "# Cross-Validation"
   ]
  },
  {
   "cell_type": "code",
   "execution_count": 23,
   "metadata": {},
   "outputs": [
    {
     "data": {
      "text/plain": [
       "2043"
      ]
     },
     "execution_count": 23,
     "metadata": {},
     "output_type": "execute_result"
    }
   ],
   "source": [
    "#Check how many observations\n",
    "df.shape[0] - 180"
   ]
  },
  {
   "cell_type": "code",
   "execution_count": 24,
   "metadata": {},
   "outputs": [
    {
     "name": "stderr",
     "output_type": "stream",
     "text": [
      "20:28:19 - cmdstanpy - INFO - Chain [1] start processing\n",
      "20:28:19 - cmdstanpy - INFO - Chain [1] start processing\n",
      "20:28:19 - cmdstanpy - INFO - Chain [1] start processing\n",
      "20:28:19 - cmdstanpy - INFO - Chain [1] start processing\n",
      "20:28:19 - cmdstanpy - INFO - Chain [1] start processing\n",
      "20:28:19 - cmdstanpy - INFO - Chain [1] start processing\n",
      "20:28:19 - cmdstanpy - INFO - Chain [1] start processing\n",
      "20:28:19 - cmdstanpy - INFO - Chain [1] start processing\n",
      "20:28:19 - cmdstanpy - INFO - Chain [1] done processing\n",
      "20:28:19 - cmdstanpy - INFO - Chain [1] done processing\n",
      "20:28:19 - cmdstanpy - INFO - Chain [1] done processing\n",
      "20:28:19 - cmdstanpy - INFO - Chain [1] done processing\n",
      "20:28:19 - cmdstanpy - INFO - Chain [1] done processing\n",
      "20:28:19 - cmdstanpy - INFO - Chain [1] done processing\n",
      "20:28:19 - cmdstanpy - INFO - Chain [1] done processing\n",
      "20:28:19 - cmdstanpy - INFO - Chain [1] done processing\n"
     ]
    },
    {
     "data": {
      "text/html": [
       "<div>\n",
       "<style scoped>\n",
       "    .dataframe tbody tr th:only-of-type {\n",
       "        vertical-align: middle;\n",
       "    }\n",
       "\n",
       "    .dataframe tbody tr th {\n",
       "        vertical-align: top;\n",
       "    }\n",
       "\n",
       "    .dataframe thead th {\n",
       "        text-align: right;\n",
       "    }\n",
       "</style>\n",
       "<table border=\"1\" class=\"dataframe\">\n",
       "  <thead>\n",
       "    <tr style=\"text-align: right;\">\n",
       "      <th></th>\n",
       "      <th>ds</th>\n",
       "      <th>yhat</th>\n",
       "      <th>yhat_lower</th>\n",
       "      <th>yhat_upper</th>\n",
       "      <th>y</th>\n",
       "      <th>cutoff</th>\n",
       "    </tr>\n",
       "  </thead>\n",
       "  <tbody>\n",
       "    <tr>\n",
       "      <th>0</th>\n",
       "      <td>2020-08-11</td>\n",
       "      <td>600.386178</td>\n",
       "      <td>526.318895</td>\n",
       "      <td>671.220017</td>\n",
       "      <td>581.503643</td>\n",
       "      <td>2020-08-10</td>\n",
       "    </tr>\n",
       "    <tr>\n",
       "      <th>1</th>\n",
       "      <td>2020-08-12</td>\n",
       "      <td>757.636538</td>\n",
       "      <td>687.859830</td>\n",
       "      <td>829.515191</td>\n",
       "      <td>780.803299</td>\n",
       "      <td>2020-08-10</td>\n",
       "    </tr>\n",
       "    <tr>\n",
       "      <th>2</th>\n",
       "      <td>2020-08-13</td>\n",
       "      <td>648.798366</td>\n",
       "      <td>576.924951</td>\n",
       "      <td>717.280956</td>\n",
       "      <td>610.612668</td>\n",
       "      <td>2020-08-10</td>\n",
       "    </tr>\n",
       "    <tr>\n",
       "      <th>3</th>\n",
       "      <td>2020-08-14</td>\n",
       "      <td>557.364567</td>\n",
       "      <td>484.209640</td>\n",
       "      <td>625.081812</td>\n",
       "      <td>571.015823</td>\n",
       "      <td>2020-08-10</td>\n",
       "    </tr>\n",
       "    <tr>\n",
       "      <th>4</th>\n",
       "      <td>2020-08-15</td>\n",
       "      <td>673.529906</td>\n",
       "      <td>608.549651</td>\n",
       "      <td>746.438710</td>\n",
       "      <td>648.707887</td>\n",
       "      <td>2020-08-10</td>\n",
       "    </tr>\n",
       "  </tbody>\n",
       "</table>\n",
       "</div>"
      ],
      "text/plain": [
       "          ds        yhat  yhat_lower  yhat_upper           y     cutoff\n",
       "0 2020-08-11  600.386178  526.318895  671.220017  581.503643 2020-08-10\n",
       "1 2020-08-12  757.636538  687.859830  829.515191  780.803299 2020-08-10\n",
       "2 2020-08-13  648.798366  576.924951  717.280956  610.612668 2020-08-10\n",
       "3 2020-08-14  557.364567  484.209640  625.081812  571.015823 2020-08-10\n",
       "4 2020-08-15  673.529906  608.549651  746.438710  648.707887 2020-08-10"
      ]
     },
     "execution_count": 24,
     "metadata": {},
     "output_type": "execute_result"
    }
   ],
   "source": [
    "df_cv = cross_validation(m, \n",
    "                        horizon='31 days',\n",
    "                        period='16 days',\n",
    "                        initial= '2043 days',\n",
    "                        parallel = 'processes')\n",
    "df_cv.head()"
   ]
  },
  {
   "cell_type": "code",
   "execution_count": 27,
   "metadata": {},
   "outputs": [
    {
     "data": {
      "text/html": [
       "<div>\n",
       "<style scoped>\n",
       "    .dataframe tbody tr th:only-of-type {\n",
       "        vertical-align: middle;\n",
       "    }\n",
       "\n",
       "    .dataframe tbody tr th {\n",
       "        vertical-align: top;\n",
       "    }\n",
       "\n",
       "    .dataframe thead th {\n",
       "        text-align: right;\n",
       "    }\n",
       "</style>\n",
       "<table border=\"1\" class=\"dataframe\">\n",
       "  <thead>\n",
       "    <tr style=\"text-align: right;\">\n",
       "      <th></th>\n",
       "      <th>horizon</th>\n",
       "      <th>mse</th>\n",
       "      <th>rmse</th>\n",
       "      <th>mae</th>\n",
       "      <th>mape</th>\n",
       "      <th>mdape</th>\n",
       "      <th>smape</th>\n",
       "      <th>coverage</th>\n",
       "    </tr>\n",
       "  </thead>\n",
       "  <tbody>\n",
       "    <tr>\n",
       "      <th>0</th>\n",
       "      <td>3 days</td>\n",
       "      <td>3291.901855</td>\n",
       "      <td>57.375098</td>\n",
       "      <td>46.056420</td>\n",
       "      <td>0.065587</td>\n",
       "      <td>0.059078</td>\n",
       "      <td>0.064939</td>\n",
       "      <td>0.791667</td>\n",
       "    </tr>\n",
       "    <tr>\n",
       "      <th>1</th>\n",
       "      <td>4 days</td>\n",
       "      <td>2361.665225</td>\n",
       "      <td>48.596967</td>\n",
       "      <td>40.793890</td>\n",
       "      <td>0.058953</td>\n",
       "      <td>0.049016</td>\n",
       "      <td>0.057867</td>\n",
       "      <td>0.833333</td>\n",
       "    </tr>\n",
       "    <tr>\n",
       "      <th>2</th>\n",
       "      <td>5 days</td>\n",
       "      <td>3143.825473</td>\n",
       "      <td>56.069827</td>\n",
       "      <td>48.511441</td>\n",
       "      <td>0.070436</td>\n",
       "      <td>0.062780</td>\n",
       "      <td>0.068703</td>\n",
       "      <td>0.708333</td>\n",
       "    </tr>\n",
       "    <tr>\n",
       "      <th>3</th>\n",
       "      <td>6 days</td>\n",
       "      <td>2837.810863</td>\n",
       "      <td>53.271107</td>\n",
       "      <td>48.571506</td>\n",
       "      <td>0.069147</td>\n",
       "      <td>0.073941</td>\n",
       "      <td>0.068212</td>\n",
       "      <td>0.791667</td>\n",
       "    </tr>\n",
       "    <tr>\n",
       "      <th>4</th>\n",
       "      <td>7 days</td>\n",
       "      <td>2583.695674</td>\n",
       "      <td>50.830067</td>\n",
       "      <td>45.131963</td>\n",
       "      <td>0.064849</td>\n",
       "      <td>0.069052</td>\n",
       "      <td>0.063890</td>\n",
       "      <td>0.833333</td>\n",
       "    </tr>\n",
       "  </tbody>\n",
       "</table>\n",
       "</div>"
      ],
      "text/plain": [
       "  horizon          mse       rmse        mae      mape     mdape     smape  \\\n",
       "0  3 days  3291.901855  57.375098  46.056420  0.065587  0.059078  0.064939   \n",
       "1  4 days  2361.665225  48.596967  40.793890  0.058953  0.049016  0.057867   \n",
       "2  5 days  3143.825473  56.069827  48.511441  0.070436  0.062780  0.068703   \n",
       "3  6 days  2837.810863  53.271107  48.571506  0.069147  0.073941  0.068212   \n",
       "4  7 days  2583.695674  50.830067  45.131963  0.064849  0.069052  0.063890   \n",
       "\n",
       "   coverage  \n",
       "0  0.791667  \n",
       "1  0.833333  \n",
       "2  0.708333  \n",
       "3  0.791667  \n",
       "4  0.833333  "
      ]
     },
     "execution_count": 27,
     "metadata": {},
     "output_type": "execute_result"
    }
   ],
   "source": [
    "# Performance\n",
    "performance_metrics(df_cv).head()"
   ]
  },
  {
   "cell_type": "code",
   "execution_count": 35,
   "metadata": {},
   "outputs": [
    {
     "name": "stdout",
     "output_type": "stream",
     "text": [
      "RMSE: 49.832189537089334\n",
      "MAPE: 0.05866639674040192\n"
     ]
    }
   ],
   "source": [
    "#RMSE and MAPE\n",
    "print(f'RMSE: {performance_metrics(df_cv)[\"rmse\"].mean()}')\n",
    "print(f'MAPE: {performance_metrics(df_cv)[\"mape\"].mean()}')\n"
   ]
  },
  {
   "cell_type": "code",
   "execution_count": 36,
   "metadata": {},
   "outputs": [
    {
     "data": {
      "image/png": "[encoded data removed]",
      "text/plain": [
       "<Figure size 1000x600 with 1 Axes>"
      ]
     },
     "execution_count": 36,
     "metadata": {},
     "output_type": "execute_result"
    },
    {
     "data": {
      "image/png": "[encoded data removed]",
      "text/plain": [
       "<Figure size 1000x600 with 1 Axes>"
      ]
     },
     "metadata": {},
     "output_type": "display_data"
    }
   ],
   "source": [
    "#plotting\n",
    "plot_cross_validation_metric(df_cv, metric='rmse')"
   ]
  },
  {
   "cell_type": "markdown",
   "metadata": {},
   "source": [
    "# Parameter Tuning"
   ]
  },
  {
   "cell_type": "code",
   "execution_count": 47,
   "metadata": {},
   "outputs": [
    {
     "data": {
      "text/plain": [
       "128"
      ]
     },
     "execution_count": 47,
     "metadata": {},
     "output_type": "execute_result"
    }
   ],
   "source": [
    "#Parameter Grid\n",
    "param_grid = {'seasonality_mode': [\"additive\",multiplicativity \"multiplicative\"],\n",
    "            'seasonality_prior_scale': [1,5,10,20],\n",
    "              'holidays_prior_scale': [5,10,20,25],\n",
    "              'changepoint_prior_scale': [0.005, 0.01, 0.05, 0.1]\n",
    "             }\n",
    "grid = ParameterGrid(param_grid)\n",
    "len(list(grid))"
   ]
  },
  {
   "cell_type": "code",
   "execution_count": 48,
   "metadata": {},
   "outputs": [
    {
     "name": "stderr",
     "output_type": "stream",
     "text": [
      "21:51:54 - cmdstanpy - INFO - Chain [1] start processing\n"
     ]
    },
    {
     "name": "stdout",
     "output_type": "stream",
     "text": [
      "1 / 128\n"
     ]
    },
    {
     "name": "stderr",
     "output_type": "stream",
     "text": [
      "21:51:55 - cmdstanpy - INFO - Chain [1] done processing\n",
      "21:51:55 - cmdstanpy - INFO - Chain [1] start processing\n",
      "21:51:55 - cmdstanpy - INFO - Chain [1] start processing\n",
      "21:51:55 - cmdstanpy - INFO - Chain [1] start processing\n",
      "21:51:55 - cmdstanpy - INFO - Chain [1] start processing\n",
      "21:51:55 - cmdstanpy - INFO - Chain [1] start processing\n",
      "21:51:55 - cmdstanpy - INFO - Chain [1] start processing\n",
      "21:51:55 - cmdstanpy - INFO - Chain [1] start processing\n",
      "21:51:55 - cmdstanpy - INFO - Chain [1] start processing\n",
      "21:51:55 - cmdstanpy - INFO - Chain [1] done processing\n",
      "21:51:55 - cmdstanpy - INFO - Chain [1] done processing\n",
      "21:51:55 - cmdstanpy - INFO - Chain [1] done processing\n",
      "21:51:55 - cmdstanpy - INFO - Chain [1] done processing\n",
      "21:51:55 - cmdstanpy - INFO - Chain [1] done processing\n",
      "21:51:55 - cmdstanpy - INFO - Chain [1] done processing\n",
      "21:51:55 - cmdstanpy - INFO - Chain [1] done processing\n",
      "21:51:55 - cmdstanpy - INFO - Chain [1] done processing\n",
      "21:51:55 - cmdstanpy - INFO - Chain [1] start processing\n"
     ]
    },
    {
     "name": "stdout",
     "output_type": "stream",
     "text": [
      "2 / 128\n"
     ]
    },
    {
     "name": "stderr",
     "output_type": "stream",
     "text": [
      "21:51:56 - cmdstanpy - INFO - Chain [1] done processing\n",
      "21:51:56 - cmdstanpy - INFO - Chain [1] start processing\n",
      "21:51:56 - cmdstanpy - INFO - Chain [1] start processing\n",
      "21:51:56 - cmdstanpy - INFO - Chain [1] start processing\n",
      "21:51:56 - cmdstanpy - INFO - Chain [1] start processing\n",
      "21:51:56 - cmdstanpy - INFO - Chain [1] start processing\n",
      "21:51:56 - cmdstanpy - INFO - Chain [1] start processing\n",
      "21:51:56 - cmdstanpy - INFO - Chain [1] start processing\n",
      "21:51:56 - cmdstanpy - INFO - Chain [1] start processing\n",
      "21:51:56 - cmdstanpy - INFO - Chain [1] done processing\n",
      "21:51:56 - cmdstanpy - INFO - Chain [1] done processing\n",
      "21:51:56 - cmdstanpy - INFO - Chain [1] done processing\n",
      "21:51:56 - cmdstanpy - INFO - Chain [1] done processing\n",
      "21:51:56 - cmdstanpy - INFO - Chain [1] done processing\n",
      "21:51:56 - cmdstanpy - INFO - Chain [1] done processing\n",
      "21:51:56 - cmdstanpy - INFO - Chain [1] done processing\n",
      "21:51:56 - cmdstanpy - INFO - Chain [1] done processing\n",
      "21:51:57 - cmdstanpy - INFO - Chain [1] start processing\n"
     ]
    },
    {
     "name": "stdout",
     "output_type": "stream",
     "text": [
      "3 / 128\n"
     ]
    },
    {
     "name": "stderr",
     "output_type": "stream",
     "text": [
      "21:51:57 - cmdstanpy - INFO - Chain [1] done processing\n",
      "21:51:57 - cmdstanpy - INFO - Chain [1] start processing\n",
      "21:51:57 - cmdstanpy - INFO - Chain [1] start processing\n",
      "21:51:57 - cmdstanpy - INFO - Chain [1] start processing\n",
      "21:51:57 - cmdstanpy - INFO - Chain [1] start processing\n",
      "21:51:57 - cmdstanpy - INFO - Chain [1] start processing\n",
      "21:51:57 - cmdstanpy - INFO - Chain [1] start processing\n",
      "21:51:57 - cmdstanpy - INFO - Chain [1] start processing\n",
      "21:51:57 - cmdstanpy - INFO - Chain [1] start processing\n",
      "21:51:57 - cmdstanpy - INFO - Chain [1] done processing\n",
      "21:51:57 - cmdstanpy - INFO - Chain [1] done processing\n",
      "21:51:57 - cmdstanpy - INFO - Chain [1] done processing\n",
      "21:51:57 - cmdstanpy - INFO - Chain [1] done processing\n",
      "21:51:57 - cmdstanpy - INFO - Chain [1] done processing\n",
      "21:51:57 - cmdstanpy - INFO - Chain [1] done processing\n",
      "21:51:57 - cmdstanpy - INFO - Chain [1] done processing\n",
      "21:51:58 - cmdstanpy - INFO - Chain [1] done processing\n",
      "21:51:58 - cmdstanpy - INFO - Chain [1] start processing\n"
     ]
    },
    {
     "name": "stdout",
     "output_type": "stream",
     "text": [
      "4 / 128\n"
     ]
    },
    {
     "name": "stderr",
     "output_type": "stream",
     "text": [
      "21:51:58 - cmdstanpy - INFO - Chain [1] done processing\n",
      "21:51:58 - cmdstanpy - INFO - Chain [1] start processing\n",
      "21:51:58 - cmdstanpy - INFO - Chain [1] start processing\n",
      "21:51:58 - cmdstanpy - INFO - Chain [1] start processing\n",
      "21:51:58 - cmdstanpy - INFO - Chain [1] start processing\n",
      "21:51:58 - cmdstanpy - INFO - Chain [1] start processing\n",
      "21:51:58 - cmdstanpy - INFO - Chain [1] start processing\n",
      "21:51:58 - cmdstanpy - INFO - Chain [1] start processing\n",
      "21:51:58 - cmdstanpy - INFO - Chain [1] start processing\n",
      "21:51:59 - cmdstanpy - INFO - Chain [1] done processing\n",
      "21:51:59 - cmdstanpy - INFO - Chain [1] done processing\n",
      "21:51:59 - cmdstanpy - INFO - Chain [1] done processing\n",
      "21:51:59 - cmdstanpy - INFO - Chain [1] done processing\n",
      "21:51:59 - cmdstanpy - INFO - Chain [1] done processing\n",
      "21:51:59 - cmdstanpy - INFO - Chain [1] done processing\n",
      "21:51:59 - cmdstanpy - INFO - Chain [1] done processing\n",
      "21:51:59 - cmdstanpy - INFO - Chain [1] done processing\n",
      "21:51:59 - cmdstanpy - INFO - Chain [1] start processing\n"
     ]
    },
    {
     "name": "stdout",
     "output_type": "stream",
     "text": [
      "5 / 128\n"
     ]
    },
    {
     "name": "stderr",
     "output_type": "stream",
     "text": [
      "21:51:59 - cmdstanpy - INFO - Chain [1] done processing\n",
      "21:51:59 - cmdstanpy - INFO - Chain [1] start processing\n",
      "21:51:59 - cmdstanpy - INFO - Chain [1] start processing\n",
      "21:51:59 - cmdstanpy - INFO - Chain [1] start processing\n",
      "21:51:59 - cmdstanpy - INFO - Chain [1] start processing\n",
      "21:51:59 - cmdstanpy - INFO - Chain [1] start processing\n",
      "21:51:59 - cmdstanpy - INFO - Chain [1] start processing\n",
      "21:51:59 - cmdstanpy - INFO - Chain [1] start processing\n",
      "21:51:59 - cmdstanpy - INFO - Chain [1] start processing\n",
      "21:52:00 - cmdstanpy - INFO - Chain [1] done processing\n",
      "21:52:00 - cmdstanpy - INFO - Chain [1] done processing\n",
      "21:52:00 - cmdstanpy - INFO - Chain [1] done processing\n",
      "21:52:00 - cmdstanpy - INFO - Chain [1] done processing\n",
      "21:52:00 - cmdstanpy - INFO - Chain [1] done processing\n",
      "21:52:00 - cmdstanpy - INFO - Chain [1] done processing\n",
      "21:52:00 - cmdstanpy - INFO - Chain [1] done processing\n",
      "21:52:00 - cmdstanpy - INFO - Chain [1] done processing\n",
      "21:52:00 - cmdstanpy - INFO - Chain [1] start processing\n"
     ]
    },
    {
     "name": "stdout",
     "output_type": "stream",
     "text": [
      "6 / 128\n"
     ]
    },
    {
     "name": "stderr",
     "output_type": "stream",
     "text": [
      "21:52:00 - cmdstanpy - INFO - Chain [1] done processing\n",
      "21:52:01 - cmdstanpy - INFO - Chain [1] start processing\n",
      "21:52:01 - cmdstanpy - INFO - Chain [1] start processing\n",
      "21:52:01 - cmdstanpy - INFO - Chain [1] start processing\n",
      "21:52:01 - cmdstanpy - INFO - Chain [1] start processing\n",
      "21:52:01 - cmdstanpy - INFO - Chain [1] start processing\n",
      "21:52:01 - cmdstanpy - INFO - Chain [1] start processing\n",
      "21:52:01 - cmdstanpy - INFO - Chain [1] start processing\n",
      "21:52:01 - cmdstanpy - INFO - Chain [1] start processing\n",
      "21:52:01 - cmdstanpy - INFO - Chain [1] done processing\n",
      "21:52:01 - cmdstanpy - INFO - Chain [1] done processing\n",
      "21:52:01 - cmdstanpy - INFO - Chain [1] done processing\n",
      "21:52:01 - cmdstanpy - INFO - Chain [1] done processing\n",
      "21:52:01 - cmdstanpy - INFO - Chain [1] done processing\n",
      "21:52:01 - cmdstanpy - INFO - Chain [1] done processing\n",
      "21:52:01 - cmdstanpy - INFO - Chain [1] done processing\n",
      "21:52:01 - cmdstanpy - INFO - Chain [1] done processing\n",
      "21:52:01 - cmdstanpy - INFO - Chain [1] start processing\n"
     ]
    },
    {
     "name": "stdout",
     "output_type": "stream",
     "text": [
      "7 / 128\n"
     ]
    },
    {
     "name": "stderr",
     "output_type": "stream",
     "text": [
      "21:52:02 - cmdstanpy - INFO - Chain [1] done processing\n",
      "21:52:02 - cmdstanpy - INFO - Chain [1] start processing\n",
      "21:52:02 - cmdstanpy - INFO - Chain [1] start processing\n",
      "21:52:02 - cmdstanpy - INFO - Chain [1] start processing\n",
      "21:52:02 - cmdstanpy - INFO - Chain [1] start processing\n",
      "21:52:02 - cmdstanpy - INFO - Chain [1] start processing\n",
      "21:52:02 - cmdstanpy - INFO - Chain [1] start processing\n",
      "21:52:02 - cmdstanpy - INFO - Chain [1] start processing\n",
      "21:52:02 - cmdstanpy - INFO - Chain [1] start processing\n",
      "21:52:02 - cmdstanpy - INFO - Chain [1] done processing\n",
      "21:52:02 - cmdstanpy - INFO - Chain [1] done processing\n",
      "21:52:02 - cmdstanpy - INFO - Chain [1] done processing\n",
      "21:52:02 - cmdstanpy - INFO - Chain [1] done processing\n",
      "21:52:02 - cmdstanpy - INFO - Chain [1] done processing\n",
      "21:52:02 - cmdstanpy - INFO - Chain [1] done processing\n",
      "21:52:02 - cmdstanpy - INFO - Chain [1] done processing\n",
      "21:52:02 - cmdstanpy - INFO - Chain [1] done processing\n",
      "21:52:03 - cmdstanpy - INFO - Chain [1] start processing\n"
     ]
    },
    {
     "name": "stdout",
     "output_type": "stream",
     "text": [
      "8 / 128\n"
     ]
    },
    {
     "name": "stderr",
     "output_type": "stream",
     "text": [
      "21:52:03 - cmdstanpy - INFO - Chain [1] done processing\n",
      "21:52:03 - cmdstanpy - INFO - Chain [1] start processing\n",
      "21:52:03 - cmdstanpy - INFO - Chain [1] start processing\n",
      "21:52:03 - cmdstanpy - INFO - Chain [1] start processing\n",
      "21:52:03 - cmdstanpy - INFO - Chain [1] start processing\n",
      "21:52:03 - cmdstanpy - INFO - Chain [1] start processing\n",
      "21:52:03 - cmdstanpy - INFO - Chain [1] start processing\n",
      "21:52:03 - cmdstanpy - INFO - Chain [1] start processing\n",
      "21:52:03 - cmdstanpy - INFO - Chain [1] start processing\n",
      "21:52:03 - cmdstanpy - INFO - Chain [1] done processing\n",
      "21:52:03 - cmdstanpy - INFO - Chain [1] done processing\n",
      "21:52:04 - cmdstanpy - INFO - Chain [1] done processing\n",
      "21:52:04 - cmdstanpy - INFO - Chain [1] done processing\n",
      "21:52:04 - cmdstanpy - INFO - Chain [1] done processing\n",
      "21:52:04 - cmdstanpy - INFO - Chain [1] done processing\n",
      "21:52:04 - cmdstanpy - INFO - Chain [1] done processing\n",
      "21:52:04 - cmdstanpy - INFO - Chain [1] done processing\n",
      "21:52:04 - cmdstanpy - INFO - Chain [1] start processing\n"
     ]
    },
    {
     "name": "stdout",
     "output_type": "stream",
     "text": [
      "9 / 128\n"
     ]
    },
    {
     "name": "stderr",
     "output_type": "stream",
     "text": [
      "21:52:04 - cmdstanpy - INFO - Chain [1] done processing\n",
      "21:52:04 - cmdstanpy - INFO - Chain [1] start processing\n",
      "21:52:04 - cmdstanpy - INFO - Chain [1] start processing\n",
      "21:52:04 - cmdstanpy - INFO - Chain [1] start processing\n",
      "21:52:04 - cmdstanpy - INFO - Chain [1] start processing\n",
      "21:52:04 - cmdstanpy - INFO - Chain [1] start processing\n",
      "21:52:04 - cmdstanpy - INFO - Chain [1] start processing\n",
      "21:52:04 - cmdstanpy - INFO - Chain [1] start processing\n",
      "21:52:04 - cmdstanpy - INFO - Chain [1] start processing\n",
      "21:52:05 - cmdstanpy - INFO - Chain [1] done processing\n",
      "21:52:05 - cmdstanpy - INFO - Chain [1] done processing\n",
      "21:52:05 - cmdstanpy - INFO - Chain [1] done processing\n",
      "21:52:05 - cmdstanpy - INFO - Chain [1] done processing\n",
      "21:52:05 - cmdstanpy - INFO - Chain [1] done processing\n",
      "21:52:05 - cmdstanpy - INFO - Chain [1] done processing\n",
      "21:52:05 - cmdstanpy - INFO - Chain [1] done processing\n",
      "21:52:05 - cmdstanpy - INFO - Chain [1] done processing\n",
      "21:52:05 - cmdstanpy - INFO - Chain [1] start processing\n"
     ]
    },
    {
     "name": "stdout",
     "output_type": "stream",
     "text": [
      "10 / 128\n"
     ]
    },
    {
     "name": "stderr",
     "output_type": "stream",
     "text": [
      "21:52:05 - cmdstanpy - INFO - Chain [1] done processing\n",
      "21:52:06 - cmdstanpy - INFO - Chain [1] start processing\n",
      "21:52:06 - cmdstanpy - INFO - Chain [1] start processing\n",
      "21:52:06 - cmdstanpy - INFO - Chain [1] start processing\n",
      "21:52:06 - cmdstanpy - INFO - Chain [1] start processing\n",
      "21:52:06 - cmdstanpy - INFO - Chain [1] start processing\n",
      "21:52:06 - cmdstanpy - INFO - Chain [1] start processing\n",
      "21:52:06 - cmdstanpy - INFO - Chain [1] start processing\n",
      "21:52:06 - cmdstanpy - INFO - Chain [1] start processing\n",
      "21:52:06 - cmdstanpy - INFO - Chain [1] done processing\n",
      "21:52:06 - cmdstanpy - INFO - Chain [1] done processing\n",
      "21:52:06 - cmdstanpy - INFO - Chain [1] done processing\n",
      "21:52:06 - cmdstanpy - INFO - Chain [1] done processing\n",
      "21:52:06 - cmdstanpy - INFO - Chain [1] done processing\n",
      "21:52:06 - cmdstanpy - INFO - Chain [1] done processing\n",
      "21:52:06 - cmdstanpy - INFO - Chain [1] done processing\n",
      "21:52:06 - cmdstanpy - INFO - Chain [1] done processing\n",
      "21:52:06 - cmdstanpy - INFO - Chain [1] start processing\n"
     ]
    },
    {
     "name": "stdout",
     "output_type": "stream",
     "text": [
      "11 / 128\n"
     ]
    },
    {
     "name": "stderr",
     "output_type": "stream",
     "text": [
      "21:52:06 - cmdstanpy - INFO - Chain [1] done processing\n",
      "21:52:07 - cmdstanpy - INFO - Chain [1] start processing\n",
      "21:52:07 - cmdstanpy - INFO - Chain [1] start processing\n",
      "21:52:07 - cmdstanpy - INFO - Chain [1] start processing\n",
      "21:52:07 - cmdstanpy - INFO - Chain [1] start processing\n",
      "21:52:07 - cmdstanpy - INFO - Chain [1] start processing\n",
      "21:52:07 - cmdstanpy - INFO - Chain [1] start processing\n",
      "21:52:07 - cmdstanpy - INFO - Chain [1] start processing\n",
      "21:52:07 - cmdstanpy - INFO - Chain [1] start processing\n",
      "21:52:07 - cmdstanpy - INFO - Chain [1] done processing\n",
      "21:52:07 - cmdstanpy - INFO - Chain [1] done processing\n",
      "21:52:07 - cmdstanpy - INFO - Chain [1] done processing\n",
      "21:52:07 - cmdstanpy - INFO - Chain [1] done processing\n",
      "21:52:07 - cmdstanpy - INFO - Chain [1] done processing\n",
      "21:52:07 - cmdstanpy - INFO - Chain [1] done processing\n",
      "21:52:07 - cmdstanpy - INFO - Chain [1] done processing\n",
      "21:52:07 - cmdstanpy - INFO - Chain [1] done processing\n",
      "21:52:08 - cmdstanpy - INFO - Chain [1] start processing\n"
     ]
    },
    {
     "name": "stdout",
     "output_type": "stream",
     "text": [
      "12 / 128\n"
     ]
    },
    {
     "name": "stderr",
     "output_type": "stream",
     "text": [
      "21:52:08 - cmdstanpy - INFO - Chain [1] done processing\n",
      "21:52:08 - cmdstanpy - INFO - Chain [1] start processing\n",
      "21:52:08 - cmdstanpy - INFO - Chain [1] start processing\n",
      "21:52:08 - cmdstanpy - INFO - Chain [1] start processing\n",
      "21:52:08 - cmdstanpy - INFO - Chain [1] start processing\n",
      "21:52:08 - cmdstanpy - INFO - Chain [1] start processing\n",
      "21:52:08 - cmdstanpy - INFO - Chain [1] start processing\n",
      "21:52:08 - cmdstanpy - INFO - Chain [1] start processing\n",
      "21:52:08 - cmdstanpy - INFO - Chain [1] done processing\n",
      "21:52:08 - cmdstanpy - INFO - Chain [1] start processing\n",
      "21:52:08 - cmdstanpy - INFO - Chain [1] done processing\n",
      "21:52:08 - cmdstanpy - INFO - Chain [1] done processing\n",
      "21:52:08 - cmdstanpy - INFO - Chain [1] done processing\n",
      "21:52:08 - cmdstanpy - INFO - Chain [1] done processing\n",
      "21:52:08 - cmdstanpy - INFO - Chain [1] done processing\n",
      "21:52:08 - cmdstanpy - INFO - Chain [1] done processing\n",
      "21:52:08 - cmdstanpy - INFO - Chain [1] done processing\n",
      "21:52:09 - cmdstanpy - INFO - Chain [1] start processing\n"
     ]
    },
    {
     "name": "stdout",
     "output_type": "stream",
     "text": [
      "13 / 128\n"
     ]
    },
    {
     "name": "stderr",
     "output_type": "stream",
     "text": [
      "21:52:09 - cmdstanpy - INFO - Chain [1] done processing\n",
      "21:52:09 - cmdstanpy - INFO - Chain [1] start processing\n",
      "21:52:09 - cmdstanpy - INFO - Chain [1] start processing\n",
      "21:52:09 - cmdstanpy - INFO - Chain [1] start processing\n",
      "21:52:09 - cmdstanpy - INFO - Chain [1] start processing\n",
      "21:52:09 - cmdstanpy - INFO - Chain [1] start processing\n",
      "21:52:09 - cmdstanpy - INFO - Chain [1] start processing\n",
      "21:52:09 - cmdstanpy - INFO - Chain [1] start processing\n",
      "21:52:09 - cmdstanpy - INFO - Chain [1] start processing\n",
      "21:52:09 - cmdstanpy - INFO - Chain [1] done processing\n",
      "21:52:09 - cmdstanpy - INFO - Chain [1] done processing\n",
      "21:52:09 - cmdstanpy - INFO - Chain [1] done processing\n",
      "21:52:10 - cmdstanpy - INFO - Chain [1] done processing\n",
      "21:52:10 - cmdstanpy - INFO - Chain [1] done processing\n",
      "21:52:10 - cmdstanpy - INFO - Chain [1] done processing\n",
      "21:52:10 - cmdstanpy - INFO - Chain [1] done processing\n",
      "21:52:10 - cmdstanpy - INFO - Chain [1] done processing\n"
     ]
    },
    {
     "name": "stdout",
     "output_type": "stream",
     "text": [
      "14 / 128\n"
     ]
    },
    {
     "name": "stderr",
     "output_type": "stream",
     "text": [
      "21:52:10 - cmdstanpy - INFO - Chain [1] start processing\n",
      "21:52:10 - cmdstanpy - INFO - Chain [1] done processing\n",
      "21:52:10 - cmdstanpy - INFO - Chain [1] start processing\n",
      "21:52:10 - cmdstanpy - INFO - Chain [1] start processing\n",
      "21:52:10 - cmdstanpy - INFO - Chain [1] start processing\n",
      "21:52:10 - cmdstanpy - INFO - Chain [1] start processing\n",
      "21:52:10 - cmdstanpy - INFO - Chain [1] start processing\n",
      "21:52:10 - cmdstanpy - INFO - Chain [1] start processing\n",
      "21:52:10 - cmdstanpy - INFO - Chain [1] start processing\n",
      "21:52:10 - cmdstanpy - INFO - Chain [1] start processing\n",
      "21:52:11 - cmdstanpy - INFO - Chain [1] done processing\n",
      "21:52:11 - cmdstanpy - INFO - Chain [1] done processing\n",
      "21:52:11 - cmdstanpy - INFO - Chain [1] done processing\n",
      "21:52:11 - cmdstanpy - INFO - Chain [1] done processing\n",
      "21:52:11 - cmdstanpy - INFO - Chain [1] done processing\n",
      "21:52:11 - cmdstanpy - INFO - Chain [1] done processing\n",
      "21:52:11 - cmdstanpy - INFO - Chain [1] done processing\n",
      "21:52:11 - cmdstanpy - INFO - Chain [1] done processing\n",
      "21:52:11 - cmdstanpy - INFO - Chain [1] start processing\n"
     ]
    },
    {
     "name": "stdout",
     "output_type": "stream",
     "text": [
      "15 / 128\n"
     ]
    },
    {
     "name": "stderr",
     "output_type": "stream",
     "text": [
      "21:52:11 - cmdstanpy - INFO - Chain [1] done processing\n",
      "21:52:11 - cmdstanpy - INFO - Chain [1] start processing\n",
      "21:52:11 - cmdstanpy - INFO - Chain [1] start processing\n",
      "21:52:11 - cmdstanpy - INFO - Chain [1] start processing\n",
      "21:52:11 - cmdstanpy - INFO - Chain [1] start processing\n",
      "21:52:11 - cmdstanpy - INFO - Chain [1] start processing\n",
      "21:52:11 - cmdstanpy - INFO - Chain [1] start processing\n",
      "21:52:11 - cmdstanpy - INFO - Chain [1] start processing\n",
      "21:52:11 - cmdstanpy - INFO - Chain [1] start processing\n",
      "21:52:12 - cmdstanpy - INFO - Chain [1] done processing\n",
      "21:52:12 - cmdstanpy - INFO - Chain [1] done processing\n",
      "21:52:12 - cmdstanpy - INFO - Chain [1] done processing\n",
      "21:52:12 - cmdstanpy - INFO - Chain [1] done processing\n",
      "21:52:12 - cmdstanpy - INFO - Chain [1] done processing\n",
      "21:52:12 - cmdstanpy - INFO - Chain [1] done processing\n",
      "21:52:12 - cmdstanpy - INFO - Chain [1] done processing\n",
      "21:52:12 - cmdstanpy - INFO - Chain [1] done processing\n",
      "21:52:12 - cmdstanpy - INFO - Chain [1] start processing\n"
     ]
    },
    {
     "name": "stdout",
     "output_type": "stream",
     "text": [
      "16 / 128\n"
     ]
    },
    {
     "name": "stderr",
     "output_type": "stream",
     "text": [
      "21:52:12 - cmdstanpy - INFO - Chain [1] done processing\n",
      "21:52:13 - cmdstanpy - INFO - Chain [1] start processing\n",
      "21:52:13 - cmdstanpy - INFO - Chain [1] start processing\n",
      "21:52:13 - cmdstanpy - INFO - Chain [1] start processing\n",
      "21:52:13 - cmdstanpy - INFO - Chain [1] start processing\n",
      "21:52:13 - cmdstanpy - INFO - Chain [1] start processing\n",
      "21:52:13 - cmdstanpy - INFO - Chain [1] start processing\n",
      "21:52:13 - cmdstanpy - INFO - Chain [1] start processing\n",
      "21:52:13 - cmdstanpy - INFO - Chain [1] start processing\n",
      "21:52:13 - cmdstanpy - INFO - Chain [1] done processing\n",
      "21:52:13 - cmdstanpy - INFO - Chain [1] done processing\n",
      "21:52:13 - cmdstanpy - INFO - Chain [1] done processing\n",
      "21:52:13 - cmdstanpy - INFO - Chain [1] done processing\n",
      "21:52:13 - cmdstanpy - INFO - Chain [1] done processing\n",
      "21:52:13 - cmdstanpy - INFO - Chain [1] done processing\n",
      "21:52:13 - cmdstanpy - INFO - Chain [1] done processing\n",
      "21:52:13 - cmdstanpy - INFO - Chain [1] done processing\n",
      "21:52:13 - cmdstanpy - INFO - Chain [1] start processing\n"
     ]
    },
    {
     "name": "stdout",
     "output_type": "stream",
     "text": [
      "17 / 128\n"
     ]
    },
    {
     "name": "stderr",
     "output_type": "stream",
     "text": [
      "21:52:14 - cmdstanpy - INFO - Chain [1] done processing\n",
      "21:52:14 - cmdstanpy - INFO - Chain [1] start processing\n",
      "21:52:14 - cmdstanpy - INFO - Chain [1] start processing\n",
      "21:52:14 - cmdstanpy - INFO - Chain [1] start processing\n",
      "21:52:14 - cmdstanpy - INFO - Chain [1] start processing\n",
      "21:52:14 - cmdstanpy - INFO - Chain [1] start processing\n",
      "21:52:14 - cmdstanpy - INFO - Chain [1] start processing\n",
      "21:52:14 - cmdstanpy - INFO - Chain [1] start processing\n",
      "21:52:14 - cmdstanpy - INFO - Chain [1] start processing\n",
      "21:52:14 - cmdstanpy - INFO - Chain [1] done processing\n",
      "21:52:14 - cmdstanpy - INFO - Chain [1] done processing\n",
      "21:52:14 - cmdstanpy - INFO - Chain [1] done processing\n",
      "21:52:14 - cmdstanpy - INFO - Chain [1] done processing\n",
      "21:52:14 - cmdstanpy - INFO - Chain [1] done processing\n",
      "21:52:14 - cmdstanpy - INFO - Chain [1] done processing\n",
      "21:52:14 - cmdstanpy - INFO - Chain [1] done processing\n",
      "21:52:14 - cmdstanpy - INFO - Chain [1] done processing\n",
      "21:52:15 - cmdstanpy - INFO - Chain [1] start processing\n"
     ]
    },
    {
     "name": "stdout",
     "output_type": "stream",
     "text": [
      "18 / 128\n"
     ]
    },
    {
     "name": "stderr",
     "output_type": "stream",
     "text": [
      "21:52:15 - cmdstanpy - INFO - Chain [1] done processing\n",
      "21:52:15 - cmdstanpy - INFO - Chain [1] start processing\n",
      "21:52:15 - cmdstanpy - INFO - Chain [1] start processing\n",
      "21:52:15 - cmdstanpy - INFO - Chain [1] start processing\n",
      "21:52:15 - cmdstanpy - INFO - Chain [1] start processing\n",
      "21:52:15 - cmdstanpy - INFO - Chain [1] start processing\n",
      "21:52:15 - cmdstanpy - INFO - Chain [1] start processing\n",
      "21:52:15 - cmdstanpy - INFO - Chain [1] start processing\n",
      "21:52:15 - cmdstanpy - INFO - Chain [1] start processing\n",
      "21:52:15 - cmdstanpy - INFO - Chain [1] done processing\n",
      "21:52:15 - cmdstanpy - INFO - Chain [1] done processing\n",
      "21:52:15 - cmdstanpy - INFO - Chain [1] done processing\n",
      "21:52:15 - cmdstanpy - INFO - Chain [1] done processing\n",
      "21:52:15 - cmdstanpy - INFO - Chain [1] done processing\n",
      "21:52:15 - cmdstanpy - INFO - Chain [1] done processing\n",
      "21:52:16 - cmdstanpy - INFO - Chain [1] done processing\n",
      "21:52:16 - cmdstanpy - INFO - Chain [1] done processing\n",
      "21:52:16 - cmdstanpy - INFO - Chain [1] start processing\n"
     ]
    },
    {
     "name": "stdout",
     "output_type": "stream",
     "text": [
      "19 / 128\n"
     ]
    },
    {
     "name": "stderr",
     "output_type": "stream",
     "text": [
      "21:52:16 - cmdstanpy - INFO - Chain [1] done processing\n",
      "21:52:16 - cmdstanpy - INFO - Chain [1] start processing\n",
      "21:52:16 - cmdstanpy - INFO - Chain [1] start processing\n",
      "21:52:16 - cmdstanpy - INFO - Chain [1] start processing\n",
      "21:52:16 - cmdstanpy - INFO - Chain [1] start processing\n",
      "21:52:16 - cmdstanpy - INFO - Chain [1] start processing\n",
      "21:52:16 - cmdstanpy - INFO - Chain [1] start processing\n",
      "21:52:16 - cmdstanpy - INFO - Chain [1] start processing\n",
      "21:52:16 - cmdstanpy - INFO - Chain [1] start processing\n",
      "21:52:16 - cmdstanpy - INFO - Chain [1] done processing\n",
      "21:52:17 - cmdstanpy - INFO - Chain [1] done processing\n",
      "21:52:17 - cmdstanpy - INFO - Chain [1] done processing\n",
      "21:52:17 - cmdstanpy - INFO - Chain [1] done processing\n",
      "21:52:17 - cmdstanpy - INFO - Chain [1] done processing\n",
      "21:52:17 - cmdstanpy - INFO - Chain [1] done processing\n",
      "21:52:17 - cmdstanpy - INFO - Chain [1] done processing\n",
      "21:52:17 - cmdstanpy - INFO - Chain [1] done processing\n",
      "21:52:17 - cmdstanpy - INFO - Chain [1] start processing\n"
     ]
    },
    {
     "name": "stdout",
     "output_type": "stream",
     "text": [
      "20 / 128\n"
     ]
    },
    {
     "name": "stderr",
     "output_type": "stream",
     "text": [
      "21:52:17 - cmdstanpy - INFO - Chain [1] done processing\n",
      "21:52:17 - cmdstanpy - INFO - Chain [1] start processing\n",
      "21:52:17 - cmdstanpy - INFO - Chain [1] start processing\n",
      "21:52:17 - cmdstanpy - INFO - Chain [1] start processing\n",
      "21:52:17 - cmdstanpy - INFO - Chain [1] start processing\n",
      "21:52:17 - cmdstanpy - INFO - Chain [1] start processing\n",
      "21:52:17 - cmdstanpy - INFO - Chain [1] start processing\n",
      "21:52:18 - cmdstanpy - INFO - Chain [1] start processing\n",
      "21:52:18 - cmdstanpy - INFO - Chain [1] start processing\n",
      "21:52:18 - cmdstanpy - INFO - Chain [1] done processing\n",
      "21:52:18 - cmdstanpy - INFO - Chain [1] done processing\n",
      "21:52:18 - cmdstanpy - INFO - Chain [1] done processing\n",
      "21:52:18 - cmdstanpy - INFO - Chain [1] done processing\n",
      "21:52:18 - cmdstanpy - INFO - Chain [1] done processing\n",
      "21:52:18 - cmdstanpy - INFO - Chain [1] done processing\n",
      "21:52:18 - cmdstanpy - INFO - Chain [1] done processing\n",
      "21:52:18 - cmdstanpy - INFO - Chain [1] done processing\n",
      "21:52:18 - cmdstanpy - INFO - Chain [1] start processing\n"
     ]
    },
    {
     "name": "stdout",
     "output_type": "stream",
     "text": [
      "21 / 128\n"
     ]
    },
    {
     "name": "stderr",
     "output_type": "stream",
     "text": [
      "21:52:18 - cmdstanpy - INFO - Chain [1] done processing\n",
      "21:52:18 - cmdstanpy - INFO - Chain [1] start processing\n",
      "21:52:18 - cmdstanpy - INFO - Chain [1] start processing\n",
      "21:52:18 - cmdstanpy - INFO - Chain [1] start processing\n",
      "21:52:18 - cmdstanpy - INFO - Chain [1] start processing\n",
      "21:52:18 - cmdstanpy - INFO - Chain [1] start processing\n",
      "21:52:18 - cmdstanpy - INFO - Chain [1] start processing\n",
      "21:52:18 - cmdstanpy - INFO - Chain [1] start processing\n",
      "21:52:18 - cmdstanpy - INFO - Chain [1] start processing\n",
      "21:52:19 - cmdstanpy - INFO - Chain [1] done processing\n",
      "21:52:19 - cmdstanpy - INFO - Chain [1] done processing\n",
      "21:52:19 - cmdstanpy - INFO - Chain [1] done processing\n",
      "21:52:19 - cmdstanpy - INFO - Chain [1] done processing\n",
      "21:52:19 - cmdstanpy - INFO - Chain [1] done processing\n",
      "21:52:19 - cmdstanpy - INFO - Chain [1] done processing\n",
      "21:52:19 - cmdstanpy - INFO - Chain [1] done processing\n",
      "21:52:19 - cmdstanpy - INFO - Chain [1] done processing\n",
      "21:52:19 - cmdstanpy - INFO - Chain [1] start processing\n"
     ]
    },
    {
     "name": "stdout",
     "output_type": "stream",
     "text": [
      "22 / 128\n"
     ]
    },
    {
     "name": "stderr",
     "output_type": "stream",
     "text": [
      "21:52:19 - cmdstanpy - INFO - Chain [1] done processing\n",
      "21:52:20 - cmdstanpy - INFO - Chain [1] start processing\n",
      "21:52:20 - cmdstanpy - INFO - Chain [1] start processing\n",
      "21:52:20 - cmdstanpy - INFO - Chain [1] start processing\n",
      "21:52:20 - cmdstanpy - INFO - Chain [1] start processing\n",
      "21:52:20 - cmdstanpy - INFO - Chain [1] start processing\n",
      "21:52:20 - cmdstanpy - INFO - Chain [1] start processing\n",
      "21:52:20 - cmdstanpy - INFO - Chain [1] start processing\n",
      "21:52:20 - cmdstanpy - INFO - Chain [1] start processing\n",
      "21:52:20 - cmdstanpy - INFO - Chain [1] done processing\n",
      "21:52:20 - cmdstanpy - INFO - Chain [1] done processing\n",
      "21:52:20 - cmdstanpy - INFO - Chain [1] done processing\n",
      "21:52:20 - cmdstanpy - INFO - Chain [1] done processing\n",
      "21:52:20 - cmdstanpy - INFO - Chain [1] done processing\n",
      "21:52:20 - cmdstanpy - INFO - Chain [1] done processing\n",
      "21:52:20 - cmdstanpy - INFO - Chain [1] done processing\n",
      "21:52:20 - cmdstanpy - INFO - Chain [1] done processing\n",
      "21:52:20 - cmdstanpy - INFO - Chain [1] start processing\n"
     ]
    },
    {
     "name": "stdout",
     "output_type": "stream",
     "text": [
      "23 / 128\n"
     ]
    },
    {
     "name": "stderr",
     "output_type": "stream",
     "text": [
      "21:52:21 - cmdstanpy - INFO - Chain [1] done processing\n",
      "21:52:21 - cmdstanpy - INFO - Chain [1] start processing\n",
      "21:52:21 - cmdstanpy - INFO - Chain [1] start processing\n",
      "21:52:21 - cmdstanpy - INFO - Chain [1] start processing\n",
      "21:52:21 - cmdstanpy - INFO - Chain [1] start processing\n",
      "21:52:21 - cmdstanpy - INFO - Chain [1] start processing\n",
      "21:52:21 - cmdstanpy - INFO - Chain [1] start processing\n",
      "21:52:21 - cmdstanpy - INFO - Chain [1] start processing\n",
      "21:52:21 - cmdstanpy - INFO - Chain [1] start processing\n",
      "21:52:21 - cmdstanpy - INFO - Chain [1] done processing\n",
      "21:52:21 - cmdstanpy - INFO - Chain [1] done processing\n",
      "21:52:21 - cmdstanpy - INFO - Chain [1] done processing\n",
      "21:52:21 - cmdstanpy - INFO - Chain [1] done processing\n",
      "21:52:21 - cmdstanpy - INFO - Chain [1] done processing\n",
      "21:52:21 - cmdstanpy - INFO - Chain [1] done processing\n",
      "21:52:21 - cmdstanpy - INFO - Chain [1] done processing\n",
      "21:52:22 - cmdstanpy - INFO - Chain [1] done processing\n",
      "21:52:22 - cmdstanpy - INFO - Chain [1] start processing\n"
     ]
    },
    {
     "name": "stdout",
     "output_type": "stream",
     "text": [
      "24 / 128\n"
     ]
    },
    {
     "name": "stderr",
     "output_type": "stream",
     "text": [
      "21:52:22 - cmdstanpy - INFO - Chain [1] done processing\n",
      "21:52:22 - cmdstanpy - INFO - Chain [1] start processing\n",
      "21:52:22 - cmdstanpy - INFO - Chain [1] start processing\n",
      "21:52:22 - cmdstanpy - INFO - Chain [1] start processing\n",
      "21:52:22 - cmdstanpy - INFO - Chain [1] start processing\n",
      "21:52:22 - cmdstanpy - INFO - Chain [1] start processing\n",
      "21:52:22 - cmdstanpy - INFO - Chain [1] start processing\n",
      "21:52:22 - cmdstanpy - INFO - Chain [1] start processing\n",
      "21:52:22 - cmdstanpy - INFO - Chain [1] start processing\n",
      "21:52:22 - cmdstanpy - INFO - Chain [1] done processing\n",
      "21:52:23 - cmdstanpy - INFO - Chain [1] done processing\n",
      "21:52:23 - cmdstanpy - INFO - Chain [1] done processing\n",
      "21:52:23 - cmdstanpy - INFO - Chain [1] done processing\n",
      "21:52:23 - cmdstanpy - INFO - Chain [1] done processing\n",
      "21:52:23 - cmdstanpy - INFO - Chain [1] done processing\n",
      "21:52:23 - cmdstanpy - INFO - Chain [1] done processing\n",
      "21:52:23 - cmdstanpy - INFO - Chain [1] done processing\n",
      "21:52:23 - cmdstanpy - INFO - Chain [1] start processing\n"
     ]
    },
    {
     "name": "stdout",
     "output_type": "stream",
     "text": [
      "25 / 128\n"
     ]
    },
    {
     "name": "stderr",
     "output_type": "stream",
     "text": [
      "21:52:23 - cmdstanpy - INFO - Chain [1] done processing\n",
      "21:52:23 - cmdstanpy - INFO - Chain [1] start processing\n",
      "21:52:23 - cmdstanpy - INFO - Chain [1] start processing\n",
      "21:52:23 - cmdstanpy - INFO - Chain [1] start processing\n",
      "21:52:23 - cmdstanpy - INFO - Chain [1] start processing\n",
      "21:52:23 - cmdstanpy - INFO - Chain [1] start processing\n",
      "21:52:23 - cmdstanpy - INFO - Chain [1] start processing\n",
      "21:52:23 - cmdstanpy - INFO - Chain [1] start processing\n",
      "21:52:23 - cmdstanpy - INFO - Chain [1] start processing\n",
      "21:52:24 - cmdstanpy - INFO - Chain [1] done processing\n",
      "21:52:24 - cmdstanpy - INFO - Chain [1] done processing\n",
      "21:52:24 - cmdstanpy - INFO - Chain [1] done processing\n",
      "21:52:24 - cmdstanpy - INFO - Chain [1] done processing\n",
      "21:52:24 - cmdstanpy - INFO - Chain [1] done processing\n",
      "21:52:24 - cmdstanpy - INFO - Chain [1] done processing\n",
      "21:52:24 - cmdstanpy - INFO - Chain [1] done processing\n",
      "21:52:24 - cmdstanpy - INFO - Chain [1] done processing\n",
      "21:52:24 - cmdstanpy - INFO - Chain [1] start processing\n"
     ]
    },
    {
     "name": "stdout",
     "output_type": "stream",
     "text": [
      "26 / 128\n"
     ]
    },
    {
     "name": "stderr",
     "output_type": "stream",
     "text": [
      "21:52:24 - cmdstanpy - INFO - Chain [1] done processing\n",
      "21:52:25 - cmdstanpy - INFO - Chain [1] start processing\n",
      "21:52:25 - cmdstanpy - INFO - Chain [1] start processing\n",
      "21:52:25 - cmdstanpy - INFO - Chain [1] start processing\n",
      "21:52:25 - cmdstanpy - INFO - Chain [1] start processing\n",
      "21:52:25 - cmdstanpy - INFO - Chain [1] start processing\n",
      "21:52:25 - cmdstanpy - INFO - Chain [1] start processing\n",
      "21:52:25 - cmdstanpy - INFO - Chain [1] start processing\n",
      "21:52:25 - cmdstanpy - INFO - Chain [1] start processing\n",
      "21:52:25 - cmdstanpy - INFO - Chain [1] done processing\n",
      "21:52:25 - cmdstanpy - INFO - Chain [1] done processing\n",
      "21:52:25 - cmdstanpy - INFO - Chain [1] done processing\n",
      "21:52:25 - cmdstanpy - INFO - Chain [1] done processing\n",
      "21:52:25 - cmdstanpy - INFO - Chain [1] done processing\n",
      "21:52:25 - cmdstanpy - INFO - Chain [1] done processing\n",
      "21:52:25 - cmdstanpy - INFO - Chain [1] done processing\n",
      "21:52:25 - cmdstanpy - INFO - Chain [1] done processing\n",
      "21:52:25 - cmdstanpy - INFO - Chain [1] start processing\n"
     ]
    },
    {
     "name": "stdout",
     "output_type": "stream",
     "text": [
      "27 / 128\n"
     ]
    },
    {
     "name": "stderr",
     "output_type": "stream",
     "text": [
      "21:52:26 - cmdstanpy - INFO - Chain [1] done processing\n",
      "21:52:26 - cmdstanpy - INFO - Chain [1] start processing\n",
      "21:52:26 - cmdstanpy - INFO - Chain [1] start processing\n",
      "21:52:26 - cmdstanpy - INFO - Chain [1] start processing\n",
      "21:52:26 - cmdstanpy - INFO - Chain [1] start processing\n",
      "21:52:26 - cmdstanpy - INFO - Chain [1] start processing\n",
      "21:52:26 - cmdstanpy - INFO - Chain [1] start processing\n",
      "21:52:26 - cmdstanpy - INFO - Chain [1] start processing\n",
      "21:52:26 - cmdstanpy - INFO - Chain [1] start processing\n",
      "21:52:26 - cmdstanpy - INFO - Chain [1] done processing\n",
      "21:52:26 - cmdstanpy - INFO - Chain [1] done processing\n",
      "21:52:26 - cmdstanpy - INFO - Chain [1] done processing\n",
      "21:52:26 - cmdstanpy - INFO - Chain [1] done processing\n",
      "21:52:26 - cmdstanpy - INFO - Chain [1] done processing\n",
      "21:52:26 - cmdstanpy - INFO - Chain [1] done processing\n",
      "21:52:26 - cmdstanpy - INFO - Chain [1] done processing\n",
      "21:52:26 - cmdstanpy - INFO - Chain [1] done processing\n"
     ]
    },
    {
     "name": "stdout",
     "output_type": "stream",
     "text": [
      "28 / 128\n"
     ]
    },
    {
     "name": "stderr",
     "output_type": "stream",
     "text": [
      "21:52:27 - cmdstanpy - INFO - Chain [1] start processing\n",
      "21:52:27 - cmdstanpy - INFO - Chain [1] done processing\n",
      "21:52:27 - cmdstanpy - INFO - Chain [1] start processing\n",
      "21:52:27 - cmdstanpy - INFO - Chain [1] start processing\n",
      "21:52:27 - cmdstanpy - INFO - Chain [1] start processing\n",
      "21:52:27 - cmdstanpy - INFO - Chain [1] start processing\n",
      "21:52:27 - cmdstanpy - INFO - Chain [1] start processing\n",
      "21:52:27 - cmdstanpy - INFO - Chain [1] start processing\n",
      "21:52:27 - cmdstanpy - INFO - Chain [1] start processing\n",
      "21:52:27 - cmdstanpy - INFO - Chain [1] start processing\n",
      "21:52:27 - cmdstanpy - INFO - Chain [1] done processing\n",
      "21:52:27 - cmdstanpy - INFO - Chain [1] done processing\n",
      "21:52:27 - cmdstanpy - INFO - Chain [1] done processing\n",
      "21:52:27 - cmdstanpy - INFO - Chain [1] done processing\n",
      "21:52:27 - cmdstanpy - INFO - Chain [1] done processing\n",
      "21:52:27 - cmdstanpy - INFO - Chain [1] done processing\n",
      "21:52:27 - cmdstanpy - INFO - Chain [1] done processing\n",
      "21:52:28 - cmdstanpy - INFO - Chain [1] done processing\n",
      "21:52:28 - cmdstanpy - INFO - Chain [1] start processing\n"
     ]
    },
    {
     "name": "stdout",
     "output_type": "stream",
     "text": [
      "29 / 128\n"
     ]
    },
    {
     "name": "stderr",
     "output_type": "stream",
     "text": [
      "21:52:28 - cmdstanpy - INFO - Chain [1] done processing\n",
      "21:52:28 - cmdstanpy - INFO - Chain [1] start processing\n",
      "21:52:28 - cmdstanpy - INFO - Chain [1] start processing\n",
      "21:52:28 - cmdstanpy - INFO - Chain [1] start processing\n",
      "21:52:28 - cmdstanpy - INFO - Chain [1] start processing\n",
      "21:52:28 - cmdstanpy - INFO - Chain [1] start processing\n",
      "21:52:28 - cmdstanpy - INFO - Chain [1] start processing\n",
      "21:52:28 - cmdstanpy - INFO - Chain [1] start processing\n",
      "21:52:28 - cmdstanpy - INFO - Chain [1] start processing\n",
      "21:52:28 - cmdstanpy - INFO - Chain [1] done processing\n",
      "21:52:28 - cmdstanpy - INFO - Chain [1] done processing\n",
      "21:52:28 - cmdstanpy - INFO - Chain [1] done processing\n",
      "21:52:28 - cmdstanpy - INFO - Chain [1] done processing\n",
      "21:52:28 - cmdstanpy - INFO - Chain [1] done processing\n",
      "21:52:28 - cmdstanpy - INFO - Chain [1] done processing\n",
      "21:52:29 - cmdstanpy - INFO - Chain [1] done processing\n",
      "21:52:29 - cmdstanpy - INFO - Chain [1] done processing\n",
      "21:52:29 - cmdstanpy - INFO - Chain [1] start processing\n"
     ]
    },
    {
     "name": "stdout",
     "output_type": "stream",
     "text": [
      "30 / 128\n"
     ]
    },
    {
     "name": "stderr",
     "output_type": "stream",
     "text": [
      "21:52:29 - cmdstanpy - INFO - Chain [1] done processing\n",
      "21:52:29 - cmdstanpy - INFO - Chain [1] start processing\n",
      "21:52:29 - cmdstanpy - INFO - Chain [1] start processing\n",
      "21:52:29 - cmdstanpy - INFO - Chain [1] start processing\n",
      "21:52:29 - cmdstanpy - INFO - Chain [1] start processing\n",
      "21:52:29 - cmdstanpy - INFO - Chain [1] start processing\n",
      "21:52:29 - cmdstanpy - INFO - Chain [1] start processing\n",
      "21:52:29 - cmdstanpy - INFO - Chain [1] start processing\n",
      "21:52:29 - cmdstanpy - INFO - Chain [1] start processing\n",
      "21:52:29 - cmdstanpy - INFO - Chain [1] done processing\n",
      "21:52:29 - cmdstanpy - INFO - Chain [1] done processing\n",
      "21:52:29 - cmdstanpy - INFO - Chain [1] done processing\n",
      "21:52:29 - cmdstanpy - INFO - Chain [1] done processing\n",
      "21:52:30 - cmdstanpy - INFO - Chain [1] done processing\n",
      "21:52:30 - cmdstanpy - INFO - Chain [1] done processing\n",
      "21:52:30 - cmdstanpy - INFO - Chain [1] done processing\n",
      "21:52:30 - cmdstanpy - INFO - Chain [1] done processing\n",
      "21:52:30 - cmdstanpy - INFO - Chain [1] start processing\n"
     ]
    },
    {
     "name": "stdout",
     "output_type": "stream",
     "text": [
      "31 / 128\n"
     ]
    },
    {
     "name": "stderr",
     "output_type": "stream",
     "text": [
      "21:52:30 - cmdstanpy - INFO - Chain [1] done processing\n",
      "21:52:30 - cmdstanpy - INFO - Chain [1] start processing\n",
      "21:52:30 - cmdstanpy - INFO - Chain [1] start processing\n",
      "21:52:30 - cmdstanpy - INFO - Chain [1] start processing\n",
      "21:52:30 - cmdstanpy - INFO - Chain [1] start processing\n",
      "21:52:30 - cmdstanpy - INFO - Chain [1] start processing\n",
      "21:52:30 - cmdstanpy - INFO - Chain [1] start processing\n",
      "21:52:30 - cmdstanpy - INFO - Chain [1] start processing\n",
      "21:52:30 - cmdstanpy - INFO - Chain [1] start processing\n",
      "21:52:31 - cmdstanpy - INFO - Chain [1] done processing\n",
      "21:52:31 - cmdstanpy - INFO - Chain [1] done processing\n",
      "21:52:31 - cmdstanpy - INFO - Chain [1] done processing\n",
      "21:52:31 - cmdstanpy - INFO - Chain [1] done processing\n",
      "21:52:31 - cmdstanpy - INFO - Chain [1] done processing\n",
      "21:52:31 - cmdstanpy - INFO - Chain [1] done processing\n",
      "21:52:31 - cmdstanpy - INFO - Chain [1] done processing\n",
      "21:52:31 - cmdstanpy - INFO - Chain [1] done processing\n",
      "21:52:31 - cmdstanpy - INFO - Chain [1] start processing\n"
     ]
    },
    {
     "name": "stdout",
     "output_type": "stream",
     "text": [
      "32 / 128\n"
     ]
    },
    {
     "name": "stderr",
     "output_type": "stream",
     "text": [
      "21:52:31 - cmdstanpy - INFO - Chain [1] done processing\n",
      "21:52:31 - cmdstanpy - INFO - Chain [1] start processing\n",
      "21:52:31 - cmdstanpy - INFO - Chain [1] start processing\n",
      "21:52:31 - cmdstanpy - INFO - Chain [1] start processing\n",
      "21:52:31 - cmdstanpy - INFO - Chain [1] start processing\n",
      "21:52:31 - cmdstanpy - INFO - Chain [1] start processing\n",
      "21:52:31 - cmdstanpy - INFO - Chain [1] start processing\n",
      "21:52:31 - cmdstanpy - INFO - Chain [1] start processing\n",
      "21:52:31 - cmdstanpy - INFO - Chain [1] start processing\n",
      "21:52:32 - cmdstanpy - INFO - Chain [1] done processing\n",
      "21:52:32 - cmdstanpy - INFO - Chain [1] done processing\n",
      "21:52:32 - cmdstanpy - INFO - Chain [1] done processing\n",
      "21:52:32 - cmdstanpy - INFO - Chain [1] done processing\n",
      "21:52:32 - cmdstanpy - INFO - Chain [1] done processing\n",
      "21:52:32 - cmdstanpy - INFO - Chain [1] done processing\n",
      "21:52:32 - cmdstanpy - INFO - Chain [1] done processing\n",
      "21:52:32 - cmdstanpy - INFO - Chain [1] done processing\n",
      "21:52:32 - cmdstanpy - INFO - Chain [1] start processing\n"
     ]
    },
    {
     "name": "stdout",
     "output_type": "stream",
     "text": [
      "33 / 128\n"
     ]
    },
    {
     "name": "stderr",
     "output_type": "stream",
     "text": [
      "21:52:32 - cmdstanpy - INFO - Chain [1] done processing\n",
      "21:52:33 - cmdstanpy - INFO - Chain [1] start processing\n",
      "21:52:33 - cmdstanpy - INFO - Chain [1] start processing\n",
      "21:52:33 - cmdstanpy - INFO - Chain [1] start processing\n",
      "21:52:33 - cmdstanpy - INFO - Chain [1] start processing\n",
      "21:52:33 - cmdstanpy - INFO - Chain [1] start processing\n",
      "21:52:33 - cmdstanpy - INFO - Chain [1] start processing\n",
      "21:52:33 - cmdstanpy - INFO - Chain [1] start processing\n",
      "21:52:33 - cmdstanpy - INFO - Chain [1] start processing\n",
      "21:52:33 - cmdstanpy - INFO - Chain [1] done processing\n",
      "21:52:33 - cmdstanpy - INFO - Chain [1] done processing\n",
      "21:52:33 - cmdstanpy - INFO - Chain [1] done processing\n",
      "21:52:33 - cmdstanpy - INFO - Chain [1] done processing\n",
      "21:52:33 - cmdstanpy - INFO - Chain [1] done processing\n",
      "21:52:33 - cmdstanpy - INFO - Chain [1] done processing\n",
      "21:52:33 - cmdstanpy - INFO - Chain [1] done processing\n",
      "21:52:33 - cmdstanpy - INFO - Chain [1] done processing\n",
      "21:52:33 - cmdstanpy - INFO - Chain [1] start processing\n"
     ]
    },
    {
     "name": "stdout",
     "output_type": "stream",
     "text": [
      "34 / 128\n"
     ]
    },
    {
     "name": "stderr",
     "output_type": "stream",
     "text": [
      "21:52:34 - cmdstanpy - INFO - Chain [1] done processing\n",
      "21:52:34 - cmdstanpy - INFO - Chain [1] start processing\n",
      "21:52:34 - cmdstanpy - INFO - Chain [1] start processing\n",
      "21:52:34 - cmdstanpy - INFO - Chain [1] start processing\n",
      "21:52:34 - cmdstanpy - INFO - Chain [1] start processing\n",
      "21:52:34 - cmdstanpy - INFO - Chain [1] start processing\n",
      "21:52:34 - cmdstanpy - INFO - Chain [1] start processing\n",
      "21:52:34 - cmdstanpy - INFO - Chain [1] start processing\n",
      "21:52:34 - cmdstanpy - INFO - Chain [1] start processing\n",
      "21:52:34 - cmdstanpy - INFO - Chain [1] done processing\n",
      "21:52:34 - cmdstanpy - INFO - Chain [1] done processing\n",
      "21:52:34 - cmdstanpy - INFO - Chain [1] done processing\n",
      "21:52:34 - cmdstanpy - INFO - Chain [1] done processing\n",
      "21:52:34 - cmdstanpy - INFO - Chain [1] done processing\n",
      "21:52:34 - cmdstanpy - INFO - Chain [1] done processing\n",
      "21:52:34 - cmdstanpy - INFO - Chain [1] done processing\n",
      "21:52:34 - cmdstanpy - INFO - Chain [1] done processing\n",
      "21:52:35 - cmdstanpy - INFO - Chain [1] start processing\n"
     ]
    },
    {
     "name": "stdout",
     "output_type": "stream",
     "text": [
      "35 / 128\n"
     ]
    },
    {
     "name": "stderr",
     "output_type": "stream",
     "text": [
      "21:52:35 - cmdstanpy - INFO - Chain [1] done processing\n",
      "21:52:35 - cmdstanpy - INFO - Chain [1] start processing\n",
      "21:52:35 - cmdstanpy - INFO - Chain [1] start processing\n",
      "21:52:35 - cmdstanpy - INFO - Chain [1] start processing\n",
      "21:52:35 - cmdstanpy - INFO - Chain [1] start processing\n",
      "21:52:35 - cmdstanpy - INFO - Chain [1] start processing\n",
      "21:52:35 - cmdstanpy - INFO - Chain [1] start processing\n",
      "21:52:35 - cmdstanpy - INFO - Chain [1] start processing\n",
      "21:52:35 - cmdstanpy - INFO - Chain [1] start processing\n",
      "21:52:36 - cmdstanpy - INFO - Chain [1] done processing\n",
      "21:52:36 - cmdstanpy - INFO - Chain [1] done processing\n",
      "21:52:36 - cmdstanpy - INFO - Chain [1] done processing\n",
      "21:52:36 - cmdstanpy - INFO - Chain [1] done processing\n",
      "21:52:36 - cmdstanpy - INFO - Chain [1] done processing\n",
      "21:52:36 - cmdstanpy - INFO - Chain [1] done processing\n",
      "21:52:36 - cmdstanpy - INFO - Chain [1] done processing\n",
      "21:52:36 - cmdstanpy - INFO - Chain [1] done processing\n",
      "21:52:36 - cmdstanpy - INFO - Chain [1] start processing\n"
     ]
    },
    {
     "name": "stdout",
     "output_type": "stream",
     "text": [
      "36 / 128\n"
     ]
    },
    {
     "name": "stderr",
     "output_type": "stream",
     "text": [
      "21:52:36 - cmdstanpy - INFO - Chain [1] done processing\n",
      "21:52:36 - cmdstanpy - INFO - Chain [1] start processing\n",
      "21:52:36 - cmdstanpy - INFO - Chain [1] start processing\n",
      "21:52:36 - cmdstanpy - INFO - Chain [1] start processing\n",
      "21:52:36 - cmdstanpy - INFO - Chain [1] start processing\n",
      "21:52:36 - cmdstanpy - INFO - Chain [1] start processing\n",
      "21:52:36 - cmdstanpy - INFO - Chain [1] start processing\n",
      "21:52:36 - cmdstanpy - INFO - Chain [1] start processing\n",
      "21:52:36 - cmdstanpy - INFO - Chain [1] start processing\n",
      "21:52:37 - cmdstanpy - INFO - Chain [1] done processing\n",
      "21:52:37 - cmdstanpy - INFO - Chain [1] done processing\n",
      "21:52:37 - cmdstanpy - INFO - Chain [1] done processing\n",
      "21:52:37 - cmdstanpy - INFO - Chain [1] done processing\n",
      "21:52:37 - cmdstanpy - INFO - Chain [1] done processing\n",
      "21:52:37 - cmdstanpy - INFO - Chain [1] done processing\n",
      "21:52:37 - cmdstanpy - INFO - Chain [1] done processing\n",
      "21:52:37 - cmdstanpy - INFO - Chain [1] done processing\n",
      "21:52:37 - cmdstanpy - INFO - Chain [1] start processing\n"
     ]
    },
    {
     "name": "stdout",
     "output_type": "stream",
     "text": [
      "37 / 128\n"
     ]
    },
    {
     "name": "stderr",
     "output_type": "stream",
     "text": [
      "21:52:37 - cmdstanpy - INFO - Chain [1] done processing\n",
      "21:52:38 - cmdstanpy - INFO - Chain [1] start processing\n",
      "21:52:38 - cmdstanpy - INFO - Chain [1] start processing\n",
      "21:52:38 - cmdstanpy - INFO - Chain [1] start processing\n",
      "21:52:38 - cmdstanpy - INFO - Chain [1] start processing\n",
      "21:52:38 - cmdstanpy - INFO - Chain [1] start processing\n",
      "21:52:38 - cmdstanpy - INFO - Chain [1] start processing\n",
      "21:52:38 - cmdstanpy - INFO - Chain [1] start processing\n",
      "21:52:38 - cmdstanpy - INFO - Chain [1] start processing\n",
      "21:52:38 - cmdstanpy - INFO - Chain [1] done processing\n",
      "21:52:38 - cmdstanpy - INFO - Chain [1] done processing\n",
      "21:52:38 - cmdstanpy - INFO - Chain [1] done processing\n",
      "21:52:38 - cmdstanpy - INFO - Chain [1] done processing\n",
      "21:52:38 - cmdstanpy - INFO - Chain [1] done processing\n",
      "21:52:38 - cmdstanpy - INFO - Chain [1] done processing\n",
      "21:52:38 - cmdstanpy - INFO - Chain [1] done processing\n",
      "21:52:38 - cmdstanpy - INFO - Chain [1] done processing\n",
      "21:52:38 - cmdstanpy - INFO - Chain [1] start processing\n"
     ]
    },
    {
     "name": "stdout",
     "output_type": "stream",
     "text": [
      "38 / 128\n"
     ]
    },
    {
     "name": "stderr",
     "output_type": "stream",
     "text": [
      "21:52:39 - cmdstanpy - INFO - Chain [1] done processing\n",
      "21:52:39 - cmdstanpy - INFO - Chain [1] start processing\n",
      "21:52:39 - cmdstanpy - INFO - Chain [1] start processing\n",
      "21:52:39 - cmdstanpy - INFO - Chain [1] start processing\n",
      "21:52:39 - cmdstanpy - INFO - Chain [1] start processing\n",
      "21:52:39 - cmdstanpy - INFO - Chain [1] start processing\n",
      "21:52:39 - cmdstanpy - INFO - Chain [1] start processing\n",
      "21:52:39 - cmdstanpy - INFO - Chain [1] start processing\n",
      "21:52:39 - cmdstanpy - INFO - Chain [1] start processing\n",
      "21:52:39 - cmdstanpy - INFO - Chain [1] done processing\n",
      "21:52:39 - cmdstanpy - INFO - Chain [1] done processing\n",
      "21:52:39 - cmdstanpy - INFO - Chain [1] done processing\n",
      "21:52:39 - cmdstanpy - INFO - Chain [1] done processing\n",
      "21:52:39 - cmdstanpy - INFO - Chain [1] done processing\n",
      "21:52:39 - cmdstanpy - INFO - Chain [1] done processing\n",
      "21:52:39 - cmdstanpy - INFO - Chain [1] done processing\n",
      "21:52:40 - cmdstanpy - INFO - Chain [1] done processing\n",
      "21:52:40 - cmdstanpy - INFO - Chain [1] start processing\n"
     ]
    },
    {
     "name": "stdout",
     "output_type": "stream",
     "text": [
      "39 / 128\n"
     ]
    },
    {
     "name": "stderr",
     "output_type": "stream",
     "text": [
      "21:52:40 - cmdstanpy - INFO - Chain [1] done processing\n",
      "21:52:40 - cmdstanpy - INFO - Chain [1] start processing\n",
      "21:52:40 - cmdstanpy - INFO - Chain [1] start processing\n",
      "21:52:40 - cmdstanpy - INFO - Chain [1] start processing\n",
      "21:52:40 - cmdstanpy - INFO - Chain [1] start processing\n",
      "21:52:40 - cmdstanpy - INFO - Chain [1] start processing\n",
      "21:52:40 - cmdstanpy - INFO - Chain [1] start processing\n",
      "21:52:40 - cmdstanpy - INFO - Chain [1] start processing\n",
      "21:52:40 - cmdstanpy - INFO - Chain [1] start processing\n",
      "21:52:40 - cmdstanpy - INFO - Chain [1] done processing\n",
      "21:52:40 - cmdstanpy - INFO - Chain [1] done processing\n",
      "21:52:41 - cmdstanpy - INFO - Chain [1] done processing\n",
      "21:52:41 - cmdstanpy - INFO - Chain [1] done processing\n",
      "21:52:41 - cmdstanpy - INFO - Chain [1] done processing\n",
      "21:52:41 - cmdstanpy - INFO - Chain [1] done processing\n",
      "21:52:41 - cmdstanpy - INFO - Chain [1] done processing\n",
      "21:52:41 - cmdstanpy - INFO - Chain [1] done processing\n",
      "21:52:41 - cmdstanpy - INFO - Chain [1] start processing\n"
     ]
    },
    {
     "name": "stdout",
     "output_type": "stream",
     "text": [
      "40 / 128\n"
     ]
    },
    {
     "name": "stderr",
     "output_type": "stream",
     "text": [
      "21:52:41 - cmdstanpy - INFO - Chain [1] done processing\n",
      "21:52:41 - cmdstanpy - INFO - Chain [1] start processing\n",
      "21:52:41 - cmdstanpy - INFO - Chain [1] start processing\n",
      "21:52:41 - cmdstanpy - INFO - Chain [1] done processing\n",
      "21:52:41 - cmdstanpy - INFO - Chain [1] start processing\n",
      "21:52:41 - cmdstanpy - INFO - Chain [1] start processing\n",
      "21:52:41 - cmdstanpy - INFO - Chain [1] start processing\n",
      "21:52:41 - cmdstanpy - INFO - Chain [1] start processing\n",
      "21:52:41 - cmdstanpy - INFO - Chain [1] start processing\n",
      "21:52:41 - cmdstanpy - INFO - Chain [1] start processing\n",
      "21:52:42 - cmdstanpy - INFO - Chain [1] done processing\n",
      "21:52:42 - cmdstanpy - INFO - Chain [1] done processing\n",
      "21:52:42 - cmdstanpy - INFO - Chain [1] done processing\n",
      "21:52:42 - cmdstanpy - INFO - Chain [1] done processing\n",
      "21:52:42 - cmdstanpy - INFO - Chain [1] done processing\n",
      "21:52:42 - cmdstanpy - INFO - Chain [1] done processing\n",
      "21:52:42 - cmdstanpy - INFO - Chain [1] done processing\n",
      "21:52:42 - cmdstanpy - INFO - Chain [1] start processing\n"
     ]
    },
    {
     "name": "stdout",
     "output_type": "stream",
     "text": [
      "41 / 128\n"
     ]
    },
    {
     "name": "stderr",
     "output_type": "stream",
     "text": [
      "21:52:42 - cmdstanpy - INFO - Chain [1] done processing\n",
      "21:52:43 - cmdstanpy - INFO - Chain [1] start processing\n",
      "21:52:43 - cmdstanpy - INFO - Chain [1] start processing\n",
      "21:52:43 - cmdstanpy - INFO - Chain [1] start processing\n",
      "21:52:43 - cmdstanpy - INFO - Chain [1] start processing\n",
      "21:52:43 - cmdstanpy - INFO - Chain [1] start processing\n",
      "21:52:43 - cmdstanpy - INFO - Chain [1] start processing\n",
      "21:52:43 - cmdstanpy - INFO - Chain [1] start processing\n",
      "21:52:43 - cmdstanpy - INFO - Chain [1] start processing\n",
      "21:52:43 - cmdstanpy - INFO - Chain [1] done processing\n",
      "21:52:43 - cmdstanpy - INFO - Chain [1] done processing\n",
      "21:52:43 - cmdstanpy - INFO - Chain [1] done processing\n",
      "21:52:43 - cmdstanpy - INFO - Chain [1] done processing\n",
      "21:52:43 - cmdstanpy - INFO - Chain [1] done processing\n",
      "21:52:43 - cmdstanpy - INFO - Chain [1] done processing\n",
      "21:52:43 - cmdstanpy - INFO - Chain [1] done processing\n",
      "21:52:43 - cmdstanpy - INFO - Chain [1] done processing\n",
      "21:52:44 - cmdstanpy - INFO - Chain [1] start processing\n"
     ]
    },
    {
     "name": "stdout",
     "output_type": "stream",
     "text": [
      "42 / 128\n"
     ]
    },
    {
     "name": "stderr",
     "output_type": "stream",
     "text": [
      "21:52:44 - cmdstanpy - INFO - Chain [1] done processing\n",
      "21:52:44 - cmdstanpy - INFO - Chain [1] start processing\n",
      "21:52:44 - cmdstanpy - INFO - Chain [1] start processing\n",
      "21:52:44 - cmdstanpy - INFO - Chain [1] start processing\n",
      "21:52:44 - cmdstanpy - INFO - Chain [1] start processing\n",
      "21:52:44 - cmdstanpy - INFO - Chain [1] start processing\n",
      "21:52:44 - cmdstanpy - INFO - Chain [1] start processing\n",
      "21:52:44 - cmdstanpy - INFO - Chain [1] start processing\n",
      "21:52:44 - cmdstanpy - INFO - Chain [1] start processing\n",
      "21:52:44 - cmdstanpy - INFO - Chain [1] done processing\n",
      "21:52:44 - cmdstanpy - INFO - Chain [1] done processing\n",
      "21:52:44 - cmdstanpy - INFO - Chain [1] done processing\n",
      "21:52:44 - cmdstanpy - INFO - Chain [1] done processing\n",
      "21:52:44 - cmdstanpy - INFO - Chain [1] done processing\n",
      "21:52:44 - cmdstanpy - INFO - Chain [1] done processing\n",
      "21:52:44 - cmdstanpy - INFO - Chain [1] done processing\n",
      "21:52:44 - cmdstanpy - INFO - Chain [1] done processing\n",
      "21:52:45 - cmdstanpy - INFO - Chain [1] start processing\n"
     ]
    },
    {
     "name": "stdout",
     "output_type": "stream",
     "text": [
      "43 / 128\n"
     ]
    },
    {
     "name": "stderr",
     "output_type": "stream",
     "text": [
      "21:52:45 - cmdstanpy - INFO - Chain [1] done processing\n",
      "21:52:45 - cmdstanpy - INFO - Chain [1] start processing\n",
      "21:52:45 - cmdstanpy - INFO - Chain [1] start processing\n",
      "21:52:45 - cmdstanpy - INFO - Chain [1] start processing\n",
      "21:52:45 - cmdstanpy - INFO - Chain [1] start processing\n",
      "21:52:45 - cmdstanpy - INFO - Chain [1] start processing\n",
      "21:52:45 - cmdstanpy - INFO - Chain [1] start processing\n",
      "21:52:45 - cmdstanpy - INFO - Chain [1] start processing\n",
      "21:52:45 - cmdstanpy - INFO - Chain [1] start processing\n",
      "21:52:45 - cmdstanpy - INFO - Chain [1] done processing\n",
      "21:52:46 - cmdstanpy - INFO - Chain [1] done processing\n",
      "21:52:46 - cmdstanpy - INFO - Chain [1] done processing\n",
      "21:52:46 - cmdstanpy - INFO - Chain [1] done processing\n",
      "21:52:46 - cmdstanpy - INFO - Chain [1] done processing\n",
      "21:52:46 - cmdstanpy - INFO - Chain [1] done processing\n",
      "21:52:46 - cmdstanpy - INFO - Chain [1] done processing\n",
      "21:52:46 - cmdstanpy - INFO - Chain [1] done processing\n",
      "21:52:46 - cmdstanpy - INFO - Chain [1] start processing\n"
     ]
    },
    {
     "name": "stdout",
     "output_type": "stream",
     "text": [
      "44 / 128\n"
     ]
    },
    {
     "name": "stderr",
     "output_type": "stream",
     "text": [
      "21:52:46 - cmdstanpy - INFO - Chain [1] done processing\n",
      "21:52:46 - cmdstanpy - INFO - Chain [1] start processing\n",
      "21:52:46 - cmdstanpy - INFO - Chain [1] start processing\n",
      "21:52:46 - cmdstanpy - INFO - Chain [1] start processing\n",
      "21:52:46 - cmdstanpy - INFO - Chain [1] start processing\n",
      "21:52:46 - cmdstanpy - INFO - Chain [1] start processing\n",
      "21:52:46 - cmdstanpy - INFO - Chain [1] start processing\n",
      "21:52:46 - cmdstanpy - INFO - Chain [1] start processing\n",
      "21:52:47 - cmdstanpy - INFO - Chain [1] start processing\n",
      "21:52:47 - cmdstanpy - INFO - Chain [1] done processing\n",
      "21:52:47 - cmdstanpy - INFO - Chain [1] done processing\n",
      "21:52:47 - cmdstanpy - INFO - Chain [1] done processing\n",
      "21:52:47 - cmdstanpy - INFO - Chain [1] done processing\n",
      "21:52:47 - cmdstanpy - INFO - Chain [1] done processing\n",
      "21:52:47 - cmdstanpy - INFO - Chain [1] done processing\n",
      "21:52:47 - cmdstanpy - INFO - Chain [1] done processing\n",
      "21:52:47 - cmdstanpy - INFO - Chain [1] done processing\n",
      "21:52:47 - cmdstanpy - INFO - Chain [1] start processing\n"
     ]
    },
    {
     "name": "stdout",
     "output_type": "stream",
     "text": [
      "45 / 128\n"
     ]
    },
    {
     "name": "stderr",
     "output_type": "stream",
     "text": [
      "21:52:47 - cmdstanpy - INFO - Chain [1] done processing\n",
      "21:52:48 - cmdstanpy - INFO - Chain [1] start processing\n",
      "21:52:48 - cmdstanpy - INFO - Chain [1] start processing\n",
      "21:52:48 - cmdstanpy - INFO - Chain [1] start processing\n",
      "21:52:48 - cmdstanpy - INFO - Chain [1] start processing\n",
      "21:52:48 - cmdstanpy - INFO - Chain [1] start processing\n",
      "21:52:48 - cmdstanpy - INFO - Chain [1] start processing\n",
      "21:52:48 - cmdstanpy - INFO - Chain [1] start processing\n",
      "21:52:48 - cmdstanpy - INFO - Chain [1] start processing\n",
      "21:52:48 - cmdstanpy - INFO - Chain [1] done processing\n",
      "21:52:48 - cmdstanpy - INFO - Chain [1] done processing\n",
      "21:52:48 - cmdstanpy - INFO - Chain [1] done processing\n",
      "21:52:48 - cmdstanpy - INFO - Chain [1] done processing\n",
      "21:52:48 - cmdstanpy - INFO - Chain [1] done processing\n",
      "21:52:48 - cmdstanpy - INFO - Chain [1] done processing\n",
      "21:52:48 - cmdstanpy - INFO - Chain [1] done processing\n",
      "21:52:48 - cmdstanpy - INFO - Chain [1] done processing\n",
      "21:52:49 - cmdstanpy - INFO - Chain [1] start processing\n"
     ]
    },
    {
     "name": "stdout",
     "output_type": "stream",
     "text": [
      "46 / 128\n"
     ]
    },
    {
     "name": "stderr",
     "output_type": "stream",
     "text": [
      "21:52:49 - cmdstanpy - INFO - Chain [1] done processing\n",
      "21:52:49 - cmdstanpy - INFO - Chain [1] start processing\n",
      "21:52:49 - cmdstanpy - INFO - Chain [1] start processing\n",
      "21:52:49 - cmdstanpy - INFO - Chain [1] start processing\n",
      "21:52:49 - cmdstanpy - INFO - Chain [1] start processing\n",
      "21:52:49 - cmdstanpy - INFO - Chain [1] start processing\n",
      "21:52:49 - cmdstanpy - INFO - Chain [1] start processing\n",
      "21:52:49 - cmdstanpy - INFO - Chain [1] start processing\n",
      "21:52:49 - cmdstanpy - INFO - Chain [1] start processing\n",
      "21:52:49 - cmdstanpy - INFO - Chain [1] done processing\n",
      "21:52:49 - cmdstanpy - INFO - Chain [1] done processing\n",
      "21:52:49 - cmdstanpy - INFO - Chain [1] done processing\n",
      "21:52:49 - cmdstanpy - INFO - Chain [1] done processing\n",
      "21:52:49 - cmdstanpy - INFO - Chain [1] done processing\n",
      "21:52:50 - cmdstanpy - INFO - Chain [1] done processing\n",
      "21:52:50 - cmdstanpy - INFO - Chain [1] done processing\n",
      "21:52:50 - cmdstanpy - INFO - Chain [1] done processing\n",
      "21:52:50 - cmdstanpy - INFO - Chain [1] start processing\n"
     ]
    },
    {
     "name": "stdout",
     "output_type": "stream",
     "text": [
      "47 / 128\n"
     ]
    },
    {
     "name": "stderr",
     "output_type": "stream",
     "text": [
      "21:52:50 - cmdstanpy - INFO - Chain [1] done processing\n",
      "21:52:50 - cmdstanpy - INFO - Chain [1] start processing\n",
      "21:52:50 - cmdstanpy - INFO - Chain [1] start processing\n",
      "21:52:50 - cmdstanpy - INFO - Chain [1] start processing\n",
      "21:52:50 - cmdstanpy - INFO - Chain [1] start processing\n",
      "21:52:50 - cmdstanpy - INFO - Chain [1] start processing\n",
      "21:52:50 - cmdstanpy - INFO - Chain [1] start processing\n",
      "21:52:50 - cmdstanpy - INFO - Chain [1] start processing\n",
      "21:52:50 - cmdstanpy - INFO - Chain [1] start processing\n",
      "21:52:51 - cmdstanpy - INFO - Chain [1] done processing\n",
      "21:52:51 - cmdstanpy - INFO - Chain [1] done processing\n",
      "21:52:51 - cmdstanpy - INFO - Chain [1] done processing\n",
      "21:52:51 - cmdstanpy - INFO - Chain [1] done processing\n",
      "21:52:51 - cmdstanpy - INFO - Chain [1] done processing\n",
      "21:52:51 - cmdstanpy - INFO - Chain [1] done processing\n",
      "21:52:51 - cmdstanpy - INFO - Chain [1] done processing\n",
      "21:52:51 - cmdstanpy - INFO - Chain [1] done processing\n",
      "21:52:51 - cmdstanpy - INFO - Chain [1] start processing\n"
     ]
    },
    {
     "name": "stdout",
     "output_type": "stream",
     "text": [
      "48 / 128\n"
     ]
    },
    {
     "name": "stderr",
     "output_type": "stream",
     "text": [
      "21:52:51 - cmdstanpy - INFO - Chain [1] done processing\n",
      "21:52:51 - cmdstanpy - INFO - Chain [1] start processing\n",
      "21:52:51 - cmdstanpy - INFO - Chain [1] start processing\n",
      "21:52:51 - cmdstanpy - INFO - Chain [1] start processing\n",
      "21:52:51 - cmdstanpy - INFO - Chain [1] start processing\n",
      "21:52:51 - cmdstanpy - INFO - Chain [1] start processing\n",
      "21:52:51 - cmdstanpy - INFO - Chain [1] start processing\n",
      "21:52:51 - cmdstanpy - INFO - Chain [1] start processing\n",
      "21:52:51 - cmdstanpy - INFO - Chain [1] start processing\n",
      "21:52:52 - cmdstanpy - INFO - Chain [1] done processing\n",
      "21:52:52 - cmdstanpy - INFO - Chain [1] done processing\n",
      "21:52:52 - cmdstanpy - INFO - Chain [1] done processing\n",
      "21:52:52 - cmdstanpy - INFO - Chain [1] done processing\n",
      "21:52:52 - cmdstanpy - INFO - Chain [1] done processing\n",
      "21:52:52 - cmdstanpy - INFO - Chain [1] done processing\n",
      "21:52:52 - cmdstanpy - INFO - Chain [1] done processing\n",
      "21:52:52 - cmdstanpy - INFO - Chain [1] done processing\n",
      "21:52:52 - cmdstanpy - INFO - Chain [1] start processing\n"
     ]
    },
    {
     "name": "stdout",
     "output_type": "stream",
     "text": [
      "49 / 128\n"
     ]
    },
    {
     "name": "stderr",
     "output_type": "stream",
     "text": [
      "21:52:52 - cmdstanpy - INFO - Chain [1] done processing\n",
      "21:52:53 - cmdstanpy - INFO - Chain [1] start processing\n",
      "21:52:53 - cmdstanpy - INFO - Chain [1] start processing\n",
      "21:52:53 - cmdstanpy - INFO - Chain [1] start processing\n",
      "21:52:53 - cmdstanpy - INFO - Chain [1] start processing\n",
      "21:52:53 - cmdstanpy - INFO - Chain [1] start processing\n",
      "21:52:53 - cmdstanpy - INFO - Chain [1] start processing\n",
      "21:52:53 - cmdstanpy - INFO - Chain [1] start processing\n",
      "21:52:53 - cmdstanpy - INFO - Chain [1] start processing\n",
      "21:52:53 - cmdstanpy - INFO - Chain [1] done processing\n",
      "21:52:53 - cmdstanpy - INFO - Chain [1] done processing\n",
      "21:52:53 - cmdstanpy - INFO - Chain [1] done processing\n",
      "21:52:53 - cmdstanpy - INFO - Chain [1] done processing\n",
      "21:52:53 - cmdstanpy - INFO - Chain [1] done processing\n",
      "21:52:53 - cmdstanpy - INFO - Chain [1] done processing\n",
      "21:52:53 - cmdstanpy - INFO - Chain [1] done processing\n",
      "21:52:53 - cmdstanpy - INFO - Chain [1] done processing\n",
      "21:52:53 - cmdstanpy - INFO - Chain [1] start processing\n"
     ]
    },
    {
     "name": "stdout",
     "output_type": "stream",
     "text": [
      "50 / 128\n"
     ]
    },
    {
     "name": "stderr",
     "output_type": "stream",
     "text": [
      "21:52:54 - cmdstanpy - INFO - Chain [1] done processing\n",
      "21:52:54 - cmdstanpy - INFO - Chain [1] start processing\n",
      "21:52:54 - cmdstanpy - INFO - Chain [1] start processing\n",
      "21:52:54 - cmdstanpy - INFO - Chain [1] start processing\n",
      "21:52:54 - cmdstanpy - INFO - Chain [1] start processing\n",
      "21:52:54 - cmdstanpy - INFO - Chain [1] start processing\n",
      "21:52:54 - cmdstanpy - INFO - Chain [1] start processing\n",
      "21:52:54 - cmdstanpy - INFO - Chain [1] start processing\n",
      "21:52:54 - cmdstanpy - INFO - Chain [1] start processing\n",
      "21:52:54 - cmdstanpy - INFO - Chain [1] done processing\n",
      "21:52:54 - cmdstanpy - INFO - Chain [1] done processing\n",
      "21:52:54 - cmdstanpy - INFO - Chain [1] done processing\n",
      "21:52:54 - cmdstanpy - INFO - Chain [1] done processing\n",
      "21:52:54 - cmdstanpy - INFO - Chain [1] done processing\n",
      "21:52:54 - cmdstanpy - INFO - Chain [1] done processing\n",
      "21:52:54 - cmdstanpy - INFO - Chain [1] done processing\n",
      "21:52:54 - cmdstanpy - INFO - Chain [1] done processing\n",
      "21:52:54 - cmdstanpy - INFO - Chain [1] start processing\n"
     ]
    },
    {
     "name": "stdout",
     "output_type": "stream",
     "text": [
      "51 / 128\n"
     ]
    },
    {
     "name": "stderr",
     "output_type": "stream",
     "text": [
      "21:52:55 - cmdstanpy - INFO - Chain [1] done processing\n",
      "21:52:55 - cmdstanpy - INFO - Chain [1] start processing\n",
      "21:52:55 - cmdstanpy - INFO - Chain [1] start processing\n",
      "21:52:55 - cmdstanpy - INFO - Chain [1] start processing\n",
      "21:52:55 - cmdstanpy - INFO - Chain [1] start processing\n",
      "21:52:55 - cmdstanpy - INFO - Chain [1] start processing\n",
      "21:52:55 - cmdstanpy - INFO - Chain [1] start processing\n",
      "21:52:55 - cmdstanpy - INFO - Chain [1] start processing\n",
      "21:52:55 - cmdstanpy - INFO - Chain [1] start processing\n",
      "21:52:55 - cmdstanpy - INFO - Chain [1] done processing\n",
      "21:52:55 - cmdstanpy - INFO - Chain [1] done processing\n",
      "21:52:55 - cmdstanpy - INFO - Chain [1] done processing\n",
      "21:52:55 - cmdstanpy - INFO - Chain [1] done processing\n",
      "21:52:55 - cmdstanpy - INFO - Chain [1] done processing\n",
      "21:52:55 - cmdstanpy - INFO - Chain [1] done processing\n",
      "21:52:55 - cmdstanpy - INFO - Chain [1] done processing\n",
      "21:52:55 - cmdstanpy - INFO - Chain [1] done processing\n",
      "21:52:56 - cmdstanpy - INFO - Chain [1] start processing\n"
     ]
    },
    {
     "name": "stdout",
     "output_type": "stream",
     "text": [
      "52 / 128\n"
     ]
    },
    {
     "name": "stderr",
     "output_type": "stream",
     "text": [
      "21:52:56 - cmdstanpy - INFO - Chain [1] done processing\n",
      "21:52:56 - cmdstanpy - INFO - Chain [1] start processing\n",
      "21:52:56 - cmdstanpy - INFO - Chain [1] start processing\n",
      "21:52:56 - cmdstanpy - INFO - Chain [1] start processing\n",
      "21:52:56 - cmdstanpy - INFO - Chain [1] start processing\n",
      "21:52:56 - cmdstanpy - INFO - Chain [1] start processing\n",
      "21:52:56 - cmdstanpy - INFO - Chain [1] start processing\n",
      "21:52:56 - cmdstanpy - INFO - Chain [1] start processing\n",
      "21:52:56 - cmdstanpy - INFO - Chain [1] start processing\n",
      "21:52:56 - cmdstanpy - INFO - Chain [1] done processing\n",
      "21:52:56 - cmdstanpy - INFO - Chain [1] done processing\n",
      "21:52:56 - cmdstanpy - INFO - Chain [1] done processing\n",
      "21:52:56 - cmdstanpy - INFO - Chain [1] done processing\n",
      "21:52:56 - cmdstanpy - INFO - Chain [1] done processing\n",
      "21:52:56 - cmdstanpy - INFO - Chain [1] done processing\n",
      "21:52:57 - cmdstanpy - INFO - Chain [1] done processing\n",
      "21:52:57 - cmdstanpy - INFO - Chain [1] done processing\n",
      "21:52:57 - cmdstanpy - INFO - Chain [1] start processing\n"
     ]
    },
    {
     "name": "stdout",
     "output_type": "stream",
     "text": [
      "53 / 128\n"
     ]
    },
    {
     "name": "stderr",
     "output_type": "stream",
     "text": [
      "21:52:57 - cmdstanpy - INFO - Chain [1] done processing\n",
      "21:52:57 - cmdstanpy - INFO - Chain [1] start processing\n",
      "21:52:57 - cmdstanpy - INFO - Chain [1] start processing\n",
      "21:52:57 - cmdstanpy - INFO - Chain [1] start processing\n",
      "21:52:57 - cmdstanpy - INFO - Chain [1] start processing\n",
      "21:52:57 - cmdstanpy - INFO - Chain [1] start processing\n",
      "21:52:57 - cmdstanpy - INFO - Chain [1] start processing\n",
      "21:52:57 - cmdstanpy - INFO - Chain [1] start processing\n",
      "21:52:57 - cmdstanpy - INFO - Chain [1] start processing\n",
      "21:52:58 - cmdstanpy - INFO - Chain [1] done processing\n",
      "21:52:58 - cmdstanpy - INFO - Chain [1] done processing\n",
      "21:52:58 - cmdstanpy - INFO - Chain [1] done processing\n",
      "21:52:58 - cmdstanpy - INFO - Chain [1] done processing\n",
      "21:52:58 - cmdstanpy - INFO - Chain [1] done processing\n",
      "21:52:58 - cmdstanpy - INFO - Chain [1] done processing\n",
      "21:52:58 - cmdstanpy - INFO - Chain [1] done processing\n",
      "21:52:58 - cmdstanpy - INFO - Chain [1] done processing\n",
      "21:52:58 - cmdstanpy - INFO - Chain [1] start processing\n"
     ]
    },
    {
     "name": "stdout",
     "output_type": "stream",
     "text": [
      "54 / 128\n"
     ]
    },
    {
     "name": "stderr",
     "output_type": "stream",
     "text": [
      "21:52:58 - cmdstanpy - INFO - Chain [1] done processing\n",
      "21:52:59 - cmdstanpy - INFO - Chain [1] start processing\n",
      "21:52:59 - cmdstanpy - INFO - Chain [1] start processing\n",
      "21:52:59 - cmdstanpy - INFO - Chain [1] start processing\n",
      "21:52:59 - cmdstanpy - INFO - Chain [1] start processing\n",
      "21:52:59 - cmdstanpy - INFO - Chain [1] start processing\n",
      "21:52:59 - cmdstanpy - INFO - Chain [1] start processing\n",
      "21:52:59 - cmdstanpy - INFO - Chain [1] start processing\n",
      "21:52:59 - cmdstanpy - INFO - Chain [1] start processing\n",
      "21:52:59 - cmdstanpy - INFO - Chain [1] done processing\n",
      "21:52:59 - cmdstanpy - INFO - Chain [1] done processing\n",
      "21:52:59 - cmdstanpy - INFO - Chain [1] done processing\n",
      "21:52:59 - cmdstanpy - INFO - Chain [1] done processing\n",
      "21:52:59 - cmdstanpy - INFO - Chain [1] done processing\n",
      "21:52:59 - cmdstanpy - INFO - Chain [1] done processing\n",
      "21:52:59 - cmdstanpy - INFO - Chain [1] done processing\n",
      "21:52:59 - cmdstanpy - INFO - Chain [1] done processing\n",
      "21:53:00 - cmdstanpy - INFO - Chain [1] start processing\n"
     ]
    },
    {
     "name": "stdout",
     "output_type": "stream",
     "text": [
      "55 / 128\n"
     ]
    },
    {
     "name": "stderr",
     "output_type": "stream",
     "text": [
      "21:53:00 - cmdstanpy - INFO - Chain [1] done processing\n",
      "21:53:00 - cmdstanpy - INFO - Chain [1] start processing\n",
      "21:53:00 - cmdstanpy - INFO - Chain [1] start processing\n",
      "21:53:00 - cmdstanpy - INFO - Chain [1] start processing\n",
      "21:53:00 - cmdstanpy - INFO - Chain [1] start processing\n",
      "21:53:00 - cmdstanpy - INFO - Chain [1] start processing\n",
      "21:53:00 - cmdstanpy - INFO - Chain [1] start processing\n",
      "21:53:00 - cmdstanpy - INFO - Chain [1] start processing\n",
      "21:53:00 - cmdstanpy - INFO - Chain [1] start processing\n",
      "21:53:00 - cmdstanpy - INFO - Chain [1] done processing\n",
      "21:53:00 - cmdstanpy - INFO - Chain [1] done processing\n",
      "21:53:01 - cmdstanpy - INFO - Chain [1] done processing\n",
      "21:53:01 - cmdstanpy - INFO - Chain [1] done processing\n",
      "21:53:01 - cmdstanpy - INFO - Chain [1] done processing\n",
      "21:53:01 - cmdstanpy - INFO - Chain [1] done processing\n",
      "21:53:01 - cmdstanpy - INFO - Chain [1] done processing\n",
      "21:53:01 - cmdstanpy - INFO - Chain [1] done processing\n",
      "21:53:01 - cmdstanpy - INFO - Chain [1] start processing\n"
     ]
    },
    {
     "name": "stdout",
     "output_type": "stream",
     "text": [
      "56 / 128\n"
     ]
    },
    {
     "name": "stderr",
     "output_type": "stream",
     "text": [
      "21:53:01 - cmdstanpy - INFO - Chain [1] done processing\n",
      "21:53:01 - cmdstanpy - INFO - Chain [1] start processing\n",
      "21:53:01 - cmdstanpy - INFO - Chain [1] start processing\n",
      "21:53:01 - cmdstanpy - INFO - Chain [1] start processing\n",
      "21:53:01 - cmdstanpy - INFO - Chain [1] start processing\n",
      "21:53:01 - cmdstanpy - INFO - Chain [1] start processing\n",
      "21:53:01 - cmdstanpy - INFO - Chain [1] start processing\n",
      "21:53:01 - cmdstanpy - INFO - Chain [1] start processing\n",
      "21:53:01 - cmdstanpy - INFO - Chain [1] start processing\n",
      "21:53:01 - cmdstanpy - INFO - Chain [1] done processing\n",
      "21:53:02 - cmdstanpy - INFO - Chain [1] done processing\n",
      "21:53:02 - cmdstanpy - INFO - Chain [1] done processing\n",
      "21:53:02 - cmdstanpy - INFO - Chain [1] done processing\n",
      "21:53:02 - cmdstanpy - INFO - Chain [1] done processing\n",
      "21:53:02 - cmdstanpy - INFO - Chain [1] done processing\n",
      "21:53:02 - cmdstanpy - INFO - Chain [1] done processing\n",
      "21:53:02 - cmdstanpy - INFO - Chain [1] done processing\n",
      "21:53:02 - cmdstanpy - INFO - Chain [1] start processing\n"
     ]
    },
    {
     "name": "stdout",
     "output_type": "stream",
     "text": [
      "57 / 128\n"
     ]
    },
    {
     "name": "stderr",
     "output_type": "stream",
     "text": [
      "21:53:02 - cmdstanpy - INFO - Chain [1] done processing\n",
      "21:53:02 - cmdstanpy - INFO - Chain [1] start processing\n",
      "21:53:02 - cmdstanpy - INFO - Chain [1] start processing\n",
      "21:53:02 - cmdstanpy - INFO - Chain [1] start processing\n",
      "21:53:02 - cmdstanpy - INFO - Chain [1] start processing\n",
      "21:53:02 - cmdstanpy - INFO - Chain [1] start processing\n",
      "21:53:02 - cmdstanpy - INFO - Chain [1] start processing\n",
      "21:53:03 - cmdstanpy - INFO - Chain [1] start processing\n",
      "21:53:03 - cmdstanpy - INFO - Chain [1] start processing\n",
      "21:53:03 - cmdstanpy - INFO - Chain [1] done processing\n",
      "21:53:03 - cmdstanpy - INFO - Chain [1] done processing\n",
      "21:53:03 - cmdstanpy - INFO - Chain [1] done processing\n",
      "21:53:03 - cmdstanpy - INFO - Chain [1] done processing\n",
      "21:53:03 - cmdstanpy - INFO - Chain [1] done processing\n",
      "21:53:03 - cmdstanpy - INFO - Chain [1] done processing\n",
      "21:53:03 - cmdstanpy - INFO - Chain [1] done processing\n",
      "21:53:03 - cmdstanpy - INFO - Chain [1] done processing\n",
      "21:53:03 - cmdstanpy - INFO - Chain [1] start processing\n"
     ]
    },
    {
     "name": "stdout",
     "output_type": "stream",
     "text": [
      "58 / 128\n"
     ]
    },
    {
     "name": "stderr",
     "output_type": "stream",
     "text": [
      "21:53:03 - cmdstanpy - INFO - Chain [1] done processing\n",
      "21:53:03 - cmdstanpy - INFO - Chain [1] start processing\n",
      "21:53:03 - cmdstanpy - INFO - Chain [1] start processing\n",
      "21:53:03 - cmdstanpy - INFO - Chain [1] start processing\n",
      "21:53:03 - cmdstanpy - INFO - Chain [1] start processing\n",
      "21:53:03 - cmdstanpy - INFO - Chain [1] start processing\n",
      "21:53:03 - cmdstanpy - INFO - Chain [1] start processing\n",
      "21:53:03 - cmdstanpy - INFO - Chain [1] start processing\n",
      "21:53:03 - cmdstanpy - INFO - Chain [1] start processing\n",
      "21:53:04 - cmdstanpy - INFO - Chain [1] done processing\n",
      "21:53:04 - cmdstanpy - INFO - Chain [1] done processing\n",
      "21:53:04 - cmdstanpy - INFO - Chain [1] done processing\n",
      "21:53:04 - cmdstanpy - INFO - Chain [1] done processing\n",
      "21:53:04 - cmdstanpy - INFO - Chain [1] done processing\n",
      "21:53:04 - cmdstanpy - INFO - Chain [1] done processing\n",
      "21:53:04 - cmdstanpy - INFO - Chain [1] done processing\n",
      "21:53:04 - cmdstanpy - INFO - Chain [1] done processing\n",
      "21:53:04 - cmdstanpy - INFO - Chain [1] start processing\n"
     ]
    },
    {
     "name": "stdout",
     "output_type": "stream",
     "text": [
      "59 / 128\n"
     ]
    },
    {
     "name": "stderr",
     "output_type": "stream",
     "text": [
      "21:53:04 - cmdstanpy - INFO - Chain [1] done processing\n",
      "21:53:05 - cmdstanpy - INFO - Chain [1] start processing\n",
      "21:53:05 - cmdstanpy - INFO - Chain [1] start processing\n",
      "21:53:05 - cmdstanpy - INFO - Chain [1] start processing\n",
      "21:53:05 - cmdstanpy - INFO - Chain [1] start processing\n",
      "21:53:05 - cmdstanpy - INFO - Chain [1] start processing\n",
      "21:53:05 - cmdstanpy - INFO - Chain [1] start processing\n",
      "21:53:05 - cmdstanpy - INFO - Chain [1] start processing\n",
      "21:53:05 - cmdstanpy - INFO - Chain [1] start processing\n",
      "21:53:05 - cmdstanpy - INFO - Chain [1] done processing\n",
      "21:53:05 - cmdstanpy - INFO - Chain [1] done processing\n",
      "21:53:05 - cmdstanpy - INFO - Chain [1] done processing\n",
      "21:53:05 - cmdstanpy - INFO - Chain [1] done processing\n",
      "21:53:05 - cmdstanpy - INFO - Chain [1] done processing\n",
      "21:53:05 - cmdstanpy - INFO - Chain [1] done processing\n",
      "21:53:05 - cmdstanpy - INFO - Chain [1] done processing\n",
      "21:53:05 - cmdstanpy - INFO - Chain [1] done processing\n",
      "21:53:05 - cmdstanpy - INFO - Chain [1] start processing\n"
     ]
    },
    {
     "name": "stdout",
     "output_type": "stream",
     "text": [
      "60 / 128\n"
     ]
    },
    {
     "name": "stderr",
     "output_type": "stream",
     "text": [
      "21:53:05 - cmdstanpy - INFO - Chain [1] done processing\n",
      "21:53:06 - cmdstanpy - INFO - Chain [1] start processing\n",
      "21:53:06 - cmdstanpy - INFO - Chain [1] start processing\n",
      "21:53:06 - cmdstanpy - INFO - Chain [1] start processing\n",
      "21:53:06 - cmdstanpy - INFO - Chain [1] start processing\n",
      "21:53:06 - cmdstanpy - INFO - Chain [1] start processing\n",
      "21:53:06 - cmdstanpy - INFO - Chain [1] start processing\n",
      "21:53:06 - cmdstanpy - INFO - Chain [1] start processing\n",
      "21:53:06 - cmdstanpy - INFO - Chain [1] start processing\n",
      "21:53:06 - cmdstanpy - INFO - Chain [1] done processing\n",
      "21:53:06 - cmdstanpy - INFO - Chain [1] done processing\n",
      "21:53:06 - cmdstanpy - INFO - Chain [1] done processing\n",
      "21:53:06 - cmdstanpy - INFO - Chain [1] done processing\n",
      "21:53:06 - cmdstanpy - INFO - Chain [1] done processing\n",
      "21:53:06 - cmdstanpy - INFO - Chain [1] done processing\n",
      "21:53:06 - cmdstanpy - INFO - Chain [1] done processing\n",
      "21:53:06 - cmdstanpy - INFO - Chain [1] done processing\n",
      "21:53:06 - cmdstanpy - INFO - Chain [1] start processing\n"
     ]
    },
    {
     "name": "stdout",
     "output_type": "stream",
     "text": [
      "61 / 128\n"
     ]
    },
    {
     "name": "stderr",
     "output_type": "stream",
     "text": [
      "21:53:07 - cmdstanpy - INFO - Chain [1] done processing\n",
      "21:53:07 - cmdstanpy - INFO - Chain [1] start processing\n",
      "21:53:07 - cmdstanpy - INFO - Chain [1] start processing\n",
      "21:53:07 - cmdstanpy - INFO - Chain [1] start processing\n",
      "21:53:07 - cmdstanpy - INFO - Chain [1] start processing\n",
      "21:53:07 - cmdstanpy - INFO - Chain [1] start processing\n",
      "21:53:07 - cmdstanpy - INFO - Chain [1] start processing\n",
      "21:53:07 - cmdstanpy - INFO - Chain [1] start processing\n",
      "21:53:07 - cmdstanpy - INFO - Chain [1] start processing\n",
      "21:53:07 - cmdstanpy - INFO - Chain [1] done processing\n",
      "21:53:07 - cmdstanpy - INFO - Chain [1] done processing\n",
      "21:53:07 - cmdstanpy - INFO - Chain [1] done processing\n",
      "21:53:07 - cmdstanpy - INFO - Chain [1] done processing\n",
      "21:53:07 - cmdstanpy - INFO - Chain [1] done processing\n",
      "21:53:07 - cmdstanpy - INFO - Chain [1] done processing\n",
      "21:53:07 - cmdstanpy - INFO - Chain [1] done processing\n",
      "21:53:07 - cmdstanpy - INFO - Chain [1] done processing\n",
      "21:53:08 - cmdstanpy - INFO - Chain [1] start processing\n"
     ]
    },
    {
     "name": "stdout",
     "output_type": "stream",
     "text": [
      "62 / 128\n"
     ]
    },
    {
     "name": "stderr",
     "output_type": "stream",
     "text": [
      "21:53:08 - cmdstanpy - INFO - Chain [1] done processing\n",
      "21:53:08 - cmdstanpy - INFO - Chain [1] start processing\n",
      "21:53:08 - cmdstanpy - INFO - Chain [1] start processing\n",
      "21:53:08 - cmdstanpy - INFO - Chain [1] start processing\n",
      "21:53:08 - cmdstanpy - INFO - Chain [1] start processing\n",
      "21:53:08 - cmdstanpy - INFO - Chain [1] start processing\n",
      "21:53:08 - cmdstanpy - INFO - Chain [1] start processing\n",
      "21:53:08 - cmdstanpy - INFO - Chain [1] start processing\n",
      "21:53:08 - cmdstanpy - INFO - Chain [1] start processing\n",
      "21:53:08 - cmdstanpy - INFO - Chain [1] done processing\n",
      "21:53:08 - cmdstanpy - INFO - Chain [1] done processing\n",
      "21:53:09 - cmdstanpy - INFO - Chain [1] done processing\n",
      "21:53:09 - cmdstanpy - INFO - Chain [1] done processing\n",
      "21:53:09 - cmdstanpy - INFO - Chain [1] done processing\n",
      "21:53:09 - cmdstanpy - INFO - Chain [1] done processing\n",
      "21:53:09 - cmdstanpy - INFO - Chain [1] done processing\n",
      "21:53:09 - cmdstanpy - INFO - Chain [1] done processing\n",
      "21:53:09 - cmdstanpy - INFO - Chain [1] start processing\n"
     ]
    },
    {
     "name": "stdout",
     "output_type": "stream",
     "text": [
      "63 / 128\n"
     ]
    },
    {
     "name": "stderr",
     "output_type": "stream",
     "text": [
      "21:53:09 - cmdstanpy - INFO - Chain [1] done processing\n",
      "21:53:09 - cmdstanpy - INFO - Chain [1] start processing\n",
      "21:53:09 - cmdstanpy - INFO - Chain [1] start processing\n",
      "21:53:09 - cmdstanpy - INFO - Chain [1] start processing\n",
      "21:53:09 - cmdstanpy - INFO - Chain [1] start processing\n",
      "21:53:09 - cmdstanpy - INFO - Chain [1] start processing\n",
      "21:53:09 - cmdstanpy - INFO - Chain [1] start processing\n",
      "21:53:09 - cmdstanpy - INFO - Chain [1] start processing\n",
      "21:53:09 - cmdstanpy - INFO - Chain [1] start processing\n",
      "21:53:09 - cmdstanpy - INFO - Chain [1] done processing\n",
      "21:53:10 - cmdstanpy - INFO - Chain [1] done processing\n",
      "21:53:10 - cmdstanpy - INFO - Chain [1] done processing\n",
      "21:53:10 - cmdstanpy - INFO - Chain [1] done processing\n",
      "21:53:10 - cmdstanpy - INFO - Chain [1] done processing\n",
      "21:53:10 - cmdstanpy - INFO - Chain [1] done processing\n",
      "21:53:10 - cmdstanpy - INFO - Chain [1] done processing\n",
      "21:53:10 - cmdstanpy - INFO - Chain [1] done processing\n",
      "21:53:10 - cmdstanpy - INFO - Chain [1] start processing\n"
     ]
    },
    {
     "name": "stdout",
     "output_type": "stream",
     "text": [
      "64 / 128\n"
     ]
    },
    {
     "name": "stderr",
     "output_type": "stream",
     "text": [
      "21:53:10 - cmdstanpy - INFO - Chain [1] done processing\n",
      "21:53:10 - cmdstanpy - INFO - Chain [1] start processing\n",
      "21:53:10 - cmdstanpy - INFO - Chain [1] start processing\n",
      "21:53:10 - cmdstanpy - INFO - Chain [1] start processing\n",
      "21:53:10 - cmdstanpy - INFO - Chain [1] start processing\n",
      "21:53:10 - cmdstanpy - INFO - Chain [1] start processing\n",
      "21:53:10 - cmdstanpy - INFO - Chain [1] start processing\n",
      "21:53:10 - cmdstanpy - INFO - Chain [1] start processing\n",
      "21:53:10 - cmdstanpy - INFO - Chain [1] start processing\n",
      "21:53:11 - cmdstanpy - INFO - Chain [1] done processing\n",
      "21:53:11 - cmdstanpy - INFO - Chain [1] done processing\n",
      "21:53:11 - cmdstanpy - INFO - Chain [1] done processing\n",
      "21:53:11 - cmdstanpy - INFO - Chain [1] done processing\n",
      "21:53:11 - cmdstanpy - INFO - Chain [1] done processing\n",
      "21:53:11 - cmdstanpy - INFO - Chain [1] done processing\n",
      "21:53:11 - cmdstanpy - INFO - Chain [1] done processing\n",
      "21:53:11 - cmdstanpy - INFO - Chain [1] done processing\n",
      "21:53:11 - cmdstanpy - INFO - Chain [1] start processing\n"
     ]
    },
    {
     "name": "stdout",
     "output_type": "stream",
     "text": [
      "65 / 128\n"
     ]
    },
    {
     "name": "stderr",
     "output_type": "stream",
     "text": [
      "21:53:12 - cmdstanpy - INFO - Chain [1] done processing\n",
      "21:53:12 - cmdstanpy - INFO - Chain [1] start processing\n",
      "21:53:12 - cmdstanpy - INFO - Chain [1] start processing\n",
      "21:53:12 - cmdstanpy - INFO - Chain [1] start processing\n",
      "21:53:12 - cmdstanpy - INFO - Chain [1] start processing\n",
      "21:53:12 - cmdstanpy - INFO - Chain [1] start processing\n",
      "21:53:12 - cmdstanpy - INFO - Chain [1] start processing\n",
      "21:53:12 - cmdstanpy - INFO - Chain [1] start processing\n",
      "21:53:12 - cmdstanpy - INFO - Chain [1] start processing\n",
      "21:53:13 - cmdstanpy - INFO - Chain [1] done processing\n",
      "21:53:13 - cmdstanpy - INFO - Chain [1] done processing\n",
      "21:53:13 - cmdstanpy - INFO - Chain [1] done processing\n",
      "21:53:13 - cmdstanpy - INFO - Chain [1] done processing\n",
      "21:53:13 - cmdstanpy - INFO - Chain [1] done processing\n",
      "21:53:13 - cmdstanpy - INFO - Chain [1] done processing\n",
      "21:53:13 - cmdstanpy - INFO - Chain [1] done processing\n",
      "21:53:13 - cmdstanpy - INFO - Chain [1] done processing\n",
      "21:53:13 - cmdstanpy - INFO - Chain [1] start processing\n"
     ]
    },
    {
     "name": "stdout",
     "output_type": "stream",
     "text": [
      "66 / 128\n"
     ]
    },
    {
     "name": "stderr",
     "output_type": "stream",
     "text": [
      "21:53:14 - cmdstanpy - INFO - Chain [1] done processing\n",
      "21:53:14 - cmdstanpy - INFO - Chain [1] start processing\n",
      "21:53:14 - cmdstanpy - INFO - Chain [1] start processing\n",
      "21:53:14 - cmdstanpy - INFO - Chain [1] start processing\n",
      "21:53:14 - cmdstanpy - INFO - Chain [1] start processing\n",
      "21:53:14 - cmdstanpy - INFO - Chain [1] start processing\n",
      "21:53:14 - cmdstanpy - INFO - Chain [1] start processing\n",
      "21:53:14 - cmdstanpy - INFO - Chain [1] start processing\n",
      "21:53:14 - cmdstanpy - INFO - Chain [1] start processing\n",
      "21:53:15 - cmdstanpy - INFO - Chain [1] done processing\n",
      "21:53:15 - cmdstanpy - INFO - Chain [1] done processing\n",
      "21:53:15 - cmdstanpy - INFO - Chain [1] done processing\n",
      "21:53:15 - cmdstanpy - INFO - Chain [1] done processing\n",
      "21:53:15 - cmdstanpy - INFO - Chain [1] done processing\n",
      "21:53:15 - cmdstanpy - INFO - Chain [1] done processing\n",
      "21:53:15 - cmdstanpy - INFO - Chain [1] done processing\n",
      "21:53:15 - cmdstanpy - INFO - Chain [1] done processing\n",
      "21:53:16 - cmdstanpy - INFO - Chain [1] start processing\n"
     ]
    },
    {
     "name": "stdout",
     "output_type": "stream",
     "text": [
      "67 / 128\n"
     ]
    },
    {
     "name": "stderr",
     "output_type": "stream",
     "text": [
      "21:53:16 - cmdstanpy - INFO - Chain [1] done processing\n",
      "21:53:16 - cmdstanpy - INFO - Chain [1] start processing\n",
      "21:53:16 - cmdstanpy - INFO - Chain [1] start processing\n",
      "21:53:16 - cmdstanpy - INFO - Chain [1] start processing\n",
      "21:53:16 - cmdstanpy - INFO - Chain [1] start processing\n",
      "21:53:16 - cmdstanpy - INFO - Chain [1] start processing\n",
      "21:53:16 - cmdstanpy - INFO - Chain [1] start processing\n",
      "21:53:16 - cmdstanpy - INFO - Chain [1] start processing\n",
      "21:53:16 - cmdstanpy - INFO - Chain [1] start processing\n",
      "21:53:17 - cmdstanpy - INFO - Chain [1] done processing\n",
      "21:53:17 - cmdstanpy - INFO - Chain [1] done processing\n",
      "21:53:17 - cmdstanpy - INFO - Chain [1] done processing\n",
      "21:53:17 - cmdstanpy - INFO - Chain [1] done processing\n",
      "21:53:17 - cmdstanpy - INFO - Chain [1] done processing\n",
      "21:53:17 - cmdstanpy - INFO - Chain [1] done processing\n",
      "21:53:17 - cmdstanpy - INFO - Chain [1] done processing\n",
      "21:53:17 - cmdstanpy - INFO - Chain [1] done processing\n",
      "21:53:18 - cmdstanpy - INFO - Chain [1] start processing\n"
     ]
    },
    {
     "name": "stdout",
     "output_type": "stream",
     "text": [
      "68 / 128\n"
     ]
    },
    {
     "name": "stderr",
     "output_type": "stream",
     "text": [
      "21:53:18 - cmdstanpy - INFO - Chain [1] done processing\n",
      "21:53:18 - cmdstanpy - INFO - Chain [1] start processing\n",
      "21:53:18 - cmdstanpy - INFO - Chain [1] start processing\n",
      "21:53:18 - cmdstanpy - INFO - Chain [1] start processing\n",
      "21:53:18 - cmdstanpy - INFO - Chain [1] start processing\n",
      "21:53:18 - cmdstanpy - INFO - Chain [1] start processing\n",
      "21:53:18 - cmdstanpy - INFO - Chain [1] start processing\n",
      "21:53:18 - cmdstanpy - INFO - Chain [1] start processing\n",
      "21:53:18 - cmdstanpy - INFO - Chain [1] start processing\n",
      "21:53:19 - cmdstanpy - INFO - Chain [1] done processing\n",
      "21:53:19 - cmdstanpy - INFO - Chain [1] done processing\n",
      "21:53:19 - cmdstanpy - INFO - Chain [1] done processing\n",
      "21:53:19 - cmdstanpy - INFO - Chain [1] done processing\n",
      "21:53:19 - cmdstanpy - INFO - Chain [1] done processing\n",
      "21:53:19 - cmdstanpy - INFO - Chain [1] done processing\n",
      "21:53:19 - cmdstanpy - INFO - Chain [1] done processing\n",
      "21:53:20 - cmdstanpy - INFO - Chain [1] done processing\n",
      "21:53:20 - cmdstanpy - INFO - Chain [1] start processing\n"
     ]
    },
    {
     "name": "stdout",
     "output_type": "stream",
     "text": [
      "69 / 128\n"
     ]
    },
    {
     "name": "stderr",
     "output_type": "stream",
     "text": [
      "21:53:20 - cmdstanpy - INFO - Chain [1] done processing\n",
      "21:53:20 - cmdstanpy - INFO - Chain [1] start processing\n",
      "21:53:20 - cmdstanpy - INFO - Chain [1] start processing\n",
      "21:53:20 - cmdstanpy - INFO - Chain [1] start processing\n",
      "21:53:20 - cmdstanpy - INFO - Chain [1] start processing\n",
      "21:53:20 - cmdstanpy - INFO - Chain [1] start processing\n",
      "21:53:20 - cmdstanpy - INFO - Chain [1] start processing\n",
      "21:53:20 - cmdstanpy - INFO - Chain [1] start processing\n",
      "21:53:20 - cmdstanpy - INFO - Chain [1] start processing\n",
      "21:53:21 - cmdstanpy - INFO - Chain [1] done processing\n",
      "21:53:21 - cmdstanpy - INFO - Chain [1] done processing\n",
      "21:53:21 - cmdstanpy - INFO - Chain [1] done processing\n",
      "21:53:21 - cmdstanpy - INFO - Chain [1] done processing\n",
      "21:53:21 - cmdstanpy - INFO - Chain [1] done processing\n",
      "21:53:21 - cmdstanpy - INFO - Chain [1] done processing\n",
      "21:53:21 - cmdstanpy - INFO - Chain [1] done processing\n",
      "21:53:21 - cmdstanpy - INFO - Chain [1] done processing\n",
      "21:53:22 - cmdstanpy - INFO - Chain [1] start processing\n"
     ]
    },
    {
     "name": "stdout",
     "output_type": "stream",
     "text": [
      "70 / 128\n"
     ]
    },
    {
     "name": "stderr",
     "output_type": "stream",
     "text": [
      "21:53:22 - cmdstanpy - INFO - Chain [1] done processing\n",
      "21:53:22 - cmdstanpy - INFO - Chain [1] start processing\n",
      "21:53:22 - cmdstanpy - INFO - Chain [1] start processing\n",
      "21:53:22 - cmdstanpy - INFO - Chain [1] start processing\n",
      "21:53:22 - cmdstanpy - INFO - Chain [1] start processing\n",
      "21:53:22 - cmdstanpy - INFO - Chain [1] start processing\n",
      "21:53:22 - cmdstanpy - INFO - Chain [1] start processing\n",
      "21:53:22 - cmdstanpy - INFO - Chain [1] start processing\n",
      "21:53:22 - cmdstanpy - INFO - Chain [1] start processing\n",
      "21:53:23 - cmdstanpy - INFO - Chain [1] done processing\n",
      "21:53:23 - cmdstanpy - INFO - Chain [1] done processing\n",
      "21:53:23 - cmdstanpy - INFO - Chain [1] done processing\n",
      "21:53:23 - cmdstanpy - INFO - Chain [1] done processing\n",
      "21:53:23 - cmdstanpy - INFO - Chain [1] done processing\n",
      "21:53:23 - cmdstanpy - INFO - Chain [1] done processing\n",
      "21:53:23 - cmdstanpy - INFO - Chain [1] done processing\n",
      "21:53:23 - cmdstanpy - INFO - Chain [1] done processing\n",
      "21:53:23 - cmdstanpy - INFO - Chain [1] start processing\n"
     ]
    },
    {
     "name": "stdout",
     "output_type": "stream",
     "text": [
      "71 / 128\n"
     ]
    },
    {
     "name": "stderr",
     "output_type": "stream",
     "text": [
      "21:53:24 - cmdstanpy - INFO - Chain [1] done processing\n",
      "21:53:24 - cmdstanpy - INFO - Chain [1] start processing\n",
      "21:53:24 - cmdstanpy - INFO - Chain [1] start processing\n",
      "21:53:24 - cmdstanpy - INFO - Chain [1] start processing\n",
      "21:53:24 - cmdstanpy - INFO - Chain [1] start processing\n",
      "21:53:24 - cmdstanpy - INFO - Chain [1] start processing\n",
      "21:53:24 - cmdstanpy - INFO - Chain [1] start processing\n",
      "21:53:24 - cmdstanpy - INFO - Chain [1] start processing\n",
      "21:53:24 - cmdstanpy - INFO - Chain [1] start processing\n",
      "21:53:25 - cmdstanpy - INFO - Chain [1] done processing\n",
      "21:53:25 - cmdstanpy - INFO - Chain [1] done processing\n",
      "21:53:25 - cmdstanpy - INFO - Chain [1] done processing\n",
      "21:53:25 - cmdstanpy - INFO - Chain [1] done processing\n",
      "21:53:25 - cmdstanpy - INFO - Chain [1] done processing\n",
      "21:53:25 - cmdstanpy - INFO - Chain [1] done processing\n",
      "21:53:25 - cmdstanpy - INFO - Chain [1] done processing\n",
      "21:53:25 - cmdstanpy - INFO - Chain [1] done processing\n",
      "21:53:25 - cmdstanpy - INFO - Chain [1] start processing\n"
     ]
    },
    {
     "name": "stdout",
     "output_type": "stream",
     "text": [
      "72 / 128\n"
     ]
    },
    {
     "name": "stderr",
     "output_type": "stream",
     "text": [
      "21:53:26 - cmdstanpy - INFO - Chain [1] done processing\n",
      "21:53:26 - cmdstanpy - INFO - Chain [1] start processing\n",
      "21:53:26 - cmdstanpy - INFO - Chain [1] start processing\n",
      "21:53:26 - cmdstanpy - INFO - Chain [1] start processing\n",
      "21:53:26 - cmdstanpy - INFO - Chain [1] start processing\n",
      "21:53:26 - cmdstanpy - INFO - Chain [1] start processing\n",
      "21:53:26 - cmdstanpy - INFO - Chain [1] start processing\n",
      "21:53:26 - cmdstanpy - INFO - Chain [1] start processing\n",
      "21:53:26 - cmdstanpy - INFO - Chain [1] start processing\n",
      "21:53:27 - cmdstanpy - INFO - Chain [1] done processing\n",
      "21:53:27 - cmdstanpy - INFO - Chain [1] done processing\n",
      "21:53:27 - cmdstanpy - INFO - Chain [1] done processing\n",
      "21:53:27 - cmdstanpy - INFO - Chain [1] done processing\n",
      "21:53:27 - cmdstanpy - INFO - Chain [1] done processing\n",
      "21:53:27 - cmdstanpy - INFO - Chain [1] done processing\n",
      "21:53:27 - cmdstanpy - INFO - Chain [1] done processing\n",
      "21:53:27 - cmdstanpy - INFO - Chain [1] done processing\n",
      "21:53:27 - cmdstanpy - INFO - Chain [1] start processing\n"
     ]
    },
    {
     "name": "stdout",
     "output_type": "stream",
     "text": [
      "73 / 128\n"
     ]
    },
    {
     "name": "stderr",
     "output_type": "stream",
     "text": [
      "21:53:28 - cmdstanpy - INFO - Chain [1] done processing\n",
      "21:53:28 - cmdstanpy - INFO - Chain [1] start processing\n",
      "21:53:28 - cmdstanpy - INFO - Chain [1] start processing\n",
      "21:53:28 - cmdstanpy - INFO - Chain [1] start processing\n",
      "21:53:28 - cmdstanpy - INFO - Chain [1] start processing\n",
      "21:53:28 - cmdstanpy - INFO - Chain [1] start processing\n",
      "21:53:28 - cmdstanpy - INFO - Chain [1] start processing\n",
      "21:53:28 - cmdstanpy - INFO - Chain [1] start processing\n",
      "21:53:28 - cmdstanpy - INFO - Chain [1] start processing\n",
      "21:53:28 - cmdstanpy - INFO - Chain [1] done processing\n",
      "21:53:29 - cmdstanpy - INFO - Chain [1] done processing\n",
      "21:53:29 - cmdstanpy - INFO - Chain [1] done processing\n",
      "21:53:29 - cmdstanpy - INFO - Chain [1] done processing\n",
      "21:53:29 - cmdstanpy - INFO - Chain [1] done processing\n",
      "21:53:29 - cmdstanpy - INFO - Chain [1] done processing\n",
      "21:53:29 - cmdstanpy - INFO - Chain [1] done processing\n",
      "21:53:29 - cmdstanpy - INFO - Chain [1] done processing\n",
      "21:53:29 - cmdstanpy - INFO - Chain [1] start processing\n"
     ]
    },
    {
     "name": "stdout",
     "output_type": "stream",
     "text": [
      "74 / 128\n"
     ]
    },
    {
     "name": "stderr",
     "output_type": "stream",
     "text": [
      "21:53:30 - cmdstanpy - INFO - Chain [1] done processing\n",
      "21:53:30 - cmdstanpy - INFO - Chain [1] start processing\n",
      "21:53:30 - cmdstanpy - INFO - Chain [1] start processing\n",
      "21:53:30 - cmdstanpy - INFO - Chain [1] start processing\n",
      "21:53:30 - cmdstanpy - INFO - Chain [1] start processing\n",
      "21:53:30 - cmdstanpy - INFO - Chain [1] start processing\n",
      "21:53:30 - cmdstanpy - INFO - Chain [1] start processing\n",
      "21:53:30 - cmdstanpy - INFO - Chain [1] start processing\n",
      "21:53:30 - cmdstanpy - INFO - Chain [1] start processing\n",
      "21:53:30 - cmdstanpy - INFO - Chain [1] done processing\n",
      "21:53:30 - cmdstanpy - INFO - Chain [1] done processing\n",
      "21:53:31 - cmdstanpy - INFO - Chain [1] done processing\n",
      "21:53:31 - cmdstanpy - INFO - Chain [1] done processing\n",
      "21:53:31 - cmdstanpy - INFO - Chain [1] done processing\n",
      "21:53:31 - cmdstanpy - INFO - Chain [1] done processing\n",
      "21:53:31 - cmdstanpy - INFO - Chain [1] done processing\n",
      "21:53:31 - cmdstanpy - INFO - Chain [1] done processing\n",
      "21:53:31 - cmdstanpy - INFO - Chain [1] start processing\n"
     ]
    },
    {
     "name": "stdout",
     "output_type": "stream",
     "text": [
      "75 / 128\n"
     ]
    },
    {
     "name": "stderr",
     "output_type": "stream",
     "text": [
      "21:53:31 - cmdstanpy - INFO - Chain [1] done processing\n",
      "21:53:31 - cmdstanpy - INFO - Chain [1] start processing\n",
      "21:53:31 - cmdstanpy - INFO - Chain [1] start processing\n",
      "21:53:31 - cmdstanpy - INFO - Chain [1] start processing\n",
      "21:53:31 - cmdstanpy - INFO - Chain [1] start processing\n",
      "21:53:31 - cmdstanpy - INFO - Chain [1] start processing\n",
      "21:53:31 - cmdstanpy - INFO - Chain [1] start processing\n",
      "21:53:32 - cmdstanpy - INFO - Chain [1] start processing\n",
      "21:53:32 - cmdstanpy - INFO - Chain [1] start processing\n",
      "21:53:32 - cmdstanpy - INFO - Chain [1] done processing\n",
      "21:53:33 - cmdstanpy - INFO - Chain [1] done processing\n",
      "21:53:33 - cmdstanpy - INFO - Chain [1] done processing\n",
      "21:53:33 - cmdstanpy - INFO - Chain [1] done processing\n",
      "21:53:33 - cmdstanpy - INFO - Chain [1] done processing\n",
      "21:53:33 - cmdstanpy - INFO - Chain [1] done processing\n",
      "21:53:33 - cmdstanpy - INFO - Chain [1] done processing\n",
      "21:53:33 - cmdstanpy - INFO - Chain [1] done processing\n",
      "21:53:33 - cmdstanpy - INFO - Chain [1] start processing\n"
     ]
    },
    {
     "name": "stdout",
     "output_type": "stream",
     "text": [
      "76 / 128\n"
     ]
    },
    {
     "name": "stderr",
     "output_type": "stream",
     "text": [
      "21:53:33 - cmdstanpy - INFO - Chain [1] done processing\n",
      "21:53:34 - cmdstanpy - INFO - Chain [1] start processing\n",
      "21:53:34 - cmdstanpy - INFO - Chain [1] start processing\n",
      "21:53:34 - cmdstanpy - INFO - Chain [1] start processing\n",
      "21:53:34 - cmdstanpy - INFO - Chain [1] start processing\n",
      "21:53:34 - cmdstanpy - INFO - Chain [1] start processing\n",
      "21:53:34 - cmdstanpy - INFO - Chain [1] start processing\n",
      "21:53:34 - cmdstanpy - INFO - Chain [1] start processing\n",
      "21:53:34 - cmdstanpy - INFO - Chain [1] start processing\n",
      "21:53:34 - cmdstanpy - INFO - Chain [1] done processing\n",
      "21:53:34 - cmdstanpy - INFO - Chain [1] done processing\n",
      "21:53:34 - cmdstanpy - INFO - Chain [1] done processing\n",
      "21:53:35 - cmdstanpy - INFO - Chain [1] done processing\n",
      "21:53:35 - cmdstanpy - INFO - Chain [1] done processing\n",
      "21:53:35 - cmdstanpy - INFO - Chain [1] done processing\n",
      "21:53:35 - cmdstanpy - INFO - Chain [1] done processing\n",
      "21:53:35 - cmdstanpy - INFO - Chain [1] done processing\n",
      "21:53:35 - cmdstanpy - INFO - Chain [1] start processing\n"
     ]
    },
    {
     "name": "stdout",
     "output_type": "stream",
     "text": [
      "77 / 128\n"
     ]
    },
    {
     "name": "stderr",
     "output_type": "stream",
     "text": [
      "21:53:35 - cmdstanpy - INFO - Chain [1] done processing\n",
      "21:53:36 - cmdstanpy - INFO - Chain [1] start processing\n",
      "21:53:36 - cmdstanpy - INFO - Chain [1] start processing\n",
      "21:53:36 - cmdstanpy - INFO - Chain [1] start processing\n",
      "21:53:36 - cmdstanpy - INFO - Chain [1] start processing\n",
      "21:53:36 - cmdstanpy - INFO - Chain [1] start processing\n",
      "21:53:36 - cmdstanpy - INFO - Chain [1] start processing\n",
      "21:53:36 - cmdstanpy - INFO - Chain [1] start processing\n",
      "21:53:36 - cmdstanpy - INFO - Chain [1] start processing\n",
      "21:53:36 - cmdstanpy - INFO - Chain [1] done processing\n",
      "21:53:36 - cmdstanpy - INFO - Chain [1] done processing\n",
      "21:53:37 - cmdstanpy - INFO - Chain [1] done processing\n",
      "21:53:37 - cmdstanpy - INFO - Chain [1] done processing\n",
      "21:53:37 - cmdstanpy - INFO - Chain [1] done processing\n",
      "21:53:37 - cmdstanpy - INFO - Chain [1] done processing\n",
      "21:53:37 - cmdstanpy - INFO - Chain [1] done processing\n",
      "21:53:37 - cmdstanpy - INFO - Chain [1] done processing\n",
      "21:53:37 - cmdstanpy - INFO - Chain [1] start processing\n"
     ]
    },
    {
     "name": "stdout",
     "output_type": "stream",
     "text": [
      "78 / 128\n"
     ]
    },
    {
     "name": "stderr",
     "output_type": "stream",
     "text": [
      "21:53:37 - cmdstanpy - INFO - Chain [1] done processing\n",
      "21:53:37 - cmdstanpy - INFO - Chain [1] start processing\n",
      "21:53:37 - cmdstanpy - INFO - Chain [1] start processing\n",
      "21:53:37 - cmdstanpy - INFO - Chain [1] start processing\n",
      "21:53:37 - cmdstanpy - INFO - Chain [1] start processing\n",
      "21:53:37 - cmdstanpy - INFO - Chain [1] start processing\n",
      "21:53:37 - cmdstanpy - INFO - Chain [1] start processing\n",
      "21:53:37 - cmdstanpy - INFO - Chain [1] start processing\n",
      "21:53:37 - cmdstanpy - INFO - Chain [1] start processing\n",
      "21:53:38 - cmdstanpy - INFO - Chain [1] done processing\n",
      "21:53:38 - cmdstanpy - INFO - Chain [1] done processing\n",
      "21:53:38 - cmdstanpy - INFO - Chain [1] done processing\n",
      "21:53:38 - cmdstanpy - INFO - Chain [1] done processing\n",
      "21:53:38 - cmdstanpy - INFO - Chain [1] done processing\n",
      "21:53:38 - cmdstanpy - INFO - Chain [1] done processing\n",
      "21:53:38 - cmdstanpy - INFO - Chain [1] done processing\n",
      "21:53:38 - cmdstanpy - INFO - Chain [1] done processing\n",
      "21:53:39 - cmdstanpy - INFO - Chain [1] start processing\n"
     ]
    },
    {
     "name": "stdout",
     "output_type": "stream",
     "text": [
      "79 / 128\n"
     ]
    },
    {
     "name": "stderr",
     "output_type": "stream",
     "text": [
      "21:53:39 - cmdstanpy - INFO - Chain [1] done processing\n",
      "21:53:39 - cmdstanpy - INFO - Chain [1] start processing\n",
      "21:53:39 - cmdstanpy - INFO - Chain [1] start processing\n",
      "21:53:39 - cmdstanpy - INFO - Chain [1] start processing\n",
      "21:53:39 - cmdstanpy - INFO - Chain [1] start processing\n",
      "21:53:39 - cmdstanpy - INFO - Chain [1] start processing\n",
      "21:53:39 - cmdstanpy - INFO - Chain [1] start processing\n",
      "21:53:39 - cmdstanpy - INFO - Chain [1] start processing\n",
      "21:53:39 - cmdstanpy - INFO - Chain [1] start processing\n",
      "21:53:40 - cmdstanpy - INFO - Chain [1] done processing\n",
      "21:53:40 - cmdstanpy - INFO - Chain [1] done processing\n",
      "21:53:40 - cmdstanpy - INFO - Chain [1] done processing\n",
      "21:53:40 - cmdstanpy - INFO - Chain [1] done processing\n",
      "21:53:40 - cmdstanpy - INFO - Chain [1] done processing\n",
      "21:53:40 - cmdstanpy - INFO - Chain [1] done processing\n",
      "21:53:40 - cmdstanpy - INFO - Chain [1] done processing\n",
      "21:53:40 - cmdstanpy - INFO - Chain [1] done processing\n",
      "21:53:41 - cmdstanpy - INFO - Chain [1] start processing\n"
     ]
    },
    {
     "name": "stdout",
     "output_type": "stream",
     "text": [
      "80 / 128\n"
     ]
    },
    {
     "name": "stderr",
     "output_type": "stream",
     "text": [
      "21:53:41 - cmdstanpy - INFO - Chain [1] done processing\n",
      "21:53:41 - cmdstanpy - INFO - Chain [1] start processing\n",
      "21:53:41 - cmdstanpy - INFO - Chain [1] start processing\n",
      "21:53:41 - cmdstanpy - INFO - Chain [1] start processing\n",
      "21:53:41 - cmdstanpy - INFO - Chain [1] start processing\n",
      "21:53:41 - cmdstanpy - INFO - Chain [1] start processing\n",
      "21:53:41 - cmdstanpy - INFO - Chain [1] start processing\n",
      "21:53:41 - cmdstanpy - INFO - Chain [1] start processing\n",
      "21:53:41 - cmdstanpy - INFO - Chain [1] start processing\n",
      "21:53:42 - cmdstanpy - INFO - Chain [1] done processing\n",
      "21:53:42 - cmdstanpy - INFO - Chain [1] done processing\n",
      "21:53:42 - cmdstanpy - INFO - Chain [1] done processing\n",
      "21:53:42 - cmdstanpy - INFO - Chain [1] done processing\n",
      "21:53:42 - cmdstanpy - INFO - Chain [1] done processing\n",
      "21:53:42 - cmdstanpy - INFO - Chain [1] done processing\n",
      "21:53:42 - cmdstanpy - INFO - Chain [1] done processing\n",
      "21:53:42 - cmdstanpy - INFO - Chain [1] done processing\n",
      "21:53:42 - cmdstanpy - INFO - Chain [1] start processing\n"
     ]
    },
    {
     "name": "stdout",
     "output_type": "stream",
     "text": [
      "81 / 128\n"
     ]
    },
    {
     "name": "stderr",
     "output_type": "stream",
     "text": [
      "21:53:43 - cmdstanpy - INFO - Chain [1] done processing\n",
      "21:53:43 - cmdstanpy - INFO - Chain [1] start processing\n",
      "21:53:43 - cmdstanpy - INFO - Chain [1] start processing\n",
      "21:53:43 - cmdstanpy - INFO - Chain [1] start processing\n",
      "21:53:43 - cmdstanpy - INFO - Chain [1] start processing\n",
      "21:53:43 - cmdstanpy - INFO - Chain [1] start processing\n",
      "21:53:43 - cmdstanpy - INFO - Chain [1] start processing\n",
      "21:53:43 - cmdstanpy - INFO - Chain [1] start processing\n",
      "21:53:43 - cmdstanpy - INFO - Chain [1] start processing\n",
      "21:53:43 - cmdstanpy - INFO - Chain [1] done processing\n",
      "21:53:44 - cmdstanpy - INFO - Chain [1] done processing\n",
      "21:53:44 - cmdstanpy - INFO - Chain [1] done processing\n",
      "21:53:44 - cmdstanpy - INFO - Chain [1] done processing\n",
      "21:53:44 - cmdstanpy - INFO - Chain [1] done processing\n",
      "21:53:44 - cmdstanpy - INFO - Chain [1] done processing\n",
      "21:53:44 - cmdstanpy - INFO - Chain [1] done processing\n",
      "21:53:44 - cmdstanpy - INFO - Chain [1] done processing\n",
      "21:53:45 - cmdstanpy - INFO - Chain [1] start processing\n"
     ]
    },
    {
     "name": "stdout",
     "output_type": "stream",
     "text": [
      "82 / 128\n"
     ]
    },
    {
     "name": "stderr",
     "output_type": "stream",
     "text": [
      "21:53:45 - cmdstanpy - INFO - Chain [1] done processing\n",
      "21:53:45 - cmdstanpy - INFO - Chain [1] start processing\n",
      "21:53:45 - cmdstanpy - INFO - Chain [1] start processing\n",
      "21:53:45 - cmdstanpy - INFO - Chain [1] start processing\n",
      "21:53:45 - cmdstanpy - INFO - Chain [1] start processing\n",
      "21:53:45 - cmdstanpy - INFO - Chain [1] start processing\n",
      "21:53:45 - cmdstanpy - INFO - Chain [1] start processing\n",
      "21:53:45 - cmdstanpy - INFO - Chain [1] start processing\n",
      "21:53:45 - cmdstanpy - INFO - Chain [1] start processing\n",
      "21:53:46 - cmdstanpy - INFO - Chain [1] done processing\n",
      "21:53:46 - cmdstanpy - INFO - Chain [1] done processing\n",
      "21:53:46 - cmdstanpy - INFO - Chain [1] done processing\n",
      "21:53:46 - cmdstanpy - INFO - Chain [1] done processing\n",
      "21:53:46 - cmdstanpy - INFO - Chain [1] done processing\n",
      "21:53:46 - cmdstanpy - INFO - Chain [1] done processing\n",
      "21:53:46 - cmdstanpy - INFO - Chain [1] done processing\n",
      "21:53:47 - cmdstanpy - INFO - Chain [1] done processing\n",
      "21:53:47 - cmdstanpy - INFO - Chain [1] start processing\n"
     ]
    },
    {
     "name": "stdout",
     "output_type": "stream",
     "text": [
      "83 / 128\n"
     ]
    },
    {
     "name": "stderr",
     "output_type": "stream",
     "text": [
      "21:53:47 - cmdstanpy - INFO - Chain [1] done processing\n",
      "21:53:47 - cmdstanpy - INFO - Chain [1] start processing\n",
      "21:53:47 - cmdstanpy - INFO - Chain [1] start processing\n",
      "21:53:47 - cmdstanpy - INFO - Chain [1] start processing\n",
      "21:53:47 - cmdstanpy - INFO - Chain [1] start processing\n",
      "21:53:47 - cmdstanpy - INFO - Chain [1] start processing\n",
      "21:53:47 - cmdstanpy - INFO - Chain [1] start processing\n",
      "21:53:47 - cmdstanpy - INFO - Chain [1] start processing\n",
      "21:53:47 - cmdstanpy - INFO - Chain [1] start processing\n",
      "21:53:48 - cmdstanpy - INFO - Chain [1] done processing\n",
      "21:53:48 - cmdstanpy - INFO - Chain [1] done processing\n",
      "21:53:48 - cmdstanpy - INFO - Chain [1] done processing\n",
      "21:53:49 - cmdstanpy - INFO - Chain [1] done processing\n",
      "21:53:49 - cmdstanpy - INFO - Chain [1] done processing\n",
      "21:53:49 - cmdstanpy - INFO - Chain [1] done processing\n",
      "21:53:49 - cmdstanpy - INFO - Chain [1] done processing\n",
      "21:53:49 - cmdstanpy - INFO - Chain [1] done processing\n",
      "21:53:49 - cmdstanpy - INFO - Chain [1] start processing\n"
     ]
    },
    {
     "name": "stdout",
     "output_type": "stream",
     "text": [
      "84 / 128\n"
     ]
    },
    {
     "name": "stderr",
     "output_type": "stream",
     "text": [
      "21:53:49 - cmdstanpy - INFO - Chain [1] done processing\n",
      "21:53:49 - cmdstanpy - INFO - Chain [1] start processing\n",
      "21:53:49 - cmdstanpy - INFO - Chain [1] start processing\n",
      "21:53:49 - cmdstanpy - INFO - Chain [1] start processing\n",
      "21:53:49 - cmdstanpy - INFO - Chain [1] start processing\n",
      "21:53:49 - cmdstanpy - INFO - Chain [1] start processing\n",
      "21:53:49 - cmdstanpy - INFO - Chain [1] start processing\n",
      "21:53:49 - cmdstanpy - INFO - Chain [1] start processing\n",
      "21:53:49 - cmdstanpy - INFO - Chain [1] start processing\n",
      "21:53:50 - cmdstanpy - INFO - Chain [1] done processing\n",
      "21:53:50 - cmdstanpy - INFO - Chain [1] done processing\n",
      "21:53:50 - cmdstanpy - INFO - Chain [1] done processing\n",
      "21:53:50 - cmdstanpy - INFO - Chain [1] done processing\n",
      "21:53:50 - cmdstanpy - INFO - Chain [1] done processing\n",
      "21:53:50 - cmdstanpy - INFO - Chain [1] done processing\n",
      "21:53:50 - cmdstanpy - INFO - Chain [1] done processing\n",
      "21:53:51 - cmdstanpy - INFO - Chain [1] done processing\n",
      "21:53:51 - cmdstanpy - INFO - Chain [1] start processing\n"
     ]
    },
    {
     "name": "stdout",
     "output_type": "stream",
     "text": [
      "85 / 128\n"
     ]
    },
    {
     "name": "stderr",
     "output_type": "stream",
     "text": [
      "21:53:51 - cmdstanpy - INFO - Chain [1] done processing\n",
      "21:53:51 - cmdstanpy - INFO - Chain [1] start processing\n",
      "21:53:51 - cmdstanpy - INFO - Chain [1] start processing\n",
      "21:53:51 - cmdstanpy - INFO - Chain [1] start processing\n",
      "21:53:51 - cmdstanpy - INFO - Chain [1] start processing\n",
      "21:53:51 - cmdstanpy - INFO - Chain [1] start processing\n",
      "21:53:51 - cmdstanpy - INFO - Chain [1] start processing\n",
      "21:53:51 - cmdstanpy - INFO - Chain [1] start processing\n",
      "21:53:51 - cmdstanpy - INFO - Chain [1] start processing\n",
      "21:53:52 - cmdstanpy - INFO - Chain [1] done processing\n",
      "21:53:52 - cmdstanpy - INFO - Chain [1] done processing\n",
      "21:53:52 - cmdstanpy - INFO - Chain [1] done processing\n",
      "21:53:52 - cmdstanpy - INFO - Chain [1] done processing\n",
      "21:53:52 - cmdstanpy - INFO - Chain [1] done processing\n",
      "21:53:52 - cmdstanpy - INFO - Chain [1] done processing\n",
      "21:53:52 - cmdstanpy - INFO - Chain [1] done processing\n",
      "21:53:52 - cmdstanpy - INFO - Chain [1] done processing\n",
      "21:53:53 - cmdstanpy - INFO - Chain [1] start processing\n"
     ]
    },
    {
     "name": "stdout",
     "output_type": "stream",
     "text": [
      "86 / 128\n"
     ]
    },
    {
     "name": "stderr",
     "output_type": "stream",
     "text": [
      "21:53:53 - cmdstanpy - INFO - Chain [1] done processing\n",
      "21:53:53 - cmdstanpy - INFO - Chain [1] start processing\n",
      "21:53:53 - cmdstanpy - INFO - Chain [1] start processing\n",
      "21:53:53 - cmdstanpy - INFO - Chain [1] start processing\n",
      "21:53:53 - cmdstanpy - INFO - Chain [1] start processing\n",
      "21:53:53 - cmdstanpy - INFO - Chain [1] start processing\n",
      "21:53:53 - cmdstanpy - INFO - Chain [1] start processing\n",
      "21:53:53 - cmdstanpy - INFO - Chain [1] start processing\n",
      "21:53:53 - cmdstanpy - INFO - Chain [1] start processing\n",
      "21:53:54 - cmdstanpy - INFO - Chain [1] done processing\n",
      "21:53:54 - cmdstanpy - INFO - Chain [1] done processing\n",
      "21:53:54 - cmdstanpy - INFO - Chain [1] done processing\n",
      "21:53:54 - cmdstanpy - INFO - Chain [1] done processing\n",
      "21:53:54 - cmdstanpy - INFO - Chain [1] done processing\n",
      "21:53:54 - cmdstanpy - INFO - Chain [1] done processing\n",
      "21:53:54 - cmdstanpy - INFO - Chain [1] done processing\n",
      "21:53:54 - cmdstanpy - INFO - Chain [1] done processing\n",
      "21:53:54 - cmdstanpy - INFO - Chain [1] start processing\n"
     ]
    },
    {
     "name": "stdout",
     "output_type": "stream",
     "text": [
      "87 / 128\n"
     ]
    },
    {
     "name": "stderr",
     "output_type": "stream",
     "text": [
      "21:53:54 - cmdstanpy - INFO - Chain [1] done processing\n",
      "21:53:55 - cmdstanpy - INFO - Chain [1] start processing\n",
      "21:53:55 - cmdstanpy - INFO - Chain [1] start processing\n",
      "21:53:55 - cmdstanpy - INFO - Chain [1] start processing\n",
      "21:53:55 - cmdstanpy - INFO - Chain [1] start processing\n",
      "21:53:55 - cmdstanpy - INFO - Chain [1] start processing\n",
      "21:53:55 - cmdstanpy - INFO - Chain [1] start processing\n",
      "21:53:55 - cmdstanpy - INFO - Chain [1] start processing\n",
      "21:53:55 - cmdstanpy - INFO - Chain [1] start processing\n",
      "21:53:55 - cmdstanpy - INFO - Chain [1] done processing\n",
      "21:53:55 - cmdstanpy - INFO - Chain [1] done processing\n",
      "21:53:55 - cmdstanpy - INFO - Chain [1] done processing\n",
      "21:53:55 - cmdstanpy - INFO - Chain [1] done processing\n",
      "21:53:56 - cmdstanpy - INFO - Chain [1] done processing\n",
      "21:53:56 - cmdstanpy - INFO - Chain [1] done processing\n",
      "21:53:56 - cmdstanpy - INFO - Chain [1] done processing\n",
      "21:53:56 - cmdstanpy - INFO - Chain [1] done processing\n",
      "21:53:56 - cmdstanpy - INFO - Chain [1] start processing\n"
     ]
    },
    {
     "name": "stdout",
     "output_type": "stream",
     "text": [
      "88 / 128\n"
     ]
    },
    {
     "name": "stderr",
     "output_type": "stream",
     "text": [
      "21:53:56 - cmdstanpy - INFO - Chain [1] done processing\n",
      "21:53:56 - cmdstanpy - INFO - Chain [1] start processing\n",
      "21:53:56 - cmdstanpy - INFO - Chain [1] start processing\n",
      "21:53:56 - cmdstanpy - INFO - Chain [1] start processing\n",
      "21:53:56 - cmdstanpy - INFO - Chain [1] start processing\n",
      "21:53:56 - cmdstanpy - INFO - Chain [1] start processing\n",
      "21:53:56 - cmdstanpy - INFO - Chain [1] start processing\n",
      "21:53:56 - cmdstanpy - INFO - Chain [1] start processing\n",
      "21:53:56 - cmdstanpy - INFO - Chain [1] start processing\n",
      "21:53:57 - cmdstanpy - INFO - Chain [1] done processing\n",
      "21:53:57 - cmdstanpy - INFO - Chain [1] done processing\n",
      "21:53:57 - cmdstanpy - INFO - Chain [1] done processing\n",
      "21:53:57 - cmdstanpy - INFO - Chain [1] done processing\n",
      "21:53:57 - cmdstanpy - INFO - Chain [1] done processing\n",
      "21:53:57 - cmdstanpy - INFO - Chain [1] done processing\n",
      "21:53:57 - cmdstanpy - INFO - Chain [1] done processing\n",
      "21:53:57 - cmdstanpy - INFO - Chain [1] done processing\n",
      "21:53:58 - cmdstanpy - INFO - Chain [1] start processing\n"
     ]
    },
    {
     "name": "stdout",
     "output_type": "stream",
     "text": [
      "89 / 128\n"
     ]
    },
    {
     "name": "stderr",
     "output_type": "stream",
     "text": [
      "21:53:58 - cmdstanpy - INFO - Chain [1] done processing\n",
      "21:53:58 - cmdstanpy - INFO - Chain [1] start processing\n",
      "21:53:58 - cmdstanpy - INFO - Chain [1] start processing\n",
      "21:53:58 - cmdstanpy - INFO - Chain [1] start processing\n",
      "21:53:58 - cmdstanpy - INFO - Chain [1] start processing\n",
      "21:53:58 - cmdstanpy - INFO - Chain [1] start processing\n",
      "21:53:58 - cmdstanpy - INFO - Chain [1] start processing\n",
      "21:53:58 - cmdstanpy - INFO - Chain [1] start processing\n",
      "21:53:58 - cmdstanpy - INFO - Chain [1] start processing\n",
      "21:53:59 - cmdstanpy - INFO - Chain [1] done processing\n",
      "21:53:59 - cmdstanpy - INFO - Chain [1] done processing\n",
      "21:53:59 - cmdstanpy - INFO - Chain [1] done processing\n",
      "21:53:59 - cmdstanpy - INFO - Chain [1] done processing\n",
      "21:53:59 - cmdstanpy - INFO - Chain [1] done processing\n",
      "21:53:59 - cmdstanpy - INFO - Chain [1] done processing\n",
      "21:53:59 - cmdstanpy - INFO - Chain [1] done processing\n",
      "21:53:59 - cmdstanpy - INFO - Chain [1] done processing\n",
      "21:53:59 - cmdstanpy - INFO - Chain [1] start processing\n"
     ]
    },
    {
     "name": "stdout",
     "output_type": "stream",
     "text": [
      "90 / 128\n"
     ]
    },
    {
     "name": "stderr",
     "output_type": "stream",
     "text": [
      "21:54:00 - cmdstanpy - INFO - Chain [1] done processing\n",
      "21:54:00 - cmdstanpy - INFO - Chain [1] start processing\n",
      "21:54:00 - cmdstanpy - INFO - Chain [1] start processing\n",
      "21:54:00 - cmdstanpy - INFO - Chain [1] start processing\n",
      "21:54:00 - cmdstanpy - INFO - Chain [1] start processing\n",
      "21:54:00 - cmdstanpy - INFO - Chain [1] start processing\n",
      "21:54:00 - cmdstanpy - INFO - Chain [1] start processing\n",
      "21:54:00 - cmdstanpy - INFO - Chain [1] start processing\n",
      "21:54:00 - cmdstanpy - INFO - Chain [1] start processing\n",
      "21:54:00 - cmdstanpy - INFO - Chain [1] done processing\n",
      "21:54:01 - cmdstanpy - INFO - Chain [1] done processing\n",
      "21:54:01 - cmdstanpy - INFO - Chain [1] done processing\n",
      "21:54:01 - cmdstanpy - INFO - Chain [1] done processing\n",
      "21:54:01 - cmdstanpy - INFO - Chain [1] done processing\n",
      "21:54:01 - cmdstanpy - INFO - Chain [1] done processing\n",
      "21:54:01 - cmdstanpy - INFO - Chain [1] done processing\n",
      "21:54:01 - cmdstanpy - INFO - Chain [1] done processing\n",
      "21:54:01 - cmdstanpy - INFO - Chain [1] start processing\n"
     ]
    },
    {
     "name": "stdout",
     "output_type": "stream",
     "text": [
      "91 / 128\n"
     ]
    },
    {
     "name": "stderr",
     "output_type": "stream",
     "text": [
      "21:54:02 - cmdstanpy - INFO - Chain [1] done processing\n",
      "21:54:02 - cmdstanpy - INFO - Chain [1] start processing\n",
      "21:54:02 - cmdstanpy - INFO - Chain [1] start processing\n",
      "21:54:02 - cmdstanpy - INFO - Chain [1] start processing\n",
      "21:54:02 - cmdstanpy - INFO - Chain [1] start processing\n",
      "21:54:02 - cmdstanpy - INFO - Chain [1] start processing\n",
      "21:54:02 - cmdstanpy - INFO - Chain [1] start processing\n",
      "21:54:02 - cmdstanpy - INFO - Chain [1] start processing\n",
      "21:54:02 - cmdstanpy - INFO - Chain [1] start processing\n",
      "21:54:02 - cmdstanpy - INFO - Chain [1] done processing\n",
      "21:54:03 - cmdstanpy - INFO - Chain [1] done processing\n",
      "21:54:03 - cmdstanpy - INFO - Chain [1] done processing\n",
      "21:54:03 - cmdstanpy - INFO - Chain [1] done processing\n",
      "21:54:03 - cmdstanpy - INFO - Chain [1] done processing\n",
      "21:54:03 - cmdstanpy - INFO - Chain [1] done processing\n",
      "21:54:03 - cmdstanpy - INFO - Chain [1] done processing\n",
      "21:54:03 - cmdstanpy - INFO - Chain [1] done processing\n",
      "21:54:03 - cmdstanpy - INFO - Chain [1] start processing\n"
     ]
    },
    {
     "name": "stdout",
     "output_type": "stream",
     "text": [
      "92 / 128\n"
     ]
    },
    {
     "name": "stderr",
     "output_type": "stream",
     "text": [
      "21:54:03 - cmdstanpy - INFO - Chain [1] done processing\n",
      "21:54:04 - cmdstanpy - INFO - Chain [1] start processing\n",
      "21:54:04 - cmdstanpy - INFO - Chain [1] start processing\n",
      "21:54:04 - cmdstanpy - INFO - Chain [1] start processing\n",
      "21:54:04 - cmdstanpy - INFO - Chain [1] start processing\n",
      "21:54:04 - cmdstanpy - INFO - Chain [1] start processing\n",
      "21:54:04 - cmdstanpy - INFO - Chain [1] start processing\n",
      "21:54:04 - cmdstanpy - INFO - Chain [1] start processing\n",
      "21:54:04 - cmdstanpy - INFO - Chain [1] start processing\n",
      "21:54:04 - cmdstanpy - INFO - Chain [1] done processing\n",
      "21:54:05 - cmdstanpy - INFO - Chain [1] done processing\n",
      "21:54:05 - cmdstanpy - INFO - Chain [1] done processing\n",
      "21:54:05 - cmdstanpy - INFO - Chain [1] done processing\n",
      "21:54:05 - cmdstanpy - INFO - Chain [1] done processing\n",
      "21:54:05 - cmdstanpy - INFO - Chain [1] done processing\n",
      "21:54:05 - cmdstanpy - INFO - Chain [1] done processing\n",
      "21:54:05 - cmdstanpy - INFO - Chain [1] done processing\n",
      "21:54:05 - cmdstanpy - INFO - Chain [1] start processing\n"
     ]
    },
    {
     "name": "stdout",
     "output_type": "stream",
     "text": [
      "93 / 128\n"
     ]
    },
    {
     "name": "stderr",
     "output_type": "stream",
     "text": [
      "21:54:06 - cmdstanpy - INFO - Chain [1] done processing\n",
      "21:54:06 - cmdstanpy - INFO - Chain [1] start processing\n",
      "21:54:06 - cmdstanpy - INFO - Chain [1] start processing\n",
      "21:54:06 - cmdstanpy - INFO - Chain [1] start processing\n",
      "21:54:06 - cmdstanpy - INFO - Chain [1] start processing\n",
      "21:54:06 - cmdstanpy - INFO - Chain [1] start processing\n",
      "21:54:06 - cmdstanpy - INFO - Chain [1] start processing\n",
      "21:54:06 - cmdstanpy - INFO - Chain [1] start processing\n",
      "21:54:06 - cmdstanpy - INFO - Chain [1] start processing\n",
      "21:54:07 - cmdstanpy - INFO - Chain [1] done processing\n",
      "21:54:07 - cmdstanpy - INFO - Chain [1] done processing\n",
      "21:54:07 - cmdstanpy - INFO - Chain [1] done processing\n",
      "21:54:07 - cmdstanpy - INFO - Chain [1] done processing\n",
      "21:54:07 - cmdstanpy - INFO - Chain [1] done processing\n",
      "21:54:07 - cmdstanpy - INFO - Chain [1] done processing\n",
      "21:54:07 - cmdstanpy - INFO - Chain [1] done processing\n",
      "21:54:07 - cmdstanpy - INFO - Chain [1] done processing\n",
      "21:54:08 - cmdstanpy - INFO - Chain [1] start processing\n"
     ]
    },
    {
     "name": "stdout",
     "output_type": "stream",
     "text": [
      "94 / 128\n"
     ]
    },
    {
     "name": "stderr",
     "output_type": "stream",
     "text": [
      "21:54:08 - cmdstanpy - INFO - Chain [1] done processing\n",
      "21:54:08 - cmdstanpy - INFO - Chain [1] start processing\n",
      "21:54:08 - cmdstanpy - INFO - Chain [1] start processing\n",
      "21:54:08 - cmdstanpy - INFO - Chain [1] start processing\n",
      "21:54:08 - cmdstanpy - INFO - Chain [1] start processing\n",
      "21:54:08 - cmdstanpy - INFO - Chain [1] start processing\n",
      "21:54:08 - cmdstanpy - INFO - Chain [1] start processing\n",
      "21:54:08 - cmdstanpy - INFO - Chain [1] start processing\n",
      "21:54:08 - cmdstanpy - INFO - Chain [1] start processing\n",
      "21:54:09 - cmdstanpy - INFO - Chain [1] done processing\n",
      "21:54:09 - cmdstanpy - INFO - Chain [1] done processing\n",
      "21:54:09 - cmdstanpy - INFO - Chain [1] done processing\n",
      "21:54:09 - cmdstanpy - INFO - Chain [1] done processing\n",
      "21:54:09 - cmdstanpy - INFO - Chain [1] done processing\n",
      "21:54:09 - cmdstanpy - INFO - Chain [1] done processing\n",
      "21:54:09 - cmdstanpy - INFO - Chain [1] done processing\n",
      "21:54:09 - cmdstanpy - INFO - Chain [1] done processing\n",
      "21:54:09 - cmdstanpy - INFO - Chain [1] start processing\n"
     ]
    },
    {
     "name": "stdout",
     "output_type": "stream",
     "text": [
      "95 / 128\n"
     ]
    },
    {
     "name": "stderr",
     "output_type": "stream",
     "text": [
      "21:54:10 - cmdstanpy - INFO - Chain [1] done processing\n",
      "21:54:10 - cmdstanpy - INFO - Chain [1] start processing\n",
      "21:54:10 - cmdstanpy - INFO - Chain [1] start processing\n",
      "21:54:10 - cmdstanpy - INFO - Chain [1] start processing\n",
      "21:54:10 - cmdstanpy - INFO - Chain [1] start processing\n",
      "21:54:10 - cmdstanpy - INFO - Chain [1] start processing\n",
      "21:54:10 - cmdstanpy - INFO - Chain [1] start processing\n",
      "21:54:10 - cmdstanpy - INFO - Chain [1] start processing\n",
      "21:54:10 - cmdstanpy - INFO - Chain [1] start processing\n",
      "21:54:10 - cmdstanpy - INFO - Chain [1] done processing\n",
      "21:54:11 - cmdstanpy - INFO - Chain [1] done processing\n",
      "21:54:11 - cmdstanpy - INFO - Chain [1] done processing\n",
      "21:54:11 - cmdstanpy - INFO - Chain [1] done processing\n",
      "21:54:11 - cmdstanpy - INFO - Chain [1] done processing\n",
      "21:54:11 - cmdstanpy - INFO - Chain [1] done processing\n",
      "21:54:11 - cmdstanpy - INFO - Chain [1] done processing\n",
      "21:54:11 - cmdstanpy - INFO - Chain [1] done processing\n",
      "21:54:11 - cmdstanpy - INFO - Chain [1] start processing\n"
     ]
    },
    {
     "name": "stdout",
     "output_type": "stream",
     "text": [
      "96 / 128\n"
     ]
    },
    {
     "name": "stderr",
     "output_type": "stream",
     "text": [
      "21:54:11 - cmdstanpy - INFO - Chain [1] done processing\n",
      "21:54:12 - cmdstanpy - INFO - Chain [1] start processing\n",
      "21:54:12 - cmdstanpy - INFO - Chain [1] start processing\n",
      "21:54:12 - cmdstanpy - INFO - Chain [1] start processing\n",
      "21:54:12 - cmdstanpy - INFO - Chain [1] start processing\n",
      "21:54:12 - cmdstanpy - INFO - Chain [1] start processing\n",
      "21:54:12 - cmdstanpy - INFO - Chain [1] start processing\n",
      "21:54:12 - cmdstanpy - INFO - Chain [1] start processing\n",
      "21:54:12 - cmdstanpy - INFO - Chain [1] start processing\n",
      "21:54:12 - cmdstanpy - INFO - Chain [1] done processing\n",
      "21:54:12 - cmdstanpy - INFO - Chain [1] done processing\n",
      "21:54:12 - cmdstanpy - INFO - Chain [1] done processing\n",
      "21:54:13 - cmdstanpy - INFO - Chain [1] done processing\n",
      "21:54:13 - cmdstanpy - INFO - Chain [1] done processing\n",
      "21:54:13 - cmdstanpy - INFO - Chain [1] done processing\n",
      "21:54:13 - cmdstanpy - INFO - Chain [1] done processing\n",
      "21:54:13 - cmdstanpy - INFO - Chain [1] done processing\n",
      "21:54:13 - cmdstanpy - INFO - Chain [1] start processing\n"
     ]
    },
    {
     "name": "stdout",
     "output_type": "stream",
     "text": [
      "97 / 128\n"
     ]
    },
    {
     "name": "stderr",
     "output_type": "stream",
     "text": [
      "21:54:13 - cmdstanpy - INFO - Chain [1] done processing\n",
      "21:54:14 - cmdstanpy - INFO - Chain [1] start processing\n",
      "21:54:14 - cmdstanpy - INFO - Chain [1] start processing\n",
      "21:54:14 - cmdstanpy - INFO - Chain [1] start processing\n",
      "21:54:14 - cmdstanpy - INFO - Chain [1] start processing\n",
      "21:54:14 - cmdstanpy - INFO - Chain [1] start processing\n",
      "21:54:14 - cmdstanpy - INFO - Chain [1] start processing\n",
      "21:54:14 - cmdstanpy - INFO - Chain [1] start processing\n",
      "21:54:14 - cmdstanpy - INFO - Chain [1] start processing\n",
      "21:54:15 - cmdstanpy - INFO - Chain [1] done processing\n",
      "21:54:15 - cmdstanpy - INFO - Chain [1] done processing\n",
      "21:54:15 - cmdstanpy - INFO - Chain [1] done processing\n",
      "21:54:15 - cmdstanpy - INFO - Chain [1] done processing\n",
      "21:54:15 - cmdstanpy - INFO - Chain [1] done processing\n",
      "21:54:15 - cmdstanpy - INFO - Chain [1] done processing\n",
      "21:54:15 - cmdstanpy - INFO - Chain [1] done processing\n",
      "21:54:15 - cmdstanpy - INFO - Chain [1] done processing\n",
      "21:54:16 - cmdstanpy - INFO - Chain [1] start processing\n"
     ]
    },
    {
     "name": "stdout",
     "output_type": "stream",
     "text": [
      "98 / 128\n"
     ]
    },
    {
     "name": "stderr",
     "output_type": "stream",
     "text": [
      "21:54:16 - cmdstanpy - INFO - Chain [1] done processing\n",
      "21:54:16 - cmdstanpy - INFO - Chain [1] start processing\n",
      "21:54:16 - cmdstanpy - INFO - Chain [1] start processing\n",
      "21:54:16 - cmdstanpy - INFO - Chain [1] start processing\n",
      "21:54:16 - cmdstanpy - INFO - Chain [1] start processing\n",
      "21:54:16 - cmdstanpy - INFO - Chain [1] start processing\n",
      "21:54:16 - cmdstanpy - INFO - Chain [1] start processing\n",
      "21:54:16 - cmdstanpy - INFO - Chain [1] start processing\n",
      "21:54:16 - cmdstanpy - INFO - Chain [1] start processing\n",
      "21:54:18 - cmdstanpy - INFO - Chain [1] done processing\n",
      "21:54:18 - cmdstanpy - INFO - Chain [1] done processing\n",
      "21:54:18 - cmdstanpy - INFO - Chain [1] done processing\n",
      "21:54:18 - cmdstanpy - INFO - Chain [1] done processing\n",
      "21:54:18 - cmdstanpy - INFO - Chain [1] done processing\n",
      "21:54:18 - cmdstanpy - INFO - Chain [1] done processing\n",
      "21:54:18 - cmdstanpy - INFO - Chain [1] done processing\n",
      "21:54:18 - cmdstanpy - INFO - Chain [1] done processing\n",
      "21:54:18 - cmdstanpy - INFO - Chain [1] start processing\n"
     ]
    },
    {
     "name": "stdout",
     "output_type": "stream",
     "text": [
      "99 / 128\n"
     ]
    },
    {
     "name": "stderr",
     "output_type": "stream",
     "text": [
      "21:54:19 - cmdstanpy - INFO - Chain [1] done processing\n",
      "21:54:19 - cmdstanpy - INFO - Chain [1] start processing\n",
      "21:54:19 - cmdstanpy - INFO - Chain [1] start processing\n",
      "21:54:19 - cmdstanpy - INFO - Chain [1] start processing\n",
      "21:54:19 - cmdstanpy - INFO - Chain [1] start processing\n",
      "21:54:19 - cmdstanpy - INFO - Chain [1] start processing\n",
      "21:54:19 - cmdstanpy - INFO - Chain [1] start processing\n",
      "21:54:19 - cmdstanpy - INFO - Chain [1] start processing\n",
      "21:54:19 - cmdstanpy - INFO - Chain [1] start processing\n",
      "21:54:20 - cmdstanpy - INFO - Chain [1] done processing\n",
      "21:54:21 - cmdstanpy - INFO - Chain [1] done processing\n",
      "21:54:21 - cmdstanpy - INFO - Chain [1] done processing\n",
      "21:54:21 - cmdstanpy - INFO - Chain [1] done processing\n",
      "21:54:21 - cmdstanpy - INFO - Chain [1] done processing\n",
      "21:54:21 - cmdstanpy - INFO - Chain [1] done processing\n",
      "21:54:21 - cmdstanpy - INFO - Chain [1] done processing\n",
      "21:54:21 - cmdstanpy - INFO - Chain [1] done processing\n",
      "21:54:21 - cmdstanpy - INFO - Chain [1] start processing\n"
     ]
    },
    {
     "name": "stdout",
     "output_type": "stream",
     "text": [
      "100 / 128\n"
     ]
    },
    {
     "name": "stderr",
     "output_type": "stream",
     "text": [
      "21:54:22 - cmdstanpy - INFO - Chain [1] done processing\n",
      "21:54:22 - cmdstanpy - INFO - Chain [1] start processing\n",
      "21:54:22 - cmdstanpy - INFO - Chain [1] start processing\n",
      "21:54:22 - cmdstanpy - INFO - Chain [1] start processing\n",
      "21:54:22 - cmdstanpy - INFO - Chain [1] start processing\n",
      "21:54:22 - cmdstanpy - INFO - Chain [1] start processing\n",
      "21:54:22 - cmdstanpy - INFO - Chain [1] start processing\n",
      "21:54:22 - cmdstanpy - INFO - Chain [1] start processing\n",
      "21:54:22 - cmdstanpy - INFO - Chain [1] start processing\n",
      "21:54:23 - cmdstanpy - INFO - Chain [1] done processing\n",
      "21:54:23 - cmdstanpy - INFO - Chain [1] done processing\n",
      "21:54:23 - cmdstanpy - INFO - Chain [1] done processing\n",
      "21:54:23 - cmdstanpy - INFO - Chain [1] done processing\n",
      "21:54:23 - cmdstanpy - INFO - Chain [1] done processing\n",
      "21:54:23 - cmdstanpy - INFO - Chain [1] done processing\n",
      "21:54:23 - cmdstanpy - INFO - Chain [1] done processing\n",
      "21:54:24 - cmdstanpy - INFO - Chain [1] done processing\n",
      "21:54:24 - cmdstanpy - INFO - Chain [1] start processing\n"
     ]
    },
    {
     "name": "stdout",
     "output_type": "stream",
     "text": [
      "101 / 128\n"
     ]
    },
    {
     "name": "stderr",
     "output_type": "stream",
     "text": [
      "21:54:24 - cmdstanpy - INFO - Chain [1] done processing\n",
      "21:54:24 - cmdstanpy - INFO - Chain [1] start processing\n",
      "21:54:24 - cmdstanpy - INFO - Chain [1] start processing\n",
      "21:54:24 - cmdstanpy - INFO - Chain [1] start processing\n",
      "21:54:24 - cmdstanpy - INFO - Chain [1] start processing\n",
      "21:54:24 - cmdstanpy - INFO - Chain [1] start processing\n",
      "21:54:24 - cmdstanpy - INFO - Chain [1] start processing\n",
      "21:54:24 - cmdstanpy - INFO - Chain [1] start processing\n",
      "21:54:24 - cmdstanpy - INFO - Chain [1] start processing\n",
      "21:54:25 - cmdstanpy - INFO - Chain [1] done processing\n",
      "21:54:26 - cmdstanpy - INFO - Chain [1] done processing\n",
      "21:54:26 - cmdstanpy - INFO - Chain [1] done processing\n",
      "21:54:26 - cmdstanpy - INFO - Chain [1] done processing\n",
      "21:54:26 - cmdstanpy - INFO - Chain [1] done processing\n",
      "21:54:26 - cmdstanpy - INFO - Chain [1] done processing\n",
      "21:54:26 - cmdstanpy - INFO - Chain [1] done processing\n",
      "21:54:26 - cmdstanpy - INFO - Chain [1] done processing\n",
      "21:54:26 - cmdstanpy - INFO - Chain [1] start processing\n"
     ]
    },
    {
     "name": "stdout",
     "output_type": "stream",
     "text": [
      "102 / 128\n"
     ]
    },
    {
     "name": "stderr",
     "output_type": "stream",
     "text": [
      "21:54:27 - cmdstanpy - INFO - Chain [1] done processing\n",
      "21:54:27 - cmdstanpy - INFO - Chain [1] start processing\n",
      "21:54:27 - cmdstanpy - INFO - Chain [1] start processing\n",
      "21:54:27 - cmdstanpy - INFO - Chain [1] start processing\n",
      "21:54:27 - cmdstanpy - INFO - Chain [1] start processing\n",
      "21:54:27 - cmdstanpy - INFO - Chain [1] start processing\n",
      "21:54:27 - cmdstanpy - INFO - Chain [1] start processing\n",
      "21:54:27 - cmdstanpy - INFO - Chain [1] start processing\n",
      "21:54:27 - cmdstanpy - INFO - Chain [1] start processing\n",
      "21:54:28 - cmdstanpy - INFO - Chain [1] done processing\n",
      "21:54:28 - cmdstanpy - INFO - Chain [1] done processing\n",
      "21:54:28 - cmdstanpy - INFO - Chain [1] done processing\n",
      "21:54:29 - cmdstanpy - INFO - Chain [1] done processing\n",
      "21:54:29 - cmdstanpy - INFO - Chain [1] done processing\n",
      "21:54:29 - cmdstanpy - INFO - Chain [1] done processing\n",
      "21:54:29 - cmdstanpy - INFO - Chain [1] done processing\n",
      "21:54:29 - cmdstanpy - INFO - Chain [1] done processing\n",
      "21:54:29 - cmdstanpy - INFO - Chain [1] start processing\n"
     ]
    },
    {
     "name": "stdout",
     "output_type": "stream",
     "text": [
      "103 / 128\n"
     ]
    },
    {
     "name": "stderr",
     "output_type": "stream",
     "text": [
      "21:54:29 - cmdstanpy - INFO - Chain [1] done processing\n",
      "21:54:29 - cmdstanpy - INFO - Chain [1] start processing\n",
      "21:54:29 - cmdstanpy - INFO - Chain [1] start processing\n",
      "21:54:29 - cmdstanpy - INFO - Chain [1] start processing\n",
      "21:54:29 - cmdstanpy - INFO - Chain [1] start processing\n",
      "21:54:29 - cmdstanpy - INFO - Chain [1] start processing\n",
      "21:54:29 - cmdstanpy - INFO - Chain [1] start processing\n",
      "21:54:30 - cmdstanpy - INFO - Chain [1] start processing\n",
      "21:54:30 - cmdstanpy - INFO - Chain [1] start processing\n",
      "21:54:30 - cmdstanpy - INFO - Chain [1] done processing\n",
      "21:54:31 - cmdstanpy - INFO - Chain [1] done processing\n",
      "21:54:31 - cmdstanpy - INFO - Chain [1] done processing\n",
      "21:54:31 - cmdstanpy - INFO - Chain [1] done processing\n",
      "21:54:31 - cmdstanpy - INFO - Chain [1] done processing\n",
      "21:54:31 - cmdstanpy - INFO - Chain [1] done processing\n",
      "21:54:31 - cmdstanpy - INFO - Chain [1] done processing\n",
      "21:54:31 - cmdstanpy - INFO - Chain [1] done processing\n",
      "21:54:31 - cmdstanpy - INFO - Chain [1] start processing\n"
     ]
    },
    {
     "name": "stdout",
     "output_type": "stream",
     "text": [
      "104 / 128\n"
     ]
    },
    {
     "name": "stderr",
     "output_type": "stream",
     "text": [
      "21:54:32 - cmdstanpy - INFO - Chain [1] done processing\n",
      "21:54:32 - cmdstanpy - INFO - Chain [1] start processing\n",
      "21:54:32 - cmdstanpy - INFO - Chain [1] start processing\n",
      "21:54:32 - cmdstanpy - INFO - Chain [1] start processing\n",
      "21:54:32 - cmdstanpy - INFO - Chain [1] start processing\n",
      "21:54:32 - cmdstanpy - INFO - Chain [1] start processing\n",
      "21:54:32 - cmdstanpy - INFO - Chain [1] start processing\n",
      "21:54:32 - cmdstanpy - INFO - Chain [1] start processing\n",
      "21:54:32 - cmdstanpy - INFO - Chain [1] start processing\n",
      "21:54:33 - cmdstanpy - INFO - Chain [1] done processing\n",
      "21:54:33 - cmdstanpy - INFO - Chain [1] done processing\n",
      "21:54:33 - cmdstanpy - INFO - Chain [1] done processing\n",
      "21:54:33 - cmdstanpy - INFO - Chain [1] done processing\n",
      "21:54:33 - cmdstanpy - INFO - Chain [1] done processing\n",
      "21:54:33 - cmdstanpy - INFO - Chain [1] done processing\n",
      "21:54:33 - cmdstanpy - INFO - Chain [1] done processing\n",
      "21:54:33 - cmdstanpy - INFO - Chain [1] done processing\n",
      "21:54:34 - cmdstanpy - INFO - Chain [1] start processing\n"
     ]
    },
    {
     "name": "stdout",
     "output_type": "stream",
     "text": [
      "105 / 128\n"
     ]
    },
    {
     "name": "stderr",
     "output_type": "stream",
     "text": [
      "21:54:34 - cmdstanpy - INFO - Chain [1] done processing\n",
      "21:54:34 - cmdstanpy - INFO - Chain [1] start processing\n",
      "21:54:34 - cmdstanpy - INFO - Chain [1] start processing\n",
      "21:54:34 - cmdstanpy - INFO - Chain [1] start processing\n",
      "21:54:34 - cmdstanpy - INFO - Chain [1] start processing\n",
      "21:54:34 - cmdstanpy - INFO - Chain [1] start processing\n",
      "21:54:34 - cmdstanpy - INFO - Chain [1] start processing\n",
      "21:54:34 - cmdstanpy - INFO - Chain [1] start processing\n",
      "21:54:34 - cmdstanpy - INFO - Chain [1] start processing\n",
      "21:54:35 - cmdstanpy - INFO - Chain [1] done processing\n",
      "21:54:36 - cmdstanpy - INFO - Chain [1] done processing\n",
      "21:54:36 - cmdstanpy - INFO - Chain [1] done processing\n",
      "21:54:36 - cmdstanpy - INFO - Chain [1] done processing\n",
      "21:54:36 - cmdstanpy - INFO - Chain [1] done processing\n",
      "21:54:36 - cmdstanpy - INFO - Chain [1] done processing\n",
      "21:54:36 - cmdstanpy - INFO - Chain [1] done processing\n",
      "21:54:36 - cmdstanpy - INFO - Chain [1] done processing\n",
      "21:54:36 - cmdstanpy - INFO - Chain [1] start processing\n"
     ]
    },
    {
     "name": "stdout",
     "output_type": "stream",
     "text": [
      "106 / 128\n"
     ]
    },
    {
     "name": "stderr",
     "output_type": "stream",
     "text": [
      "21:54:37 - cmdstanpy - INFO - Chain [1] done processing\n",
      "21:54:37 - cmdstanpy - INFO - Chain [1] start processing\n",
      "21:54:37 - cmdstanpy - INFO - Chain [1] start processing\n",
      "21:54:37 - cmdstanpy - INFO - Chain [1] start processing\n",
      "21:54:37 - cmdstanpy - INFO - Chain [1] start processing\n",
      "21:54:37 - cmdstanpy - INFO - Chain [1] start processing\n",
      "21:54:37 - cmdstanpy - INFO - Chain [1] start processing\n",
      "21:54:37 - cmdstanpy - INFO - Chain [1] start processing\n",
      "21:54:37 - cmdstanpy - INFO - Chain [1] start processing\n",
      "21:54:38 - cmdstanpy - INFO - Chain [1] done processing\n",
      "21:54:39 - cmdstanpy - INFO - Chain [1] done processing\n",
      "21:54:39 - cmdstanpy - INFO - Chain [1] done processing\n",
      "21:54:39 - cmdstanpy - INFO - Chain [1] done processing\n",
      "21:54:39 - cmdstanpy - INFO - Chain [1] done processing\n",
      "21:54:39 - cmdstanpy - INFO - Chain [1] done processing\n",
      "21:54:39 - cmdstanpy - INFO - Chain [1] done processing\n",
      "21:54:39 - cmdstanpy - INFO - Chain [1] done processing\n",
      "21:54:39 - cmdstanpy - INFO - Chain [1] start processing\n"
     ]
    },
    {
     "name": "stdout",
     "output_type": "stream",
     "text": [
      "107 / 128\n"
     ]
    },
    {
     "name": "stderr",
     "output_type": "stream",
     "text": [
      "21:54:40 - cmdstanpy - INFO - Chain [1] done processing\n",
      "21:54:40 - cmdstanpy - INFO - Chain [1] start processing\n",
      "21:54:40 - cmdstanpy - INFO - Chain [1] start processing\n",
      "21:54:40 - cmdstanpy - INFO - Chain [1] start processing\n",
      "21:54:40 - cmdstanpy - INFO - Chain [1] start processing\n",
      "21:54:40 - cmdstanpy - INFO - Chain [1] start processing\n",
      "21:54:40 - cmdstanpy - INFO - Chain [1] start processing\n",
      "21:54:40 - cmdstanpy - INFO - Chain [1] start processing\n",
      "21:54:40 - cmdstanpy - INFO - Chain [1] start processing\n",
      "21:54:41 - cmdstanpy - INFO - Chain [1] done processing\n",
      "21:54:41 - cmdstanpy - INFO - Chain [1] done processing\n",
      "21:54:41 - cmdstanpy - INFO - Chain [1] done processing\n",
      "21:54:41 - cmdstanpy - INFO - Chain [1] done processing\n",
      "21:54:41 - cmdstanpy - INFO - Chain [1] done processing\n",
      "21:54:41 - cmdstanpy - INFO - Chain [1] done processing\n",
      "21:54:41 - cmdstanpy - INFO - Chain [1] done processing\n",
      "21:54:41 - cmdstanpy - INFO - Chain [1] done processing\n",
      "21:54:42 - cmdstanpy - INFO - Chain [1] start processing\n"
     ]
    },
    {
     "name": "stdout",
     "output_type": "stream",
     "text": [
      "108 / 128\n"
     ]
    },
    {
     "name": "stderr",
     "output_type": "stream",
     "text": [
      "21:54:42 - cmdstanpy - INFO - Chain [1] done processing\n",
      "21:54:42 - cmdstanpy - INFO - Chain [1] start processing\n",
      "21:54:42 - cmdstanpy - INFO - Chain [1] start processing\n",
      "21:54:42 - cmdstanpy - INFO - Chain [1] start processing\n",
      "21:54:42 - cmdstanpy - INFO - Chain [1] start processing\n",
      "21:54:42 - cmdstanpy - INFO - Chain [1] start processing\n",
      "21:54:42 - cmdstanpy - INFO - Chain [1] start processing\n",
      "21:54:42 - cmdstanpy - INFO - Chain [1] start processing\n",
      "21:54:42 - cmdstanpy - INFO - Chain [1] start processing\n",
      "21:54:43 - cmdstanpy - INFO - Chain [1] done processing\n",
      "21:54:44 - cmdstanpy - INFO - Chain [1] done processing\n",
      "21:54:44 - cmdstanpy - INFO - Chain [1] done processing\n",
      "21:54:44 - cmdstanpy - INFO - Chain [1] done processing\n",
      "21:54:44 - cmdstanpy - INFO - Chain [1] done processing\n",
      "21:54:44 - cmdstanpy - INFO - Chain [1] done processing\n",
      "21:54:44 - cmdstanpy - INFO - Chain [1] done processing\n",
      "21:54:44 - cmdstanpy - INFO - Chain [1] done processing\n",
      "21:54:44 - cmdstanpy - INFO - Chain [1] start processing\n"
     ]
    },
    {
     "name": "stdout",
     "output_type": "stream",
     "text": [
      "109 / 128\n"
     ]
    },
    {
     "name": "stderr",
     "output_type": "stream",
     "text": [
      "21:54:45 - cmdstanpy - INFO - Chain [1] done processing\n",
      "21:54:45 - cmdstanpy - INFO - Chain [1] start processing\n",
      "21:54:45 - cmdstanpy - INFO - Chain [1] start processing\n",
      "21:54:45 - cmdstanpy - INFO - Chain [1] start processing\n",
      "21:54:45 - cmdstanpy - INFO - Chain [1] start processing\n",
      "21:54:45 - cmdstanpy - INFO - Chain [1] start processing\n",
      "21:54:45 - cmdstanpy - INFO - Chain [1] start processing\n",
      "21:54:45 - cmdstanpy - INFO - Chain [1] start processing\n",
      "21:54:45 - cmdstanpy - INFO - Chain [1] start processing\n",
      "21:54:46 - cmdstanpy - INFO - Chain [1] done processing\n",
      "21:54:46 - cmdstanpy - INFO - Chain [1] done processing\n",
      "21:54:46 - cmdstanpy - INFO - Chain [1] done processing\n",
      "21:54:46 - cmdstanpy - INFO - Chain [1] done processing\n",
      "21:54:46 - cmdstanpy - INFO - Chain [1] done processing\n",
      "21:54:46 - cmdstanpy - INFO - Chain [1] done processing\n",
      "21:54:46 - cmdstanpy - INFO - Chain [1] done processing\n",
      "21:54:46 - cmdstanpy - INFO - Chain [1] done processing\n",
      "21:54:47 - cmdstanpy - INFO - Chain [1] start processing\n"
     ]
    },
    {
     "name": "stdout",
     "output_type": "stream",
     "text": [
      "110 / 128\n"
     ]
    },
    {
     "name": "stderr",
     "output_type": "stream",
     "text": [
      "21:54:47 - cmdstanpy - INFO - Chain [1] done processing\n",
      "21:54:47 - cmdstanpy - INFO - Chain [1] start processing\n",
      "21:54:47 - cmdstanpy - INFO - Chain [1] start processing\n",
      "21:54:47 - cmdstanpy - INFO - Chain [1] start processing\n",
      "21:54:47 - cmdstanpy - INFO - Chain [1] start processing\n",
      "21:54:47 - cmdstanpy - INFO - Chain [1] start processing\n",
      "21:54:47 - cmdstanpy - INFO - Chain [1] start processing\n",
      "21:54:47 - cmdstanpy - INFO - Chain [1] start processing\n",
      "21:54:47 - cmdstanpy - INFO - Chain [1] start processing\n",
      "21:54:48 - cmdstanpy - INFO - Chain [1] done processing\n",
      "21:54:49 - cmdstanpy - INFO - Chain [1] done processing\n",
      "21:54:49 - cmdstanpy - INFO - Chain [1] done processing\n",
      "21:54:49 - cmdstanpy - INFO - Chain [1] done processing\n",
      "21:54:49 - cmdstanpy - INFO - Chain [1] done processing\n",
      "21:54:49 - cmdstanpy - INFO - Chain [1] done processing\n",
      "21:54:49 - cmdstanpy - INFO - Chain [1] done processing\n",
      "21:54:49 - cmdstanpy - INFO - Chain [1] done processing\n",
      "21:54:49 - cmdstanpy - INFO - Chain [1] start processing\n"
     ]
    },
    {
     "name": "stdout",
     "output_type": "stream",
     "text": [
      "111 / 128\n"
     ]
    },
    {
     "name": "stderr",
     "output_type": "stream",
     "text": [
      "21:54:49 - cmdstanpy - INFO - Chain [1] done processing\n",
      "21:54:50 - cmdstanpy - INFO - Chain [1] start processing\n",
      "21:54:50 - cmdstanpy - INFO - Chain [1] start processing\n",
      "21:54:50 - cmdstanpy - INFO - Chain [1] start processing\n",
      "21:54:50 - cmdstanpy - INFO - Chain [1] start processing\n",
      "21:54:50 - cmdstanpy - INFO - Chain [1] start processing\n",
      "21:54:50 - cmdstanpy - INFO - Chain [1] start processing\n",
      "21:54:50 - cmdstanpy - INFO - Chain [1] start processing\n",
      "21:54:50 - cmdstanpy - INFO - Chain [1] start processing\n",
      "21:54:50 - cmdstanpy - INFO - Chain [1] done processing\n",
      "21:54:51 - cmdstanpy - INFO - Chain [1] done processing\n",
      "21:54:51 - cmdstanpy - INFO - Chain [1] done processing\n",
      "21:54:51 - cmdstanpy - INFO - Chain [1] done processing\n",
      "21:54:51 - cmdstanpy - INFO - Chain [1] done processing\n",
      "21:54:51 - cmdstanpy - INFO - Chain [1] done processing\n",
      "21:54:51 - cmdstanpy - INFO - Chain [1] done processing\n",
      "21:54:51 - cmdstanpy - INFO - Chain [1] done processing\n",
      "21:54:51 - cmdstanpy - INFO - Chain [1] start processing\n"
     ]
    },
    {
     "name": "stdout",
     "output_type": "stream",
     "text": [
      "112 / 128\n"
     ]
    },
    {
     "name": "stderr",
     "output_type": "stream",
     "text": [
      "21:54:52 - cmdstanpy - INFO - Chain [1] done processing\n",
      "21:54:52 - cmdstanpy - INFO - Chain [1] start processing\n",
      "21:54:52 - cmdstanpy - INFO - Chain [1] start processing\n",
      "21:54:52 - cmdstanpy - INFO - Chain [1] start processing\n",
      "21:54:52 - cmdstanpy - INFO - Chain [1] start processing\n",
      "21:54:52 - cmdstanpy - INFO - Chain [1] start processing\n",
      "21:54:52 - cmdstanpy - INFO - Chain [1] start processing\n",
      "21:54:52 - cmdstanpy - INFO - Chain [1] start processing\n",
      "21:54:52 - cmdstanpy - INFO - Chain [1] start processing\n",
      "21:54:53 - cmdstanpy - INFO - Chain [1] done processing\n",
      "21:54:53 - cmdstanpy - INFO - Chain [1] done processing\n",
      "21:54:53 - cmdstanpy - INFO - Chain [1] done processing\n",
      "21:54:53 - cmdstanpy - INFO - Chain [1] done processing\n",
      "21:54:54 - cmdstanpy - INFO - Chain [1] done processing\n",
      "21:54:54 - cmdstanpy - INFO - Chain [1] done processing\n",
      "21:54:54 - cmdstanpy - INFO - Chain [1] done processing\n",
      "21:54:54 - cmdstanpy - INFO - Chain [1] done processing\n",
      "21:54:54 - cmdstanpy - INFO - Chain [1] start processing\n"
     ]
    },
    {
     "name": "stdout",
     "output_type": "stream",
     "text": [
      "113 / 128\n"
     ]
    },
    {
     "name": "stderr",
     "output_type": "stream",
     "text": [
      "21:54:54 - cmdstanpy - INFO - Chain [1] done processing\n",
      "21:54:55 - cmdstanpy - INFO - Chain [1] start processing\n",
      "21:54:55 - cmdstanpy - INFO - Chain [1] start processing\n",
      "21:54:55 - cmdstanpy - INFO - Chain [1] start processing\n",
      "21:54:55 - cmdstanpy - INFO - Chain [1] start processing\n",
      "21:54:55 - cmdstanpy - INFO - Chain [1] start processing\n",
      "21:54:55 - cmdstanpy - INFO - Chain [1] start processing\n",
      "21:54:55 - cmdstanpy - INFO - Chain [1] start processing\n",
      "21:54:55 - cmdstanpy - INFO - Chain [1] start processing\n",
      "21:54:55 - cmdstanpy - INFO - Chain [1] done processing\n",
      "21:54:56 - cmdstanpy - INFO - Chain [1] done processing\n",
      "21:54:56 - cmdstanpy - INFO - Chain [1] done processing\n",
      "21:54:56 - cmdstanpy - INFO - Chain [1] done processing\n",
      "21:54:56 - cmdstanpy - INFO - Chain [1] done processing\n",
      "21:54:56 - cmdstanpy - INFO - Chain [1] done processing\n",
      "21:54:56 - cmdstanpy - INFO - Chain [1] done processing\n",
      "21:54:56 - cmdstanpy - INFO - Chain [1] done processing\n",
      "21:54:57 - cmdstanpy - INFO - Chain [1] start processing\n"
     ]
    },
    {
     "name": "stdout",
     "output_type": "stream",
     "text": [
      "114 / 128\n"
     ]
    },
    {
     "name": "stderr",
     "output_type": "stream",
     "text": [
      "21:54:57 - cmdstanpy - INFO - Chain [1] done processing\n",
      "21:54:57 - cmdstanpy - INFO - Chain [1] start processing\n",
      "21:54:57 - cmdstanpy - INFO - Chain [1] start processing\n",
      "21:54:57 - cmdstanpy - INFO - Chain [1] start processing\n",
      "21:54:57 - cmdstanpy - INFO - Chain [1] start processing\n",
      "21:54:57 - cmdstanpy - INFO - Chain [1] start processing\n",
      "21:54:57 - cmdstanpy - INFO - Chain [1] start processing\n",
      "21:54:57 - cmdstanpy - INFO - Chain [1] start processing\n",
      "21:54:57 - cmdstanpy - INFO - Chain [1] start processing\n",
      "21:54:58 - cmdstanpy - INFO - Chain [1] done processing\n",
      "21:54:59 - cmdstanpy - INFO - Chain [1] done processing\n",
      "21:54:59 - cmdstanpy - INFO - Chain [1] done processing\n",
      "21:54:59 - cmdstanpy - INFO - Chain [1] done processing\n",
      "21:54:59 - cmdstanpy - INFO - Chain [1] done processing\n",
      "21:54:59 - cmdstanpy - INFO - Chain [1] done processing\n",
      "21:54:59 - cmdstanpy - INFO - Chain [1] done processing\n",
      "21:54:59 - cmdstanpy - INFO - Chain [1] done processing\n",
      "21:54:59 - cmdstanpy - INFO - Chain [1] start processing\n"
     ]
    },
    {
     "name": "stdout",
     "output_type": "stream",
     "text": [
      "115 / 128\n"
     ]
    },
    {
     "name": "stderr",
     "output_type": "stream",
     "text": [
      "21:55:00 - cmdstanpy - INFO - Chain [1] done processing\n",
      "21:55:00 - cmdstanpy - INFO - Chain [1] start processing\n",
      "21:55:00 - cmdstanpy - INFO - Chain [1] start processing\n",
      "21:55:00 - cmdstanpy - INFO - Chain [1] start processing\n",
      "21:55:00 - cmdstanpy - INFO - Chain [1] start processing\n",
      "21:55:00 - cmdstanpy - INFO - Chain [1] start processing\n",
      "21:55:00 - cmdstanpy - INFO - Chain [1] start processing\n",
      "21:55:00 - cmdstanpy - INFO - Chain [1] start processing\n",
      "21:55:00 - cmdstanpy - INFO - Chain [1] start processing\n",
      "21:55:01 - cmdstanpy - INFO - Chain [1] done processing\n",
      "21:55:01 - cmdstanpy - INFO - Chain [1] done processing\n",
      "21:55:01 - cmdstanpy - INFO - Chain [1] done processing\n",
      "21:55:01 - cmdstanpy - INFO - Chain [1] done processing\n",
      "21:55:01 - cmdstanpy - INFO - Chain [1] done processing\n",
      "21:55:01 - cmdstanpy - INFO - Chain [1] done processing\n",
      "21:55:02 - cmdstanpy - INFO - Chain [1] done processing\n",
      "21:55:02 - cmdstanpy - INFO - Chain [1] done processing\n",
      "21:55:02 - cmdstanpy - INFO - Chain [1] start processing\n"
     ]
    },
    {
     "name": "stdout",
     "output_type": "stream",
     "text": [
      "116 / 128\n"
     ]
    },
    {
     "name": "stderr",
     "output_type": "stream",
     "text": [
      "21:55:02 - cmdstanpy - INFO - Chain [1] done processing\n",
      "21:55:02 - cmdstanpy - INFO - Chain [1] start processing\n",
      "21:55:02 - cmdstanpy - INFO - Chain [1] start processing\n",
      "21:55:02 - cmdstanpy - INFO - Chain [1] start processing\n",
      "21:55:02 - cmdstanpy - INFO - Chain [1] start processing\n",
      "21:55:02 - cmdstanpy - INFO - Chain [1] start processing\n",
      "21:55:02 - cmdstanpy - INFO - Chain [1] start processing\n",
      "21:55:03 - cmdstanpy - INFO - Chain [1] start processing\n",
      "21:55:03 - cmdstanpy - INFO - Chain [1] start processing\n",
      "21:55:03 - cmdstanpy - INFO - Chain [1] done processing\n",
      "21:55:04 - cmdstanpy - INFO - Chain [1] done processing\n",
      "21:55:04 - cmdstanpy - INFO - Chain [1] done processing\n",
      "21:55:04 - cmdstanpy - INFO - Chain [1] done processing\n",
      "21:55:04 - cmdstanpy - INFO - Chain [1] done processing\n",
      "21:55:04 - cmdstanpy - INFO - Chain [1] done processing\n",
      "21:55:04 - cmdstanpy - INFO - Chain [1] done processing\n",
      "21:55:04 - cmdstanpy - INFO - Chain [1] done processing\n",
      "21:55:04 - cmdstanpy - INFO - Chain [1] start processing\n"
     ]
    },
    {
     "name": "stdout",
     "output_type": "stream",
     "text": [
      "117 / 128\n"
     ]
    },
    {
     "name": "stderr",
     "output_type": "stream",
     "text": [
      "21:55:05 - cmdstanpy - INFO - Chain [1] done processing\n",
      "21:55:05 - cmdstanpy - INFO - Chain [1] start processing\n",
      "21:55:05 - cmdstanpy - INFO - Chain [1] start processing\n",
      "21:55:05 - cmdstanpy - INFO - Chain [1] start processing\n",
      "21:55:05 - cmdstanpy - INFO - Chain [1] start processing\n",
      "21:55:05 - cmdstanpy - INFO - Chain [1] start processing\n",
      "21:55:05 - cmdstanpy - INFO - Chain [1] start processing\n",
      "21:55:05 - cmdstanpy - INFO - Chain [1] start processing\n",
      "21:55:05 - cmdstanpy - INFO - Chain [1] start processing\n",
      "21:55:06 - cmdstanpy - INFO - Chain [1] done processing\n",
      "21:55:06 - cmdstanpy - INFO - Chain [1] done processing\n",
      "21:55:06 - cmdstanpy - INFO - Chain [1] done processing\n",
      "21:55:06 - cmdstanpy - INFO - Chain [1] done processing\n",
      "21:55:06 - cmdstanpy - INFO - Chain [1] done processing\n",
      "21:55:06 - cmdstanpy - INFO - Chain [1] done processing\n",
      "21:55:06 - cmdstanpy - INFO - Chain [1] done processing\n",
      "21:55:06 - cmdstanpy - INFO - Chain [1] done processing\n",
      "21:55:07 - cmdstanpy - INFO - Chain [1] start processing\n"
     ]
    },
    {
     "name": "stdout",
     "output_type": "stream",
     "text": [
      "118 / 128\n"
     ]
    },
    {
     "name": "stderr",
     "output_type": "stream",
     "text": [
      "21:55:07 - cmdstanpy - INFO - Chain [1] done processing\n",
      "21:55:07 - cmdstanpy - INFO - Chain [1] start processing\n",
      "21:55:07 - cmdstanpy - INFO - Chain [1] start processing\n",
      "21:55:07 - cmdstanpy - INFO - Chain [1] start processing\n",
      "21:55:07 - cmdstanpy - INFO - Chain [1] start processing\n",
      "21:55:07 - cmdstanpy - INFO - Chain [1] start processing\n",
      "21:55:07 - cmdstanpy - INFO - Chain [1] start processing\n",
      "21:55:07 - cmdstanpy - INFO - Chain [1] start processing\n",
      "21:55:07 - cmdstanpy - INFO - Chain [1] start processing\n",
      "21:55:08 - cmdstanpy - INFO - Chain [1] done processing\n",
      "21:55:09 - cmdstanpy - INFO - Chain [1] done processing\n",
      "21:55:09 - cmdstanpy - INFO - Chain [1] done processing\n",
      "21:55:09 - cmdstanpy - INFO - Chain [1] done processing\n",
      "21:55:09 - cmdstanpy - INFO - Chain [1] done processing\n",
      "21:55:09 - cmdstanpy - INFO - Chain [1] done processing\n",
      "21:55:09 - cmdstanpy - INFO - Chain [1] done processing\n",
      "21:55:09 - cmdstanpy - INFO - Chain [1] done processing\n",
      "21:55:09 - cmdstanpy - INFO - Chain [1] start processing\n"
     ]
    },
    {
     "name": "stdout",
     "output_type": "stream",
     "text": [
      "119 / 128\n"
     ]
    },
    {
     "name": "stderr",
     "output_type": "stream",
     "text": [
      "21:55:10 - cmdstanpy - INFO - Chain [1] done processing\n",
      "21:55:10 - cmdstanpy - INFO - Chain [1] start processing\n",
      "21:55:10 - cmdstanpy - INFO - Chain [1] start processing\n",
      "21:55:10 - cmdstanpy - INFO - Chain [1] start processing\n",
      "21:55:10 - cmdstanpy - INFO - Chain [1] start processing\n",
      "21:55:10 - cmdstanpy - INFO - Chain [1] start processing\n",
      "21:55:10 - cmdstanpy - INFO - Chain [1] start processing\n",
      "21:55:10 - cmdstanpy - INFO - Chain [1] start processing\n",
      "21:55:10 - cmdstanpy - INFO - Chain [1] start processing\n",
      "21:55:10 - cmdstanpy - INFO - Chain [1] done processing\n",
      "21:55:11 - cmdstanpy - INFO - Chain [1] done processing\n",
      "21:55:11 - cmdstanpy - INFO - Chain [1] done processing\n",
      "21:55:11 - cmdstanpy - INFO - Chain [1] done processing\n",
      "21:55:11 - cmdstanpy - INFO - Chain [1] done processing\n",
      "21:55:11 - cmdstanpy - INFO - Chain [1] done processing\n",
      "21:55:11 - cmdstanpy - INFO - Chain [1] done processing\n",
      "21:55:11 - cmdstanpy - INFO - Chain [1] done processing\n",
      "21:55:11 - cmdstanpy - INFO - Chain [1] start processing\n"
     ]
    },
    {
     "name": "stdout",
     "output_type": "stream",
     "text": [
      "120 / 128\n"
     ]
    },
    {
     "name": "stderr",
     "output_type": "stream",
     "text": [
      "21:55:12 - cmdstanpy - INFO - Chain [1] done processing\n",
      "21:55:12 - cmdstanpy - INFO - Chain [1] start processing\n",
      "21:55:12 - cmdstanpy - INFO - Chain [1] start processing\n",
      "21:55:12 - cmdstanpy - INFO - Chain [1] start processing\n",
      "21:55:12 - cmdstanpy - INFO - Chain [1] start processing\n",
      "21:55:12 - cmdstanpy - INFO - Chain [1] start processing\n",
      "21:55:12 - cmdstanpy - INFO - Chain [1] start processing\n",
      "21:55:12 - cmdstanpy - INFO - Chain [1] start processing\n",
      "21:55:12 - cmdstanpy - INFO - Chain [1] start processing\n",
      "21:55:13 - cmdstanpy - INFO - Chain [1] done processing\n",
      "21:55:13 - cmdstanpy - INFO - Chain [1] done processing\n",
      "21:55:13 - cmdstanpy - INFO - Chain [1] done processing\n",
      "21:55:13 - cmdstanpy - INFO - Chain [1] done processing\n",
      "21:55:13 - cmdstanpy - INFO - Chain [1] done processing\n",
      "21:55:13 - cmdstanpy - INFO - Chain [1] done processing\n",
      "21:55:13 - cmdstanpy - INFO - Chain [1] done processing\n",
      "21:55:14 - cmdstanpy - INFO - Chain [1] done processing\n",
      "21:55:14 - cmdstanpy - INFO - Chain [1] start processing\n"
     ]
    },
    {
     "name": "stdout",
     "output_type": "stream",
     "text": [
      "121 / 128\n"
     ]
    },
    {
     "name": "stderr",
     "output_type": "stream",
     "text": [
      "21:55:14 - cmdstanpy - INFO - Chain [1] done processing\n",
      "21:55:14 - cmdstanpy - INFO - Chain [1] start processing\n",
      "21:55:14 - cmdstanpy - INFO - Chain [1] start processing\n",
      "21:55:14 - cmdstanpy - INFO - Chain [1] start processing\n",
      "21:55:14 - cmdstanpy - INFO - Chain [1] start processing\n",
      "21:55:14 - cmdstanpy - INFO - Chain [1] start processing\n",
      "21:55:14 - cmdstanpy - INFO - Chain [1] start processing\n",
      "21:55:14 - cmdstanpy - INFO - Chain [1] start processing\n",
      "21:55:14 - cmdstanpy - INFO - Chain [1] start processing\n",
      "21:55:15 - cmdstanpy - INFO - Chain [1] done processing\n",
      "21:55:16 - cmdstanpy - INFO - Chain [1] done processing\n",
      "21:55:16 - cmdstanpy - INFO - Chain [1] done processing\n",
      "21:55:16 - cmdstanpy - INFO - Chain [1] done processing\n",
      "21:55:16 - cmdstanpy - INFO - Chain [1] done processing\n",
      "21:55:16 - cmdstanpy - INFO - Chain [1] done processing\n",
      "21:55:16 - cmdstanpy - INFO - Chain [1] done processing\n",
      "21:55:16 - cmdstanpy - INFO - Chain [1] done processing\n",
      "21:55:16 - cmdstanpy - INFO - Chain [1] start processing\n"
     ]
    },
    {
     "name": "stdout",
     "output_type": "stream",
     "text": [
      "122 / 128\n"
     ]
    },
    {
     "name": "stderr",
     "output_type": "stream",
     "text": [
      "21:55:17 - cmdstanpy - INFO - Chain [1] done processing\n",
      "21:55:17 - cmdstanpy - INFO - Chain [1] start processing\n",
      "21:55:17 - cmdstanpy - INFO - Chain [1] start processing\n",
      "21:55:17 - cmdstanpy - INFO - Chain [1] start processing\n",
      "21:55:17 - cmdstanpy - INFO - Chain [1] start processing\n",
      "21:55:17 - cmdstanpy - INFO - Chain [1] start processing\n",
      "21:55:17 - cmdstanpy - INFO - Chain [1] start processing\n",
      "21:55:17 - cmdstanpy - INFO - Chain [1] start processing\n",
      "21:55:17 - cmdstanpy - INFO - Chain [1] start processing\n",
      "21:55:18 - cmdstanpy - INFO - Chain [1] done processing\n",
      "21:55:18 - cmdstanpy - INFO - Chain [1] done processing\n",
      "21:55:18 - cmdstanpy - INFO - Chain [1] done processing\n",
      "21:55:18 - cmdstanpy - INFO - Chain [1] done processing\n",
      "21:55:18 - cmdstanpy - INFO - Chain [1] done processing\n",
      "21:55:19 - cmdstanpy - INFO - Chain [1] done processing\n",
      "21:55:19 - cmdstanpy - INFO - Chain [1] done processing\n",
      "21:55:19 - cmdstanpy - INFO - Chain [1] done processing\n",
      "21:55:19 - cmdstanpy - INFO - Chain [1] start processing\n"
     ]
    },
    {
     "name": "stdout",
     "output_type": "stream",
     "text": [
      "123 / 128\n"
     ]
    },
    {
     "name": "stderr",
     "output_type": "stream",
     "text": [
      "21:55:19 - cmdstanpy - INFO - Chain [1] done processing\n",
      "21:55:19 - cmdstanpy - INFO - Chain [1] start processing\n",
      "21:55:19 - cmdstanpy - INFO - Chain [1] start processing\n",
      "21:55:19 - cmdstanpy - INFO - Chain [1] start processing\n",
      "21:55:19 - cmdstanpy - INFO - Chain [1] start processing\n",
      "21:55:19 - cmdstanpy - INFO - Chain [1] start processing\n",
      "21:55:19 - cmdstanpy - INFO - Chain [1] start processing\n",
      "21:55:19 - cmdstanpy - INFO - Chain [1] start processing\n",
      "21:55:19 - cmdstanpy - INFO - Chain [1] start processing\n",
      "21:55:20 - cmdstanpy - INFO - Chain [1] done processing\n",
      "21:55:21 - cmdstanpy - INFO - Chain [1] done processing\n",
      "21:55:21 - cmdstanpy - INFO - Chain [1] done processing\n",
      "21:55:21 - cmdstanpy - INFO - Chain [1] done processing\n",
      "21:55:21 - cmdstanpy - INFO - Chain [1] done processing\n",
      "21:55:21 - cmdstanpy - INFO - Chain [1] done processing\n",
      "21:55:21 - cmdstanpy - INFO - Chain [1] done processing\n",
      "21:55:21 - cmdstanpy - INFO - Chain [1] done processing\n",
      "21:55:21 - cmdstanpy - INFO - Chain [1] start processing\n"
     ]
    },
    {
     "name": "stdout",
     "output_type": "stream",
     "text": [
      "124 / 128\n"
     ]
    },
    {
     "name": "stderr",
     "output_type": "stream",
     "text": [
      "21:55:22 - cmdstanpy - INFO - Chain [1] done processing\n",
      "21:55:22 - cmdstanpy - INFO - Chain [1] start processing\n",
      "21:55:22 - cmdstanpy - INFO - Chain [1] start processing\n",
      "21:55:22 - cmdstanpy - INFO - Chain [1] start processing\n",
      "21:55:22 - cmdstanpy - INFO - Chain [1] start processing\n",
      "21:55:22 - cmdstanpy - INFO - Chain [1] start processing\n",
      "21:55:22 - cmdstanpy - INFO - Chain [1] start processing\n",
      "21:55:22 - cmdstanpy - INFO - Chain [1] start processing\n",
      "21:55:22 - cmdstanpy - INFO - Chain [1] start processing\n",
      "21:55:23 - cmdstanpy - INFO - Chain [1] done processing\n",
      "21:55:24 - cmdstanpy - INFO - Chain [1] done processing\n",
      "21:55:24 - cmdstanpy - INFO - Chain [1] done processing\n",
      "21:55:24 - cmdstanpy - INFO - Chain [1] done processing\n",
      "21:55:24 - cmdstanpy - INFO - Chain [1] done processing\n",
      "21:55:24 - cmdstanpy - INFO - Chain [1] done processing\n",
      "21:55:24 - cmdstanpy - INFO - Chain [1] done processing\n",
      "21:55:24 - cmdstanpy - INFO - Chain [1] done processing\n",
      "21:55:24 - cmdstanpy - INFO - Chain [1] start processing\n"
     ]
    },
    {
     "name": "stdout",
     "output_type": "stream",
     "text": [
      "125 / 128\n"
     ]
    },
    {
     "name": "stderr",
     "output_type": "stream",
     "text": [
      "21:55:25 - cmdstanpy - INFO - Chain [1] done processing\n",
      "21:55:25 - cmdstanpy - INFO - Chain [1] start processing\n",
      "21:55:25 - cmdstanpy - INFO - Chain [1] start processing\n",
      "21:55:25 - cmdstanpy - INFO - Chain [1] start processing\n",
      "21:55:25 - cmdstanpy - INFO - Chain [1] start processing\n",
      "21:55:25 - cmdstanpy - INFO - Chain [1] start processing\n",
      "21:55:25 - cmdstanpy - INFO - Chain [1] start processing\n",
      "21:55:25 - cmdstanpy - INFO - Chain [1] start processing\n",
      "21:55:25 - cmdstanpy - INFO - Chain [1] start processing\n",
      "21:55:26 - cmdstanpy - INFO - Chain [1] done processing\n",
      "21:55:26 - cmdstanpy - INFO - Chain [1] done processing\n",
      "21:55:26 - cmdstanpy - INFO - Chain [1] done processing\n",
      "21:55:26 - cmdstanpy - INFO - Chain [1] done processing\n",
      "21:55:26 - cmdstanpy - INFO - Chain [1] done processing\n",
      "21:55:26 - cmdstanpy - INFO - Chain [1] done processing\n",
      "21:55:26 - cmdstanpy - INFO - Chain [1] done processing\n",
      "21:55:26 - cmdstanpy - INFO - Chain [1] done processing\n",
      "21:55:27 - cmdstanpy - INFO - Chain [1] start processing\n"
     ]
    },
    {
     "name": "stdout",
     "output_type": "stream",
     "text": [
      "126 / 128\n"
     ]
    },
    {
     "name": "stderr",
     "output_type": "stream",
     "text": [
      "21:55:27 - cmdstanpy - INFO - Chain [1] done processing\n",
      "21:55:27 - cmdstanpy - INFO - Chain [1] start processing\n",
      "21:55:27 - cmdstanpy - INFO - Chain [1] start processing\n",
      "21:55:27 - cmdstanpy - INFO - Chain [1] start processing\n",
      "21:55:27 - cmdstanpy - INFO - Chain [1] start processing\n",
      "21:55:27 - cmdstanpy - INFO - Chain [1] start processing\n",
      "21:55:27 - cmdstanpy - INFO - Chain [1] start processing\n",
      "21:55:27 - cmdstanpy - INFO - Chain [1] start processing\n",
      "21:55:27 - cmdstanpy - INFO - Chain [1] start processing\n",
      "21:55:28 - cmdstanpy - INFO - Chain [1] done processing\n",
      "21:55:29 - cmdstanpy - INFO - Chain [1] done processing\n",
      "21:55:29 - cmdstanpy - INFO - Chain [1] done processing\n",
      "21:55:29 - cmdstanpy - INFO - Chain [1] done processing\n",
      "21:55:29 - cmdstanpy - INFO - Chain [1] done processing\n",
      "21:55:29 - cmdstanpy - INFO - Chain [1] done processing\n",
      "21:55:29 - cmdstanpy - INFO - Chain [1] done processing\n",
      "21:55:29 - cmdstanpy - INFO - Chain [1] done processing\n",
      "21:55:29 - cmdstanpy - INFO - Chain [1] start processing\n"
     ]
    },
    {
     "name": "stdout",
     "output_type": "stream",
     "text": [
      "127 / 128\n"
     ]
    },
    {
     "name": "stderr",
     "output_type": "stream",
     "text": [
      "21:55:30 - cmdstanpy - INFO - Chain [1] done processing\n",
      "21:55:30 - cmdstanpy - INFO - Chain [1] start processing\n",
      "21:55:30 - cmdstanpy - INFO - Chain [1] start processing\n",
      "21:55:30 - cmdstanpy - INFO - Chain [1] start processing\n",
      "21:55:30 - cmdstanpy - INFO - Chain [1] start processing\n",
      "21:55:30 - cmdstanpy - INFO - Chain [1] start processing\n",
      "21:55:30 - cmdstanpy - INFO - Chain [1] start processing\n",
      "21:55:30 - cmdstanpy - INFO - Chain [1] start processing\n",
      "21:55:30 - cmdstanpy - INFO - Chain [1] start processing\n",
      "21:55:30 - cmdstanpy - INFO - Chain [1] done processing\n",
      "21:55:31 - cmdstanpy - INFO - Chain [1] done processing\n",
      "21:55:31 - cmdstanpy - INFO - Chain [1] done processing\n",
      "21:55:31 - cmdstanpy - INFO - Chain [1] done processing\n",
      "21:55:31 - cmdstanpy - INFO - Chain [1] done processing\n",
      "21:55:31 - cmdstanpy - INFO - Chain [1] done processing\n",
      "21:55:31 - cmdstanpy - INFO - Chain [1] done processing\n",
      "21:55:31 - cmdstanpy - INFO - Chain [1] done processing\n",
      "21:55:31 - cmdstanpy - INFO - Chain [1] start processing\n"
     ]
    },
    {
     "name": "stdout",
     "output_type": "stream",
     "text": [
      "128 / 128\n"
     ]
    },
    {
     "name": "stderr",
     "output_type": "stream",
     "text": [
      "21:55:32 - cmdstanpy - INFO - Chain [1] done processing\n",
      "21:55:32 - cmdstanpy - INFO - Chain [1] start processing\n",
      "21:55:32 - cmdstanpy - INFO - Chain [1] start processing\n",
      "21:55:32 - cmdstanpy - INFO - Chain [1] start processing\n",
      "21:55:32 - cmdstanpy - INFO - Chain [1] start processing\n",
      "21:55:32 - cmdstanpy - INFO - Chain [1] start processing\n",
      "21:55:32 - cmdstanpy - INFO - Chain [1] start processing\n",
      "21:55:32 - cmdstanpy - INFO - Chain [1] start processing\n",
      "21:55:32 - cmdstanpy - INFO - Chain [1] start processing\n",
      "21:55:33 - cmdstanpy - INFO - Chain [1] done processing\n",
      "21:55:33 - cmdstanpy - INFO - Chain [1] done processing\n",
      "21:55:33 - cmdstanpy - INFO - Chain [1] done processing\n",
      "21:55:33 - cmdstanpy - INFO - Chain [1] done processing\n",
      "21:55:34 - cmdstanpy - INFO - Chain [1] done processing\n",
      "21:55:34 - cmdstanpy - INFO - Chain [1] done processing\n",
      "21:55:34 - cmdstanpy - INFO - Chain [1] done processing\n",
      "21:55:34 - cmdstanpy - INFO - Chain [1] done processing\n"
     ]
    }
   ],
   "source": [
    "#Store the results\n",
    "rmse = []\n",
    "\n",
    "#Loop\n",
    "i = 1\n",
    "for params in grid:\n",
    "    print(f\"{i} / {len(list(grid))}\")\n",
    "    # Model\n",
    "    m = Prophet(holidays = holidays,\n",
    "            seasonality_mode = params['seasonality_mode'],\n",
    "            seasonality_prior_scale = params['seasonality_prior_scale'],\n",
    "            holidays_prior_scale = params['holidays_prior_scale'],\n",
    "            changepoint_prior_scale = params['changepoint_prior_scale'])\n",
    "    m.add_regressor('Christmas')\n",
    "    m.add_regressor('Temperature')\n",
    "    m.add_regressor('Marketing')\n",
    "    m.fit(df)\n",
    "    \n",
    "    # Cross Validation4\n",
    "    df_cv = cross_validation(m, \n",
    "                        horizon='31 days',\n",
    "                        period='16 days',\n",
    "                        initial= '2043 days',\n",
    "                        parallel = 'processes')\n",
    "\n",
    "    # Measure error and store the result\n",
    "    error = performance_metrics(df_cv)[\"rmse\"].mean()\n",
    "    rmse.append(error)\n",
    "    i += 1"
   ]
  },
  {
   "cell_type": "code",
   "execution_count": 50,
   "metadata": {},
   "outputs": [
    {
     "data": {
      "text/html": [
       "<div>\n",
       "<style scoped>\n",
       "    .dataframe tbody tr th:only-of-type {\n",
       "        vertical-align: middle;\n",
       "    }\n",
       "\n",
       "    .dataframe tbody tr th {\n",
       "        vertical-align: top;\n",
       "    }\n",
       "\n",
       "    .dataframe thead th {\n",
       "        text-align: right;\n",
       "    }\n",
       "</style>\n",
       "<table border=\"1\" class=\"dataframe\">\n",
       "  <thead>\n",
       "    <tr style=\"text-align: right;\">\n",
       "      <th></th>\n",
       "      <th>changepoint_prior_scale</th>\n",
       "      <th>holidays_prior_scale</th>\n",
       "      <th>seasonality_mode</th>\n",
       "      <th>seasonality_prior_scale</th>\n",
       "      <th>rmse</th>\n",
       "    </tr>\n",
       "  </thead>\n",
       "  <tbody>\n",
       "    <tr>\n",
       "      <th>0</th>\n",
       "      <td>0.005</td>\n",
       "      <td>5</td>\n",
       "      <td>additive</td>\n",
       "      <td>1</td>\n",
       "      <td>53.319318</td>\n",
       "    </tr>\n",
       "    <tr>\n",
       "      <th>1</th>\n",
       "      <td>0.005</td>\n",
       "      <td>5</td>\n",
       "      <td>additive</td>\n",
       "      <td>5</td>\n",
       "      <td>53.334848</td>\n",
       "    </tr>\n",
       "    <tr>\n",
       "      <th>2</th>\n",
       "      <td>0.005</td>\n",
       "      <td>5</td>\n",
       "      <td>additive</td>\n",
       "      <td>10</td>\n",
       "      <td>53.412949</td>\n",
       "    </tr>\n",
       "    <tr>\n",
       "      <th>3</th>\n",
       "      <td>0.005</td>\n",
       "      <td>5</td>\n",
       "      <td>additive</td>\n",
       "      <td>20</td>\n",
       "      <td>52.978670</td>\n",
       "    </tr>\n",
       "    <tr>\n",
       "      <th>4</th>\n",
       "      <td>0.005</td>\n",
       "      <td>5</td>\n",
       "      <td>multiplicative</td>\n",
       "      <td>1</td>\n",
       "      <td>51.272743</td>\n",
       "    </tr>\n",
       "    <tr>\n",
       "      <th>...</th>\n",
       "      <td>...</td>\n",
       "      <td>...</td>\n",
       "      <td>...</td>\n",
       "      <td>...</td>\n",
       "      <td>...</td>\n",
       "    </tr>\n",
       "    <tr>\n",
       "      <th>123</th>\n",
       "      <td>0.100</td>\n",
       "      <td>25</td>\n",
       "      <td>additive</td>\n",
       "      <td>20</td>\n",
       "      <td>51.604115</td>\n",
       "    </tr>\n",
       "    <tr>\n",
       "      <th>124</th>\n",
       "      <td>0.100</td>\n",
       "      <td>25</td>\n",
       "      <td>multiplicative</td>\n",
       "      <td>1</td>\n",
       "      <td>55.566767</td>\n",
       "    </tr>\n",
       "    <tr>\n",
       "      <th>125</th>\n",
       "      <td>0.100</td>\n",
       "      <td>25</td>\n",
       "      <td>multiplicative</td>\n",
       "      <td>5</td>\n",
       "      <td>55.579420</td>\n",
       "    </tr>\n",
       "    <tr>\n",
       "      <th>126</th>\n",
       "      <td>0.100</td>\n",
       "      <td>25</td>\n",
       "      <td>multiplicative</td>\n",
       "      <td>10</td>\n",
       "      <td>55.786102</td>\n",
       "    </tr>\n",
       "    <tr>\n",
       "      <th>127</th>\n",
       "      <td>0.100</td>\n",
       "      <td>25</td>\n",
       "      <td>multiplicative</td>\n",
       "      <td>20</td>\n",
       "      <td>55.089683</td>\n",
       "    </tr>\n",
       "  </tbody>\n",
       "</table>\n",
       "<p>128 rows × 5 columns</p>\n",
       "</div>"
      ],
      "text/plain": [
       "     changepoint_prior_scale  holidays_prior_scale seasonality_mode  \\\n",
       "0                      0.005                     5         additive   \n",
       "1                      0.005                     5         additive   \n",
       "2                      0.005                     5         additive   \n",
       "3                      0.005                     5         additive   \n",
       "4                      0.005                     5   multiplicative   \n",
       "..                       ...                   ...              ...   \n",
       "123                    0.100                    25         additive   \n",
       "124                    0.100                    25   multiplicative   \n",
       "125                    0.100                    25   multiplicative   \n",
       "126                    0.100                    25   multiplicative   \n",
       "127                    0.100                    25   multiplicative   \n",
       "\n",
       "     seasonality_prior_scale       rmse  \n",
       "0                          1  53.319318  \n",
       "1                          5  53.334848  \n",
       "2                         10  53.412949  \n",
       "3                         20  52.978670  \n",
       "4                          1  51.272743  \n",
       "..                       ...        ...  \n",
       "123                       20  51.604115  \n",
       "124                        1  55.566767  \n",
       "125                        5  55.579420  \n",
       "126                       10  55.786102  \n",
       "127                       20  55.089683  \n",
       "\n",
       "[128 rows x 5 columns]"
      ]
     },
     "execution_count": 50,
     "metadata": {},
     "output_type": "execute_result"
    }
   ],
   "source": [
    "#Check the results\n",
    "tuning_results = pd.DataFrame(grid)\n",
    "tuning_results['rmse'] = rmse\n",
    "tuning_results"
   ]
  },
  {
   "cell_type": "code",
   "execution_count": 56,
   "metadata": {},
   "outputs": [],
   "source": [
    "#Export best parameters\n",
    "best_params = tuning_results[tuning_results.rmse == tuning_results.rmse.min()].transpose()\n",
    "best_params.to_csv(\"../Forecasting Product/20240123_best_params_prophet.csv\")"
   ]
  },
  {
   "cell_type": "code",
   "execution_count": null,
   "metadata": {},
   "outputs": [],
   "source": []
  }
 ],
 "metadata": {
  "colab": {
   "authorship_tag": "ABX9TyOlsoHj6nYu36tGWtPp2gCd",
   "mount_file_id": "1k9w9DPxE9KLHOzvjytmkU5jqiulOkeU_",
   "name": "Facebook Prophet - Forecast.ipynb",
   "provenance": []
  },
  "kernelspec": {
   "display_name": "Python 3 (ipykernel)",
   "language": "python",
   "name": "python3"
  },
  "language_info": {
   "codemirror_mode": {
    "name": "ipython",
    "version": 3
   },
   "file_extension": ".py",
   "mimetype": "text/x-python",
   "name": "python",
   "nbconvert_exporter": "python",
   "pygments_lexer": "ipython3",
   "version": "3.11.5"
  }
 },
 "nbformat": 4,
 "nbformat_minor": 4
}
